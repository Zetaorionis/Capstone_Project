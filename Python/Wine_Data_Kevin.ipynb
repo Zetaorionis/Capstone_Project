{
 "cells": [
  {
   "cell_type": "code",
   "execution_count": 2,
   "metadata": {},
   "outputs": [],
   "source": [
    "#  Import dependencies\n",
    "import pandas as pd\n",
    "import re\n"
   ]
  },
  {
   "cell_type": "code",
   "execution_count": 3,
   "metadata": {},
   "outputs": [
    {
     "data": {
      "text/html": [
       "<div>\n",
       "<style scoped>\n",
       "    .dataframe tbody tr th:only-of-type {\n",
       "        vertical-align: middle;\n",
       "    }\n",
       "\n",
       "    .dataframe tbody tr th {\n",
       "        vertical-align: top;\n",
       "    }\n",
       "\n",
       "    .dataframe thead th {\n",
       "        text-align: right;\n",
       "    }\n",
       "</style>\n",
       "<table border=\"1\" class=\"dataframe\">\n",
       "  <thead>\n",
       "    <tr style=\"text-align: right;\">\n",
       "      <th></th>\n",
       "      <th>country</th>\n",
       "      <th>description</th>\n",
       "      <th>points</th>\n",
       "      <th>price</th>\n",
       "      <th>province</th>\n",
       "      <th>region</th>\n",
       "      <th>title</th>\n",
       "      <th>variety</th>\n",
       "      <th>winery</th>\n",
       "      <th>rating_category</th>\n",
       "      <th>type</th>\n",
       "    </tr>\n",
       "  </thead>\n",
       "  <tbody>\n",
       "    <tr>\n",
       "      <th>0</th>\n",
       "      <td>US</td>\n",
       "      <td>Tart and snappy, the flavors of lime flesh and...</td>\n",
       "      <td>87</td>\n",
       "      <td>14</td>\n",
       "      <td>Oregon</td>\n",
       "      <td>Willamette Valley</td>\n",
       "      <td>Rainstorm 2013 Pinot Gris (Willamette Valley)</td>\n",
       "      <td>Pinot Gris</td>\n",
       "      <td>Rainstorm</td>\n",
       "      <td>Good</td>\n",
       "      <td>White</td>\n",
       "    </tr>\n",
       "    <tr>\n",
       "      <th>1</th>\n",
       "      <td>US</td>\n",
       "      <td>Pineapple rind, lemon pith and orange blossom ...</td>\n",
       "      <td>87</td>\n",
       "      <td>13</td>\n",
       "      <td>Michigan</td>\n",
       "      <td>Lake Michigan Shore</td>\n",
       "      <td>St. Julian 2013 Reserve Late Harvest Riesling ...</td>\n",
       "      <td>Riesling</td>\n",
       "      <td>St. Julian</td>\n",
       "      <td>Good</td>\n",
       "      <td>White</td>\n",
       "    </tr>\n",
       "    <tr>\n",
       "      <th>2</th>\n",
       "      <td>US</td>\n",
       "      <td>Much like the regular bottling from 2012, this...</td>\n",
       "      <td>87</td>\n",
       "      <td>65</td>\n",
       "      <td>Oregon</td>\n",
       "      <td>Willamette Valley</td>\n",
       "      <td>Sweet Cheeks 2012 Vintner's Reserve Wild Child...</td>\n",
       "      <td>Pinot Noir</td>\n",
       "      <td>Sweet Cheeks</td>\n",
       "      <td>Good</td>\n",
       "      <td>Red</td>\n",
       "    </tr>\n",
       "    <tr>\n",
       "      <th>3</th>\n",
       "      <td>France</td>\n",
       "      <td>This has great depth of flavor with its fresh ...</td>\n",
       "      <td>87</td>\n",
       "      <td>27</td>\n",
       "      <td>Alsace</td>\n",
       "      <td>Alsace</td>\n",
       "      <td>Jean-Baptiste Adam 2012 Les Natures Pinot Gris...</td>\n",
       "      <td>Pinot Gris</td>\n",
       "      <td>Jean-Baptiste Adam</td>\n",
       "      <td>Good</td>\n",
       "      <td>White</td>\n",
       "    </tr>\n",
       "    <tr>\n",
       "      <th>4</th>\n",
       "      <td>US</td>\n",
       "      <td>Soft, supple plum envelopes an oaky structure ...</td>\n",
       "      <td>87</td>\n",
       "      <td>19</td>\n",
       "      <td>California</td>\n",
       "      <td>Napa Valley</td>\n",
       "      <td>Kirkland Signature 2011 Mountain Cuvée Caberne...</td>\n",
       "      <td>Cabernet Sauvignon</td>\n",
       "      <td>Kirkland Signature</td>\n",
       "      <td>Good</td>\n",
       "      <td>Red</td>\n",
       "    </tr>\n",
       "  </tbody>\n",
       "</table>\n",
       "</div>"
      ],
      "text/plain": [
       "  country                                        description  points  price  \\\n",
       "0      US  Tart and snappy, the flavors of lime flesh and...      87     14   \n",
       "1      US  Pineapple rind, lemon pith and orange blossom ...      87     13   \n",
       "2      US  Much like the regular bottling from 2012, this...      87     65   \n",
       "3  France  This has great depth of flavor with its fresh ...      87     27   \n",
       "4      US  Soft, supple plum envelopes an oaky structure ...      87     19   \n",
       "\n",
       "     province               region  \\\n",
       "0      Oregon    Willamette Valley   \n",
       "1    Michigan  Lake Michigan Shore   \n",
       "2      Oregon    Willamette Valley   \n",
       "3      Alsace               Alsace   \n",
       "4  California          Napa Valley   \n",
       "\n",
       "                                               title             variety  \\\n",
       "0      Rainstorm 2013 Pinot Gris (Willamette Valley)          Pinot Gris   \n",
       "1  St. Julian 2013 Reserve Late Harvest Riesling ...            Riesling   \n",
       "2  Sweet Cheeks 2012 Vintner's Reserve Wild Child...          Pinot Noir   \n",
       "3  Jean-Baptiste Adam 2012 Les Natures Pinot Gris...          Pinot Gris   \n",
       "4  Kirkland Signature 2011 Mountain Cuvée Caberne...  Cabernet Sauvignon   \n",
       "\n",
       "               winery rating_category   type  \n",
       "0           Rainstorm            Good  White  \n",
       "1          St. Julian            Good  White  \n",
       "2        Sweet Cheeks            Good    Red  \n",
       "3  Jean-Baptiste Adam            Good  White  \n",
       "4  Kirkland Signature            Good    Red  "
      ]
     },
     "execution_count": 3,
     "metadata": {},
     "output_type": "execute_result"
    }
   ],
   "source": [
    "#Read in data\n",
    "wine_df = pd.read_csv(\"clean_wine_data_final.csv\")\n",
    "wine_df.head()"
   ]
  },
  {
   "cell_type": "code",
   "execution_count": 4,
   "metadata": {},
   "outputs": [
    {
     "name": "stdout",
     "output_type": "stream",
     "text": [
      "<class 'pandas.core.frame.DataFrame'>\n",
      "RangeIndex: 76736 entries, 0 to 76735\n",
      "Data columns (total 11 columns):\n",
      " #   Column           Non-Null Count  Dtype \n",
      "---  ------           --------------  ----- \n",
      " 0   country          76736 non-null  object\n",
      " 1   description      76736 non-null  object\n",
      " 2   points           76736 non-null  int64 \n",
      " 3   price            76736 non-null  int64 \n",
      " 4   province         76736 non-null  object\n",
      " 5   region           76736 non-null  object\n",
      " 6   title            76736 non-null  object\n",
      " 7   variety          76736 non-null  object\n",
      " 8   winery           76736 non-null  object\n",
      " 9   rating_category  76736 non-null  object\n",
      " 10  type             73897 non-null  object\n",
      "dtypes: int64(2), object(9)\n",
      "memory usage: 6.4+ MB\n"
     ]
    }
   ],
   "source": [
    "wine_df.info()"
   ]
  },
  {
   "cell_type": "markdown",
   "metadata": {},
   "source": [
    "## Add Rose to Type"
   ]
  },
  {
   "cell_type": "code",
   "execution_count": 5,
   "metadata": {},
   "outputs": [
    {
     "data": {
      "text/plain": [
       "type\n",
       "Red            39062\n",
       "White          17124\n",
       "Red Blend      14036\n",
       "White Blend     1838\n",
       "Sparkling       1837\n",
       "Name: count, dtype: int64"
      ]
     },
     "execution_count": 5,
     "metadata": {},
     "output_type": "execute_result"
    }
   ],
   "source": [
    "wine_df['type'].value_counts()"
   ]
  },
  {
   "cell_type": "code",
   "execution_count": 7,
   "metadata": {},
   "outputs": [
    {
     "data": {
      "text/plain": [
       "variety\n",
       "Rosé    2839\n",
       "Name: count, dtype: int64"
      ]
     },
     "execution_count": 7,
     "metadata": {},
     "output_type": "execute_result"
    }
   ],
   "source": [
    "null_type = wine_df.loc[wine_df['type'].isnull()]\n",
    "null_type['variety'].value_counts()"
   ]
  },
  {
   "cell_type": "code",
   "execution_count": 12,
   "metadata": {},
   "outputs": [
    {
     "data": {
      "text/html": [
       "<div>\n",
       "<style scoped>\n",
       "    .dataframe tbody tr th:only-of-type {\n",
       "        vertical-align: middle;\n",
       "    }\n",
       "\n",
       "    .dataframe tbody tr th {\n",
       "        vertical-align: top;\n",
       "    }\n",
       "\n",
       "    .dataframe thead th {\n",
       "        text-align: right;\n",
       "    }\n",
       "</style>\n",
       "<table border=\"1\" class=\"dataframe\">\n",
       "  <thead>\n",
       "    <tr style=\"text-align: right;\">\n",
       "      <th></th>\n",
       "      <th>country</th>\n",
       "      <th>description</th>\n",
       "      <th>points</th>\n",
       "      <th>price</th>\n",
       "      <th>province</th>\n",
       "      <th>region</th>\n",
       "      <th>title</th>\n",
       "      <th>variety</th>\n",
       "      <th>winery</th>\n",
       "      <th>rating_category</th>\n",
       "      <th>type</th>\n",
       "    </tr>\n",
       "  </thead>\n",
       "  <tbody>\n",
       "    <tr>\n",
       "      <th>0</th>\n",
       "      <td>US</td>\n",
       "      <td>Tart and snappy, the flavors of lime flesh and...</td>\n",
       "      <td>87</td>\n",
       "      <td>14</td>\n",
       "      <td>Oregon</td>\n",
       "      <td>Willamette Valley</td>\n",
       "      <td>Rainstorm 2013 Pinot Gris (Willamette Valley)</td>\n",
       "      <td>Pinot Gris</td>\n",
       "      <td>Rainstorm</td>\n",
       "      <td>Good</td>\n",
       "      <td>White</td>\n",
       "    </tr>\n",
       "    <tr>\n",
       "      <th>1</th>\n",
       "      <td>US</td>\n",
       "      <td>Pineapple rind, lemon pith and orange blossom ...</td>\n",
       "      <td>87</td>\n",
       "      <td>13</td>\n",
       "      <td>Michigan</td>\n",
       "      <td>Lake Michigan Shore</td>\n",
       "      <td>St. Julian 2013 Reserve Late Harvest Riesling ...</td>\n",
       "      <td>Riesling</td>\n",
       "      <td>St. Julian</td>\n",
       "      <td>Good</td>\n",
       "      <td>White</td>\n",
       "    </tr>\n",
       "    <tr>\n",
       "      <th>2</th>\n",
       "      <td>US</td>\n",
       "      <td>Much like the regular bottling from 2012, this...</td>\n",
       "      <td>87</td>\n",
       "      <td>65</td>\n",
       "      <td>Oregon</td>\n",
       "      <td>Willamette Valley</td>\n",
       "      <td>Sweet Cheeks 2012 Vintner's Reserve Wild Child...</td>\n",
       "      <td>Pinot Noir</td>\n",
       "      <td>Sweet Cheeks</td>\n",
       "      <td>Good</td>\n",
       "      <td>Red</td>\n",
       "    </tr>\n",
       "    <tr>\n",
       "      <th>3</th>\n",
       "      <td>France</td>\n",
       "      <td>This has great depth of flavor with its fresh ...</td>\n",
       "      <td>87</td>\n",
       "      <td>27</td>\n",
       "      <td>Alsace</td>\n",
       "      <td>Alsace</td>\n",
       "      <td>Jean-Baptiste Adam 2012 Les Natures Pinot Gris...</td>\n",
       "      <td>Pinot Gris</td>\n",
       "      <td>Jean-Baptiste Adam</td>\n",
       "      <td>Good</td>\n",
       "      <td>White</td>\n",
       "    </tr>\n",
       "    <tr>\n",
       "      <th>4</th>\n",
       "      <td>US</td>\n",
       "      <td>Soft, supple plum envelopes an oaky structure ...</td>\n",
       "      <td>87</td>\n",
       "      <td>19</td>\n",
       "      <td>California</td>\n",
       "      <td>Napa Valley</td>\n",
       "      <td>Kirkland Signature 2011 Mountain Cuvée Caberne...</td>\n",
       "      <td>Cabernet Sauvignon</td>\n",
       "      <td>Kirkland Signature</td>\n",
       "      <td>Good</td>\n",
       "      <td>Red</td>\n",
       "    </tr>\n",
       "  </tbody>\n",
       "</table>\n",
       "</div>"
      ],
      "text/plain": [
       "  country                                        description  points  price  \\\n",
       "0      US  Tart and snappy, the flavors of lime flesh and...      87     14   \n",
       "1      US  Pineapple rind, lemon pith and orange blossom ...      87     13   \n",
       "2      US  Much like the regular bottling from 2012, this...      87     65   \n",
       "3  France  This has great depth of flavor with its fresh ...      87     27   \n",
       "4      US  Soft, supple plum envelopes an oaky structure ...      87     19   \n",
       "\n",
       "     province               region  \\\n",
       "0      Oregon    Willamette Valley   \n",
       "1    Michigan  Lake Michigan Shore   \n",
       "2      Oregon    Willamette Valley   \n",
       "3      Alsace               Alsace   \n",
       "4  California          Napa Valley   \n",
       "\n",
       "                                               title             variety  \\\n",
       "0      Rainstorm 2013 Pinot Gris (Willamette Valley)          Pinot Gris   \n",
       "1  St. Julian 2013 Reserve Late Harvest Riesling ...            Riesling   \n",
       "2  Sweet Cheeks 2012 Vintner's Reserve Wild Child...          Pinot Noir   \n",
       "3  Jean-Baptiste Adam 2012 Les Natures Pinot Gris...          Pinot Gris   \n",
       "4  Kirkland Signature 2011 Mountain Cuvée Caberne...  Cabernet Sauvignon   \n",
       "\n",
       "               winery rating_category   type  \n",
       "0           Rainstorm            Good  White  \n",
       "1          St. Julian            Good  White  \n",
       "2        Sweet Cheeks            Good    Red  \n",
       "3  Jean-Baptiste Adam            Good  White  \n",
       "4  Kirkland Signature            Good    Red  "
      ]
     },
     "execution_count": 12,
     "metadata": {},
     "output_type": "execute_result"
    }
   ],
   "source": [
    "# Create a mapping of wine varieties into types\n",
    "wine_type_mapping = {\n",
    "    'Pinot Noir': 'Red',\n",
    "    'Cabernet Sauvignon': 'Red',\n",
    "    'Syrah': 'Red',\n",
    "    'Zinfandel': 'Red',\n",
    "    'Merlot': 'Red',\n",
    "    'Malbec': 'Red',\n",
    "    'Sangiovese': 'Red',\n",
    "    'Nebbiolo': 'Red',\n",
    "    'Tempranillo': 'Red',\n",
    "    'Cabernet Franc': 'Red',\n",
    "    \n",
    "    'Chardonnay': 'White',\n",
    "    'Sauvignon Blanc': 'White',\n",
    "    'Riesling': 'White',\n",
    "    'Pinot Gris': 'White',\n",
    "    \n",
    "    'Red Blend': 'Red Blend',\n",
    "    'Bordeaux-style Red Blend': 'Red Blend',\n",
    "    'Rhône-style Red Blend': 'Red Blend',\n",
    "\n",
    "    'White Blend': 'White Blend',\n",
    "\n",
    "    'Sparkling Blend': 'Sparkling',\n",
    "\n",
    "    'Rosé': 'Rosé'\n",
    "}\n",
    "# Create a new 'type' column by mapping 'variety' to 'wine_type_mapping'\n",
    "wine_df['type'] = wine_df['variety'].map(wine_type_mapping)\n",
    "\n",
    "# Display the DataFrame with the new 'type' column\n",
    "wine_df.head()"
   ]
  },
  {
   "cell_type": "code",
   "execution_count": 15,
   "metadata": {},
   "outputs": [
    {
     "data": {
      "text/plain": [
       "type\n",
       "Red            39062\n",
       "White          17124\n",
       "Red Blend      14036\n",
       "Rosé            2839\n",
       "White Blend     1838\n",
       "Sparkling       1837\n",
       "Name: count, dtype: int64"
      ]
     },
     "execution_count": 15,
     "metadata": {},
     "output_type": "execute_result"
    }
   ],
   "source": [
    "wine_df['type'].value_counts()"
   ]
  },
  {
   "cell_type": "markdown",
   "metadata": {},
   "source": [
    "## Create 'Vintage' Column Using Regex"
   ]
  },
  {
   "cell_type": "code",
   "execution_count": 54,
   "metadata": {},
   "outputs": [],
   "source": [
    "#Create copy of winery column for Regex string\n",
    "wine_df['winery_copy'] = wine_df['winery']"
   ]
  },
  {
   "cell_type": "code",
   "execution_count": 17,
   "metadata": {},
   "outputs": [],
   "source": [
    "# Escape any special characters in winery string\n",
    "wine_df['winery_copy'] = wine_df['winery_copy'].apply(lambda x : re.escape(x))"
   ]
  },
  {
   "cell_type": "code",
   "execution_count": 23,
   "metadata": {},
   "outputs": [
    {
     "data": {
      "text/html": [
       "<div>\n",
       "<style scoped>\n",
       "    .dataframe tbody tr th:only-of-type {\n",
       "        vertical-align: middle;\n",
       "    }\n",
       "\n",
       "    .dataframe tbody tr th {\n",
       "        vertical-align: top;\n",
       "    }\n",
       "\n",
       "    .dataframe thead th {\n",
       "        text-align: right;\n",
       "    }\n",
       "</style>\n",
       "<table border=\"1\" class=\"dataframe\">\n",
       "  <thead>\n",
       "    <tr style=\"text-align: right;\">\n",
       "      <th></th>\n",
       "      <th>winery</th>\n",
       "      <th>winery_copy</th>\n",
       "    </tr>\n",
       "  </thead>\n",
       "  <tbody>\n",
       "    <tr>\n",
       "      <th>3769</th>\n",
       "      <td>Domaines Barons de Rothschild (Lafite)</td>\n",
       "      <td>Domaines\\ Barons\\ de\\ Rothschild\\ \\(Lafite\\)</td>\n",
       "    </tr>\n",
       "    <tr>\n",
       "      <th>5347</th>\n",
       "      <td>Domaines Barons de Rothschild (Lafite)</td>\n",
       "      <td>Domaines\\ Barons\\ de\\ Rothschild\\ \\(Lafite\\)</td>\n",
       "    </tr>\n",
       "    <tr>\n",
       "      <th>7395</th>\n",
       "      <td>Domaines Barons de Rothschild (Lafite)</td>\n",
       "      <td>Domaines\\ Barons\\ de\\ Rothschild\\ \\(Lafite\\)</td>\n",
       "    </tr>\n",
       "    <tr>\n",
       "      <th>12503</th>\n",
       "      <td>E. Pira e Figli (Chiara Boschis)</td>\n",
       "      <td>E\\.\\ Pira\\ e\\ Figli\\ \\(Chiara\\ Boschis\\)</td>\n",
       "    </tr>\n",
       "    <tr>\n",
       "      <th>33953</th>\n",
       "      <td>E. Pira e Figli (Chiara Boschis)</td>\n",
       "      <td>E\\.\\ Pira\\ e\\ Figli\\ \\(Chiara\\ Boschis\\)</td>\n",
       "    </tr>\n",
       "    <tr>\n",
       "      <th>34420</th>\n",
       "      <td>Domaines Barons de Rothschild (Lafite)</td>\n",
       "      <td>Domaines\\ Barons\\ de\\ Rothschild\\ \\(Lafite\\)</td>\n",
       "    </tr>\n",
       "    <tr>\n",
       "      <th>37409</th>\n",
       "      <td>Domaines Barons de Rothschild (Lafite)</td>\n",
       "      <td>Domaines\\ Barons\\ de\\ Rothschild\\ \\(Lafite\\)</td>\n",
       "    </tr>\n",
       "    <tr>\n",
       "      <th>49830</th>\n",
       "      <td>Ma(i)sonry</td>\n",
       "      <td>Ma\\(i\\)sonry</td>\n",
       "    </tr>\n",
       "    <tr>\n",
       "      <th>53581</th>\n",
       "      <td>Domaines Barons de Rothschild (Lafite)</td>\n",
       "      <td>Domaines\\ Barons\\ de\\ Rothschild\\ \\(Lafite\\)</td>\n",
       "    </tr>\n",
       "    <tr>\n",
       "      <th>60758</th>\n",
       "      <td>Ma(i)sonry</td>\n",
       "      <td>Ma\\(i\\)sonry</td>\n",
       "    </tr>\n",
       "    <tr>\n",
       "      <th>63639</th>\n",
       "      <td>E. Pira e Figli (Chiara Boschis)</td>\n",
       "      <td>E\\.\\ Pira\\ e\\ Figli\\ \\(Chiara\\ Boschis\\)</td>\n",
       "    </tr>\n",
       "    <tr>\n",
       "      <th>72614</th>\n",
       "      <td>E. Pira e Figli (Chiara Boschis)</td>\n",
       "      <td>E\\.\\ Pira\\ e\\ Figli\\ \\(Chiara\\ Boschis\\)</td>\n",
       "    </tr>\n",
       "  </tbody>\n",
       "</table>\n",
       "</div>"
      ],
      "text/plain": [
       "                                       winery  \\\n",
       "3769   Domaines Barons de Rothschild (Lafite)   \n",
       "5347   Domaines Barons de Rothschild (Lafite)   \n",
       "7395   Domaines Barons de Rothschild (Lafite)   \n",
       "12503        E. Pira e Figli (Chiara Boschis)   \n",
       "33953        E. Pira e Figli (Chiara Boschis)   \n",
       "34420  Domaines Barons de Rothschild (Lafite)   \n",
       "37409  Domaines Barons de Rothschild (Lafite)   \n",
       "49830                              Ma(i)sonry   \n",
       "53581  Domaines Barons de Rothschild (Lafite)   \n",
       "60758                              Ma(i)sonry   \n",
       "63639        E. Pira e Figli (Chiara Boschis)   \n",
       "72614        E. Pira e Figli (Chiara Boschis)   \n",
       "\n",
       "                                        winery_copy  \n",
       "3769   Domaines\\ Barons\\ de\\ Rothschild\\ \\(Lafite\\)  \n",
       "5347   Domaines\\ Barons\\ de\\ Rothschild\\ \\(Lafite\\)  \n",
       "7395   Domaines\\ Barons\\ de\\ Rothschild\\ \\(Lafite\\)  \n",
       "12503      E\\.\\ Pira\\ e\\ Figli\\ \\(Chiara\\ Boschis\\)  \n",
       "33953      E\\.\\ Pira\\ e\\ Figli\\ \\(Chiara\\ Boschis\\)  \n",
       "34420  Domaines\\ Barons\\ de\\ Rothschild\\ \\(Lafite\\)  \n",
       "37409  Domaines\\ Barons\\ de\\ Rothschild\\ \\(Lafite\\)  \n",
       "49830                                  Ma\\(i\\)sonry  \n",
       "53581  Domaines\\ Barons\\ de\\ Rothschild\\ \\(Lafite\\)  \n",
       "60758                                  Ma\\(i\\)sonry  \n",
       "63639      E\\.\\ Pira\\ e\\ Figli\\ \\(Chiara\\ Boschis\\)  \n",
       "72614      E\\.\\ Pira\\ e\\ Figli\\ \\(Chiara\\ Boschis\\)  "
      ]
     },
     "execution_count": 23,
     "metadata": {},
     "output_type": "execute_result"
    }
   ],
   "source": [
    "# Fine sampel wineries with special character '(' and check escaping \n",
    "p = '\\('\n",
    "wine_df[['winery', 'winery_copy']][wine_df['winery'].str.contains(p)]"
   ]
  },
  {
   "cell_type": "code",
   "execution_count": 37,
   "metadata": {},
   "outputs": [],
   "source": [
    "# Define function that will extract the vintage/year usig regex\n",
    "\n",
    "## Don't need >1 becasue only Multiple has 2 years and first one is the accurate one \n",
    "\n",
    "def extract_vintage(title,winery):\n",
    "    vintage = re.findall('(?:'+ winery +'\\D*)([\\d+]{4})',title)\n",
    "    if len(vintage) == 0: \n",
    "        return 'No Year'\n",
    "    #if len(vintage) > 1: \n",
    "    #    return 'Multiple'\n",
    "    else: \n",
    "        return vintage[0]"
   ]
  },
  {
   "cell_type": "code",
   "execution_count": 38,
   "metadata": {},
   "outputs": [],
   "source": [
    "# Apply extract_vintage function to create vintage column, passing title and escaped winery text\n",
    "wine_df['vintage'] = wine_df.apply(lambda x: extract_vintage(x['title'], x['winery_copy']), axis=1)"
   ]
  },
  {
   "cell_type": "code",
   "execution_count": 51,
   "metadata": {},
   "outputs": [
    {
     "data": {
      "text/plain": [
       "vintage\n",
       "2012       10132\n",
       "2013       9871 \n",
       "2014       9715 \n",
       "2010       7488 \n",
       "2011       7379 \n",
       "2009       6074 \n",
       "2015       5050 \n",
       "2008       4281 \n",
       "2007       3962 \n",
       "2006       3301 \n",
       "2005       2337 \n",
       "No Year    1902 \n",
       "2016       1747 \n",
       "2004       1049 \n",
       "2000       477  \n",
       "Name: count, dtype: int64"
      ]
     },
     "execution_count": 51,
     "metadata": {},
     "output_type": "execute_result"
    }
   ],
   "source": [
    "# Value_counts for vintage\n",
    "#pd.set_option(\"display.max_rows\", None)\n",
    "counts = wine_df['vintage'].value_counts()\n",
    "counts.head(15)"
   ]
  },
  {
   "cell_type": "code",
   "execution_count": 32,
   "metadata": {},
   "outputs": [
    {
     "name": "stdout",
     "output_type": "stream",
     "text": [
      "<class 'pandas.core.frame.DataFrame'>\n",
      "RangeIndex: 76736 entries, 0 to 76735\n",
      "Data columns (total 13 columns):\n",
      " #   Column           Non-Null Count  Dtype \n",
      "---  ------           --------------  ----- \n",
      " 0   country          76736 non-null  object\n",
      " 1   description      76736 non-null  object\n",
      " 2   points           76736 non-null  int64 \n",
      " 3   price            76736 non-null  int64 \n",
      " 4   province         76736 non-null  object\n",
      " 5   region           76736 non-null  object\n",
      " 6   title            76736 non-null  object\n",
      " 7   variety          76736 non-null  object\n",
      " 8   winery           76736 non-null  object\n",
      " 9   rating_category  76736 non-null  object\n",
      " 10  type             76736 non-null  object\n",
      " 11  winery_copy      76736 non-null  object\n",
      " 12  vintage          76736 non-null  object\n",
      "dtypes: int64(2), object(11)\n",
      "memory usage: 7.6+ MB\n"
     ]
    }
   ],
   "source": [
    "# Ensuring no null values \n",
    "wine_df.info()"
   ]
  },
  {
   "cell_type": "code",
   "execution_count": 36,
   "metadata": {},
   "outputs": [
    {
     "data": {
      "text/html": [
       "<div>\n",
       "<style scoped>\n",
       "    .dataframe tbody tr th:only-of-type {\n",
       "        vertical-align: middle;\n",
       "    }\n",
       "\n",
       "    .dataframe tbody tr th {\n",
       "        vertical-align: top;\n",
       "    }\n",
       "\n",
       "    .dataframe thead th {\n",
       "        text-align: right;\n",
       "    }\n",
       "</style>\n",
       "<table border=\"1\" class=\"dataframe\">\n",
       "  <thead>\n",
       "    <tr style=\"text-align: right;\">\n",
       "      <th></th>\n",
       "      <th>country</th>\n",
       "      <th>description</th>\n",
       "      <th>points</th>\n",
       "      <th>price</th>\n",
       "      <th>province</th>\n",
       "      <th>region</th>\n",
       "      <th>title</th>\n",
       "      <th>variety</th>\n",
       "      <th>winery</th>\n",
       "      <th>rating_category</th>\n",
       "      <th>type</th>\n",
       "      <th>winery_copy</th>\n",
       "      <th>vintage</th>\n",
       "    </tr>\n",
       "  </thead>\n",
       "  <tbody>\n",
       "    <tr>\n",
       "      <th>65558</th>\n",
       "      <td>Spain</td>\n",
       "      <td>Bulky and clumsy, with powerful early barnyard...</td>\n",
       "      <td>84</td>\n",
       "      <td>8</td>\n",
       "      <td>Northern Spain</td>\n",
       "      <td>Vino de la Tierra de Castilla y León</td>\n",
       "      <td>Riscal 2000 Riscal 1860 Tempranillo (Vino de l...</td>\n",
       "      <td>Tempranillo</td>\n",
       "      <td>Riscal</td>\n",
       "      <td>Good</td>\n",
       "      <td>Red</td>\n",
       "      <td>Riscal</td>\n",
       "      <td>Multiple</td>\n",
       "    </tr>\n",
       "    <tr>\n",
       "      <th>73818</th>\n",
       "      <td>Spain</td>\n",
       "      <td>Savory and deep given the price, with dark col...</td>\n",
       "      <td>86</td>\n",
       "      <td>9</td>\n",
       "      <td>Northern Spain</td>\n",
       "      <td>Vino de la Tierra de Castilla y León</td>\n",
       "      <td>Riscal 2006 Riscal 1860 Tempranillo (Vino de l...</td>\n",
       "      <td>Tempranillo</td>\n",
       "      <td>Riscal</td>\n",
       "      <td>Good</td>\n",
       "      <td>Red</td>\n",
       "      <td>Riscal</td>\n",
       "      <td>Multiple</td>\n",
       "    </tr>\n",
       "  </tbody>\n",
       "</table>\n",
       "</div>"
      ],
      "text/plain": [
       "      country                                        description  points  \\\n",
       "65558   Spain  Bulky and clumsy, with powerful early barnyard...      84   \n",
       "73818   Spain  Savory and deep given the price, with dark col...      86   \n",
       "\n",
       "       price        province                                region  \\\n",
       "65558      8  Northern Spain  Vino de la Tierra de Castilla y León   \n",
       "73818      9  Northern Spain  Vino de la Tierra de Castilla y León   \n",
       "\n",
       "                                                   title      variety  winery  \\\n",
       "65558  Riscal 2000 Riscal 1860 Tempranillo (Vino de l...  Tempranillo  Riscal   \n",
       "73818  Riscal 2006 Riscal 1860 Tempranillo (Vino de l...  Tempranillo  Riscal   \n",
       "\n",
       "      rating_category type winery_copy   vintage  \n",
       "65558            Good  Red      Riscal  Multiple  \n",
       "73818            Good  Red      Riscal  Multiple  "
      ]
     },
     "execution_count": 36,
     "metadata": {},
     "output_type": "execute_result"
    }
   ],
   "source": [
    "#Reviewing Multiple tags\n",
    "wine_df.loc[wine_df['vintage']== 'Multiple']\n"
   ]
  },
  {
   "cell_type": "code",
   "execution_count": 41,
   "metadata": {},
   "outputs": [
    {
     "data": {
      "text/plain": [
       "country                                                        Spain\n",
       "description        Savory and deep given the price, with dark col...\n",
       "points                                                            86\n",
       "price                                                              9\n",
       "province                                              Northern Spain\n",
       "region                          Vino de la Tierra de Castilla y León\n",
       "title              Riscal 2006 Riscal 1860 Tempranillo (Vino de l...\n",
       "variety                                                  Tempranillo\n",
       "winery                                                        Riscal\n",
       "rating_category                                                 Good\n",
       "type                                                             Red\n",
       "winery_copy                                                   Riscal\n",
       "vintage                                                         2006\n",
       "Name: 73818, dtype: object"
      ]
     },
     "execution_count": 41,
     "metadata": {},
     "output_type": "execute_result"
    }
   ],
   "source": [
    "# Checking 2 wineries with more than 1 year from Regex (65558, 73818)\n",
    "wine_df.iloc[73818,:]"
   ]
  },
  {
   "cell_type": "code",
   "execution_count": 48,
   "metadata": {},
   "outputs": [
    {
     "data": {
      "text/plain": [
       "75395    Muga NV Conde de Haro Brut Sparkling (Cava)                                     \n",
       "75466    Pierre Moncuit NV Hugues de Coulmet Blanc de Blancs Brut Chardonnay (Champagne) \n",
       "75486    Karma NV Side View Chardonnay (North Coast)                                     \n",
       "75581    Canals Canals NV Rosat Reserva Sparkling (Cava)                                 \n",
       "75602    àMaurice NV Pour Me Red (Columbia Valley (WA))                                  \n",
       "75632    McFadden NV Cuvée Brut Sparkling (Potter Valley)                                \n",
       "75647    Diví Elegància NV Ambré White (Rivesaltes)                                      \n",
       "75648    Diví Elegància NV Tuilé Red (Rivesaltes)                                        \n",
       "75756    BookCliff NV Lucky Twenty White (Colorado)                                      \n",
       "75802    Vilarnau NV Brut Rosé Sparkling (Cava)                                          \n",
       "75804    Va Piano Bruno's Blend VII NV Red Red (Columbia Valley (WA))                    \n",
       "75807    Hard Row To Hoe NV Pinot Noir (Lake Chelan)                                     \n",
       "75935    Merritt NV Cabernet Sauvignon (New York)                                        \n",
       "76060    Jean Laurent NV Blanc de Noirs Brut Pinot Noir (Champagne)                      \n",
       "76062    Vollereaux NV Blanc de Blancs Brut Chardonnay (Champagne)                       \n",
       "76120    Jean Josselin NV Cuvée des Jean Pinot Noir (Champagne)                          \n",
       "76122    Château de Brigue NV Bulles de Brigue Brut Nature Sparkling (Vin Mousseux)      \n",
       "76207    Lanson NV Extra Age Blanc de Blancs Brut Chardonnay (Champagne)                 \n",
       "76213    G. H. Mumm NV Mumm de Cramant Blanc de Blancs Brut Chardonnay (Champagne)       \n",
       "76214    Clément Klur NV Sparkling (Crémant d'Alsace)                                    \n",
       "76215    Domaine Bott-Geyl NV Paul-Edouard Sparkling (Crémant d'Alsace)                  \n",
       "76265    Jaillance NV Cuvée de l'Abbaye Brut  (Crémant de Bordeaux)                      \n",
       "76277    Jaillance NV Cuvée de l'Abbaye Brut Rosé  (Crémant de Bordeaux)                 \n",
       "76281    OZV NV Rosé (California)                                                        \n",
       "76283    AronHill NV Vinho Doce Red (California)                                         \n",
       "76330    Domaine Ehrhart NV Brut Prestige Domaine Saint Remy Sparkling (Crémant d'Alsace)\n",
       "76331    Domaine G. Metz NV Sparkling (Crémant d'Alsace)                                 \n",
       "76334    Louis Pommery NV Brut Sparkling (California)                                    \n",
       "76361    Manuel Olivier NV Brut  (Crémant de Bourgogne)                                  \n",
       "76425    Castello Bonomi NV Satèn Brut Chardonnay (Franciacorta)                         \n",
       "76428    Château de Chambert NV Rogomme Malbec (Vin de Liqueur)                          \n",
       "76441    Domaine Jean-Luc Mader NV Brut Sparkling (Crémant d'Alsace)                     \n",
       "76446    Joseph Cattin NV Brut Rosé Pinot Noir (Alsace)                                  \n",
       "76447    Domaine Rieflé-Landmann NV Bonheur Festif Brut Sparkling (Crémant d'Alsace)     \n",
       "76449    Vollereaux NV Brut Rosé de Saignée Pinot Noir (Champagne)                       \n",
       "76455    Drappier NV Blanc de Blancs Brut Chardonnay (Champagne)                         \n",
       "76586    Chandon NV Brut Classic Sparkling (California)                                  \n",
       "76587    Chandon NV Rosé Sparkling (California)                                          \n",
       "76596    Gloria Ferrer NV VA de VI Ultra Cuvée Sparkling (Sonoma County)                 \n",
       "76682    Biltmore Estate NV Brut Sparkling (California)                                  \n",
       "Name: title, dtype: object"
      ]
     },
     "execution_count": 48,
     "metadata": {},
     "output_type": "execute_result"
    }
   ],
   "source": [
    "#Review No Year for accuracy\n",
    "pd.set_option('display.max_colwidth', 0)\n",
    "no_year = wine_df.loc[wine_df['vintage']== 'No Year']\n",
    "no_year['title'].tail(40)"
   ]
  },
  {
   "cell_type": "code",
   "execution_count": 47,
   "metadata": {},
   "outputs": [],
   "source": [
    "pd.reset_option('display.max_colwidth')"
   ]
  },
  {
   "cell_type": "code",
   "execution_count": 49,
   "metadata": {},
   "outputs": [
    {
     "data": {
      "text/plain": [
       "type\n",
       "Sparkling      1071\n",
       "White          278 \n",
       "Red Blend      225 \n",
       "Red            202 \n",
       "White Blend    91  \n",
       "Rosé           35  \n",
       "Name: count, dtype: int64"
      ]
     },
     "execution_count": 49,
     "metadata": {},
     "output_type": "execute_result"
    }
   ],
   "source": [
    "no_year['type'].value_counts()"
   ]
  },
  {
   "cell_type": "code",
   "execution_count": 55,
   "metadata": {},
   "outputs": [
    {
     "name": "stdout",
     "output_type": "stream",
     "text": [
      "<class 'pandas.core.frame.DataFrame'>\n",
      "RangeIndex: 76736 entries, 0 to 76735\n",
      "Data columns (total 12 columns):\n",
      " #   Column           Non-Null Count  Dtype \n",
      "---  ------           --------------  ----- \n",
      " 0   country          76736 non-null  object\n",
      " 1   description      76736 non-null  object\n",
      " 2   points           76736 non-null  int64 \n",
      " 3   price            76736 non-null  int64 \n",
      " 4   province         76736 non-null  object\n",
      " 5   region           76736 non-null  object\n",
      " 6   title            76736 non-null  object\n",
      " 7   variety          76736 non-null  object\n",
      " 8   winery           76736 non-null  object\n",
      " 9   rating_category  76736 non-null  object\n",
      " 10  type             76736 non-null  object\n",
      " 11  vintage          76736 non-null  object\n",
      "dtypes: int64(2), object(10)\n",
      "memory usage: 7.0+ MB\n"
     ]
    }
   ],
   "source": [
    "wine_df = wine_df.drop(columns = 'winery_copy')\n",
    "wine_df.info()"
   ]
  },
  {
   "cell_type": "markdown",
   "metadata": {},
   "source": [
    "### Testing viability of creating a boolean column by key words "
   ]
  },
  {
   "cell_type": "code",
   "execution_count": 66,
   "metadata": {},
   "outputs": [
    {
     "data": {
      "text/html": [
       "<div>\n",
       "<style scoped>\n",
       "    .dataframe tbody tr th:only-of-type {\n",
       "        vertical-align: middle;\n",
       "    }\n",
       "\n",
       "    .dataframe tbody tr th {\n",
       "        vertical-align: top;\n",
       "    }\n",
       "\n",
       "    .dataframe thead th {\n",
       "        text-align: right;\n",
       "    }\n",
       "</style>\n",
       "<table border=\"1\" class=\"dataframe\">\n",
       "  <thead>\n",
       "    <tr style=\"text-align: right;\">\n",
       "      <th></th>\n",
       "      <th>country</th>\n",
       "      <th>description</th>\n",
       "      <th>points</th>\n",
       "      <th>price</th>\n",
       "      <th>province</th>\n",
       "      <th>region</th>\n",
       "      <th>title</th>\n",
       "      <th>variety</th>\n",
       "      <th>winery</th>\n",
       "      <th>rating_category</th>\n",
       "      <th>type</th>\n",
       "      <th>vintage</th>\n",
       "      <th>fruity</th>\n",
       "    </tr>\n",
       "  </thead>\n",
       "  <tbody>\n",
       "    <tr>\n",
       "      <th>32</th>\n",
       "      <td>France</td>\n",
       "      <td>From the warm 2015 vintage, this is a soft and fruity wine. It's open with broad white fruit flavors, the acidity lighter than usual for Chablis, giving it a particularly ripe character. Drink now.</td>\n",
       "      <td>86</td>\n",
       "      <td>24</td>\n",
       "      <td>Burgundy</td>\n",
       "      <td>Chablis</td>\n",
       "      <td>Simonnet-Febvre 2015  Chablis</td>\n",
       "      <td>Chardonnay</td>\n",
       "      <td>Simonnet-Febvre</td>\n",
       "      <td>Good</td>\n",
       "      <td>White</td>\n",
       "      <td>2015</td>\n",
       "      <td>True</td>\n",
       "    </tr>\n",
       "    <tr>\n",
       "      <th>41</th>\n",
       "      <td>US</td>\n",
       "      <td>Some rosés are made simply by bleeding the juice from the fermenter, to concentrate the remaining wine. Whether or not that is the case here, the wine has the simple pleasant lightly candied strawberry flavors one might expect from such a technique. It's fruity and undemanding. Drink up.</td>\n",
       "      <td>86</td>\n",
       "      <td>25</td>\n",
       "      <td>Oregon</td>\n",
       "      <td>Eola-Amity Hills</td>\n",
       "      <td>Z'IVO 2015 Rosé of Pinot Noir (Eola-Amity Hills)</td>\n",
       "      <td>Pinot Noir</td>\n",
       "      <td>Z'IVO</td>\n",
       "      <td>Good</td>\n",
       "      <td>Red</td>\n",
       "      <td>2015</td>\n",
       "      <td>True</td>\n",
       "    </tr>\n",
       "    <tr>\n",
       "      <th>49</th>\n",
       "      <td>US</td>\n",
       "      <td>This blends 20% each of all five red-Bordeaux varieties, showing grapy, plummy flavor that's juicy and soft on the palate. With a core of tobacco, tar and graphite, it complements the fruity with the savory, ending simply and elegantly.</td>\n",
       "      <td>88</td>\n",
       "      <td>75</td>\n",
       "      <td>California</td>\n",
       "      <td>Napa Valley</td>\n",
       "      <td>Soquel Vineyards 2013 Intreccio Library Selection Red (Napa Valley)</td>\n",
       "      <td>Bordeaux-style Red Blend</td>\n",
       "      <td>Soquel Vineyards</td>\n",
       "      <td>Very Good</td>\n",
       "      <td>Red Blend</td>\n",
       "      <td>2013</td>\n",
       "      <td>True</td>\n",
       "    </tr>\n",
       "    <tr>\n",
       "      <th>54</th>\n",
       "      <td>Italy</td>\n",
       "      <td>Made predominantly with Trebbiano and Malvasia, along with Pinot Bianco, Pinot Grigio and Riesling Renano, this has inviting aromas of ripe orchard fruit and citrus. The round fruity palate doles out ripe apricot, orange zest and juicy pineapple.</td>\n",
       "      <td>87</td>\n",
       "      <td>14</td>\n",
       "      <td>Tuscany</td>\n",
       "      <td>Toscana</td>\n",
       "      <td>Marchesi Antinori 2015 Villa Antinori White (Toscana)</td>\n",
       "      <td>White Blend</td>\n",
       "      <td>Marchesi Antinori</td>\n",
       "      <td>Good</td>\n",
       "      <td>White Blend</td>\n",
       "      <td>2015</td>\n",
       "      <td>True</td>\n",
       "    </tr>\n",
       "    <tr>\n",
       "      <th>109</th>\n",
       "      <td>US</td>\n",
       "      <td>This is a soft, well-crafted wine from the eastern side of St. Helena that's both classic in its dried herb, tobacco and tea aromas and fruity with red currant and cranberry notes.</td>\n",
       "      <td>90</td>\n",
       "      <td>60</td>\n",
       "      <td>California</td>\n",
       "      <td>Napa Valley</td>\n",
       "      <td>Sequum 2013 Four Soil Mélange Cabernet Sauvignon (Napa Valley)</td>\n",
       "      <td>Cabernet Sauvignon</td>\n",
       "      <td>Sequum</td>\n",
       "      <td>Very Good</td>\n",
       "      <td>Red</td>\n",
       "      <td>2013</td>\n",
       "      <td>True</td>\n",
       "    </tr>\n",
       "  </tbody>\n",
       "</table>\n",
       "</div>"
      ],
      "text/plain": [
       "    country  \\\n",
       "32   France   \n",
       "41   US       \n",
       "49   US       \n",
       "54   Italy    \n",
       "109  US       \n",
       "\n",
       "                                                                                                                                                                                                                                                                                          description  \\\n",
       "32   From the warm 2015 vintage, this is a soft and fruity wine. It's open with broad white fruit flavors, the acidity lighter than usual for Chablis, giving it a particularly ripe character. Drink now.                                                                                              \n",
       "41   Some rosés are made simply by bleeding the juice from the fermenter, to concentrate the remaining wine. Whether or not that is the case here, the wine has the simple pleasant lightly candied strawberry flavors one might expect from such a technique. It's fruity and undemanding. Drink up.   \n",
       "49   This blends 20% each of all five red-Bordeaux varieties, showing grapy, plummy flavor that's juicy and soft on the palate. With a core of tobacco, tar and graphite, it complements the fruity with the savory, ending simply and elegantly.                                                       \n",
       "54   Made predominantly with Trebbiano and Malvasia, along with Pinot Bianco, Pinot Grigio and Riesling Renano, this has inviting aromas of ripe orchard fruit and citrus. The round fruity palate doles out ripe apricot, orange zest and juicy pineapple.                                             \n",
       "109  This is a soft, well-crafted wine from the eastern side of St. Helena that's both classic in its dried herb, tobacco and tea aromas and fruity with red currant and cranberry notes.                                                                                                               \n",
       "\n",
       "     points  price    province            region  \\\n",
       "32   86      24     Burgundy    Chablis            \n",
       "41   86      25     Oregon      Eola-Amity Hills   \n",
       "49   88      75     California  Napa Valley        \n",
       "54   87      14     Tuscany     Toscana            \n",
       "109  90      60     California  Napa Valley        \n",
       "\n",
       "                                                                   title  \\\n",
       "32   Simonnet-Febvre 2015  Chablis                                         \n",
       "41   Z'IVO 2015 Rosé of Pinot Noir (Eola-Amity Hills)                      \n",
       "49   Soquel Vineyards 2013 Intreccio Library Selection Red (Napa Valley)   \n",
       "54   Marchesi Antinori 2015 Villa Antinori White (Toscana)                 \n",
       "109  Sequum 2013 Four Soil Mélange Cabernet Sauvignon (Napa Valley)        \n",
       "\n",
       "                      variety             winery rating_category         type  \\\n",
       "32   Chardonnay                Simonnet-Febvre    Good            White         \n",
       "41   Pinot Noir                Z'IVO              Good            Red           \n",
       "49   Bordeaux-style Red Blend  Soquel Vineyards   Very Good       Red Blend     \n",
       "54   White Blend               Marchesi Antinori  Good            White Blend   \n",
       "109  Cabernet Sauvignon        Sequum             Very Good       Red           \n",
       "\n",
       "    vintage  fruity  \n",
       "32   2015    True    \n",
       "41   2015    True    \n",
       "49   2013    True    \n",
       "54   2015    True    \n",
       "109  2013    True    "
      ]
     },
     "execution_count": 66,
     "metadata": {},
     "output_type": "execute_result"
    }
   ],
   "source": [
    "#Testing viability of tagging by key words \n",
    "p = 'fruity'\n",
    "fruity_df = wine_df[wine_df['description'].str.contains(p)]\n",
    "fruity_df.head()"
   ]
  },
  {
   "cell_type": "code",
   "execution_count": 63,
   "metadata": {},
   "outputs": [
    {
     "data": {
      "text/plain": [
       "fruity\n",
       "False    72175\n",
       "True     4561 \n",
       "Name: count, dtype: int64"
      ]
     },
     "execution_count": 63,
     "metadata": {},
     "output_type": "execute_result"
    }
   ],
   "source": [
    "# Assigning column fruity based on if key word is in the description \n",
    "p = 'fruity'\n",
    "wine_df['fruity'] = wine_df['description'].str.contains(p)\n",
    "wine_df['fruity'].value_counts()"
   ]
  },
  {
   "cell_type": "code",
   "execution_count": 65,
   "metadata": {},
   "outputs": [
    {
     "name": "stdout",
     "output_type": "stream",
     "text": [
      "<class 'pandas.core.frame.DataFrame'>\n",
      "RangeIndex: 76736 entries, 0 to 76735\n",
      "Data columns (total 13 columns):\n",
      " #   Column           Non-Null Count  Dtype \n",
      "---  ------           --------------  ----- \n",
      " 0   country          76736 non-null  object\n",
      " 1   description      76736 non-null  object\n",
      " 2   points           76736 non-null  int64 \n",
      " 3   price            76736 non-null  int64 \n",
      " 4   province         76736 non-null  object\n",
      " 5   region           76736 non-null  object\n",
      " 6   title            76736 non-null  object\n",
      " 7   variety          76736 non-null  object\n",
      " 8   winery           76736 non-null  object\n",
      " 9   rating_category  76736 non-null  object\n",
      " 10  type             76736 non-null  object\n",
      " 11  vintage          76736 non-null  object\n",
      " 12  fruity           76736 non-null  bool  \n",
      "dtypes: bool(1), int64(2), object(10)\n",
      "memory usage: 7.1+ MB\n"
     ]
    }
   ],
   "source": [
    "wine_df.info()"
   ]
  },
  {
   "cell_type": "markdown",
   "metadata": {},
   "source": [
    "## WordCloud"
   ]
  },
  {
   "cell_type": "code",
   "execution_count": 67,
   "metadata": {},
   "outputs": [],
   "source": [
    "from wordcloud import WordCloud, STOPWORDS, ImageColorGenerator\n",
    "import matplotlib.pyplot as plt"
   ]
  },
  {
   "cell_type": "code",
   "execution_count": 68,
   "metadata": {},
   "outputs": [],
   "source": [
    "all_words = \" \".join(t for t in wine_df.description)"
   ]
  },
  {
   "cell_type": "code",
   "execution_count": 77,
   "metadata": {},
   "outputs": [],
   "source": [
    "# Create stopword list:\n",
    "stopwords = set(STOPWORDS)\n",
    "stopwords.update(['wine', 'flavor', 'flavors','notes', 'palate', 'finish', 'years', 'offers', 'texture', \n",
    "                  'hint', 'hints', 'drink',\n",
    "                  'now','show'])\n"
   ]
  },
  {
   "cell_type": "code",
   "execution_count": 71,
   "metadata": {},
   "outputs": [
    {
     "name": "stdout",
     "output_type": "stream",
     "text": [
      "\u001b[1;31mInit signature:\u001b[0m\n",
      "\u001b[0mWordCloud\u001b[0m\u001b[1;33m(\u001b[0m\u001b[1;33m\n",
      "\u001b[0m    \u001b[0mfont_path\u001b[0m\u001b[1;33m=\u001b[0m\u001b[1;32mNone\u001b[0m\u001b[1;33m,\u001b[0m\u001b[1;33m\n",
      "\u001b[0m    \u001b[0mwidth\u001b[0m\u001b[1;33m=\u001b[0m\u001b[1;36m400\u001b[0m\u001b[1;33m,\u001b[0m\u001b[1;33m\n",
      "\u001b[0m    \u001b[0mheight\u001b[0m\u001b[1;33m=\u001b[0m\u001b[1;36m200\u001b[0m\u001b[1;33m,\u001b[0m\u001b[1;33m\n",
      "\u001b[0m    \u001b[0mmargin\u001b[0m\u001b[1;33m=\u001b[0m\u001b[1;36m2\u001b[0m\u001b[1;33m,\u001b[0m\u001b[1;33m\n",
      "\u001b[0m    \u001b[0mranks_only\u001b[0m\u001b[1;33m=\u001b[0m\u001b[1;32mNone\u001b[0m\u001b[1;33m,\u001b[0m\u001b[1;33m\n",
      "\u001b[0m    \u001b[0mprefer_horizontal\u001b[0m\u001b[1;33m=\u001b[0m\u001b[1;36m0.9\u001b[0m\u001b[1;33m,\u001b[0m\u001b[1;33m\n",
      "\u001b[0m    \u001b[0mmask\u001b[0m\u001b[1;33m=\u001b[0m\u001b[1;32mNone\u001b[0m\u001b[1;33m,\u001b[0m\u001b[1;33m\n",
      "\u001b[0m    \u001b[0mscale\u001b[0m\u001b[1;33m=\u001b[0m\u001b[1;36m1\u001b[0m\u001b[1;33m,\u001b[0m\u001b[1;33m\n",
      "\u001b[0m    \u001b[0mcolor_func\u001b[0m\u001b[1;33m=\u001b[0m\u001b[1;32mNone\u001b[0m\u001b[1;33m,\u001b[0m\u001b[1;33m\n",
      "\u001b[0m    \u001b[0mmax_words\u001b[0m\u001b[1;33m=\u001b[0m\u001b[1;36m200\u001b[0m\u001b[1;33m,\u001b[0m\u001b[1;33m\n",
      "\u001b[0m    \u001b[0mmin_font_size\u001b[0m\u001b[1;33m=\u001b[0m\u001b[1;36m4\u001b[0m\u001b[1;33m,\u001b[0m\u001b[1;33m\n",
      "\u001b[0m    \u001b[0mstopwords\u001b[0m\u001b[1;33m=\u001b[0m\u001b[1;32mNone\u001b[0m\u001b[1;33m,\u001b[0m\u001b[1;33m\n",
      "\u001b[0m    \u001b[0mrandom_state\u001b[0m\u001b[1;33m=\u001b[0m\u001b[1;32mNone\u001b[0m\u001b[1;33m,\u001b[0m\u001b[1;33m\n",
      "\u001b[0m    \u001b[0mbackground_color\u001b[0m\u001b[1;33m=\u001b[0m\u001b[1;34m'black'\u001b[0m\u001b[1;33m,\u001b[0m\u001b[1;33m\n",
      "\u001b[0m    \u001b[0mmax_font_size\u001b[0m\u001b[1;33m=\u001b[0m\u001b[1;32mNone\u001b[0m\u001b[1;33m,\u001b[0m\u001b[1;33m\n",
      "\u001b[0m    \u001b[0mfont_step\u001b[0m\u001b[1;33m=\u001b[0m\u001b[1;36m1\u001b[0m\u001b[1;33m,\u001b[0m\u001b[1;33m\n",
      "\u001b[0m    \u001b[0mmode\u001b[0m\u001b[1;33m=\u001b[0m\u001b[1;34m'RGB'\u001b[0m\u001b[1;33m,\u001b[0m\u001b[1;33m\n",
      "\u001b[0m    \u001b[0mrelative_scaling\u001b[0m\u001b[1;33m=\u001b[0m\u001b[1;34m'auto'\u001b[0m\u001b[1;33m,\u001b[0m\u001b[1;33m\n",
      "\u001b[0m    \u001b[0mregexp\u001b[0m\u001b[1;33m=\u001b[0m\u001b[1;32mNone\u001b[0m\u001b[1;33m,\u001b[0m\u001b[1;33m\n",
      "\u001b[0m    \u001b[0mcollocations\u001b[0m\u001b[1;33m=\u001b[0m\u001b[1;32mTrue\u001b[0m\u001b[1;33m,\u001b[0m\u001b[1;33m\n",
      "\u001b[0m    \u001b[0mcolormap\u001b[0m\u001b[1;33m=\u001b[0m\u001b[1;32mNone\u001b[0m\u001b[1;33m,\u001b[0m\u001b[1;33m\n",
      "\u001b[0m    \u001b[0mnormalize_plurals\u001b[0m\u001b[1;33m=\u001b[0m\u001b[1;32mTrue\u001b[0m\u001b[1;33m,\u001b[0m\u001b[1;33m\n",
      "\u001b[0m    \u001b[0mcontour_width\u001b[0m\u001b[1;33m=\u001b[0m\u001b[1;36m0\u001b[0m\u001b[1;33m,\u001b[0m\u001b[1;33m\n",
      "\u001b[0m    \u001b[0mcontour_color\u001b[0m\u001b[1;33m=\u001b[0m\u001b[1;34m'black'\u001b[0m\u001b[1;33m,\u001b[0m\u001b[1;33m\n",
      "\u001b[0m    \u001b[0mrepeat\u001b[0m\u001b[1;33m=\u001b[0m\u001b[1;32mFalse\u001b[0m\u001b[1;33m,\u001b[0m\u001b[1;33m\n",
      "\u001b[0m    \u001b[0minclude_numbers\u001b[0m\u001b[1;33m=\u001b[0m\u001b[1;32mFalse\u001b[0m\u001b[1;33m,\u001b[0m\u001b[1;33m\n",
      "\u001b[0m    \u001b[0mmin_word_length\u001b[0m\u001b[1;33m=\u001b[0m\u001b[1;36m0\u001b[0m\u001b[1;33m,\u001b[0m\u001b[1;33m\n",
      "\u001b[0m    \u001b[0mcollocation_threshold\u001b[0m\u001b[1;33m=\u001b[0m\u001b[1;36m30\u001b[0m\u001b[1;33m,\u001b[0m\u001b[1;33m\n",
      "\u001b[0m\u001b[1;33m)\u001b[0m\u001b[1;33m\u001b[0m\u001b[1;33m\u001b[0m\u001b[0m\n",
      "\u001b[1;31mDocstring:\u001b[0m     \n",
      "Word cloud object for generating and drawing.\n",
      "\n",
      "Parameters\n",
      "----------\n",
      "font_path : string\n",
      "    Font path to the font that will be used (OTF or TTF).\n",
      "    Defaults to DroidSansMono path on a Linux machine. If you are on\n",
      "    another OS or don't have this font, you need to adjust this path.\n",
      "\n",
      "width : int (default=400)\n",
      "    Width of the canvas.\n",
      "\n",
      "height : int (default=200)\n",
      "    Height of the canvas.\n",
      "\n",
      "prefer_horizontal : float (default=0.90)\n",
      "    The ratio of times to try horizontal fitting as opposed to vertical.\n",
      "    If prefer_horizontal < 1, the algorithm will try rotating the word\n",
      "    if it doesn't fit. (There is currently no built-in way to get only\n",
      "    vertical words.)\n",
      "\n",
      "mask : nd-array or None (default=None)\n",
      "    If not None, gives a binary mask on where to draw words. If mask is not\n",
      "    None, width and height will be ignored and the shape of mask will be\n",
      "    used instead. All white (#FF or #FFFFFF) entries will be considerd\n",
      "    \"masked out\" while other entries will be free to draw on. [This\n",
      "    changed in the most recent version!]\n",
      "\n",
      "contour_width: float (default=0)\n",
      "    If mask is not None and contour_width > 0, draw the mask contour.\n",
      "\n",
      "contour_color: color value (default=\"black\")\n",
      "    Mask contour color.\n",
      "\n",
      "scale : float (default=1)\n",
      "    Scaling between computation and drawing. For large word-cloud images,\n",
      "    using scale instead of larger canvas size is significantly faster, but\n",
      "    might lead to a coarser fit for the words.\n",
      "\n",
      "min_font_size : int (default=4)\n",
      "    Smallest font size to use. Will stop when there is no more room in this\n",
      "    size.\n",
      "\n",
      "font_step : int (default=1)\n",
      "    Step size for the font. font_step > 1 might speed up computation but\n",
      "    give a worse fit.\n",
      "\n",
      "max_words : number (default=200)\n",
      "    The maximum number of words.\n",
      "\n",
      "stopwords : set of strings or None\n",
      "    The words that will be eliminated. If None, the build-in STOPWORDS\n",
      "    list will be used. Ignored if using generate_from_frequencies.\n",
      "\n",
      "background_color : color value (default=\"black\")\n",
      "    Background color for the word cloud image.\n",
      "\n",
      "max_font_size : int or None (default=None)\n",
      "    Maximum font size for the largest word. If None, height of the image is\n",
      "    used.\n",
      "\n",
      "mode : string (default=\"RGB\")\n",
      "    Transparent background will be generated when mode is \"RGBA\" and\n",
      "    background_color is None.\n",
      "\n",
      "relative_scaling : float (default='auto')\n",
      "    Importance of relative word frequencies for font-size.  With\n",
      "    relative_scaling=0, only word-ranks are considered.  With\n",
      "    relative_scaling=1, a word that is twice as frequent will have twice\n",
      "    the size.  If you want to consider the word frequencies and not only\n",
      "    their rank, relative_scaling around .5 often looks good.\n",
      "    If 'auto' it will be set to 0.5 unless repeat is true, in which\n",
      "    case it will be set to 0.\n",
      "\n",
      "    .. versionchanged: 2.0\n",
      "        Default is now 'auto'.\n",
      "\n",
      "color_func : callable, default=None\n",
      "    Callable with parameters word, font_size, position, orientation,\n",
      "    font_path, random_state that returns a PIL color for each word.\n",
      "    Overwrites \"colormap\".\n",
      "    See colormap for specifying a matplotlib colormap instead.\n",
      "    To create a word cloud with a single color, use\n",
      "    ``color_func=lambda *args, **kwargs: \"white\"``.\n",
      "    The single color can also be specified using RGB code. For example\n",
      "    ``color_func=lambda *args, **kwargs: (255,0,0)`` sets color to red.\n",
      "\n",
      "regexp : string or None (optional)\n",
      "    Regular expression to split the input text into tokens in process_text.\n",
      "    If None is specified, ``r\"\\w[\\w']+\"`` is used. Ignored if using\n",
      "    generate_from_frequencies.\n",
      "\n",
      "collocations : bool, default=True\n",
      "    Whether to include collocations (bigrams) of two words. Ignored if using\n",
      "    generate_from_frequencies.\n",
      "\n",
      "\n",
      "    .. versionadded: 2.0\n",
      "\n",
      "colormap : string or matplotlib colormap, default=\"viridis\"\n",
      "    Matplotlib colormap to randomly draw colors from for each word.\n",
      "    Ignored if \"color_func\" is specified.\n",
      "\n",
      "    .. versionadded: 2.0\n",
      "\n",
      "normalize_plurals : bool, default=True\n",
      "    Whether to remove trailing 's' from words. If True and a word\n",
      "    appears with and without a trailing 's', the one with trailing 's'\n",
      "    is removed and its counts are added to the version without\n",
      "    trailing 's' -- unless the word ends with 'ss'. Ignored if using\n",
      "    generate_from_frequencies.\n",
      "\n",
      "repeat : bool, default=False\n",
      "    Whether to repeat words and phrases until max_words or min_font_size\n",
      "    is reached.\n",
      "\n",
      "include_numbers : bool, default=False\n",
      "    Whether to include numbers as phrases or not.\n",
      "\n",
      "min_word_length : int, default=0\n",
      "    Minimum number of letters a word must have to be included.\n",
      "\n",
      "collocation_threshold: int, default=30\n",
      "    Bigrams must have a Dunning likelihood collocation score greater than this\n",
      "    parameter to be counted as bigrams. Default of 30 is arbitrary.\n",
      "\n",
      "    See Manning, C.D., Manning, C.D. and Schütze, H., 1999. Foundations of\n",
      "    Statistical Natural Language Processing. MIT press, p. 162\n",
      "    https://nlp.stanford.edu/fsnlp/promo/colloc.pdf#page=22\n",
      "\n",
      "Attributes\n",
      "----------\n",
      "``words_`` : dict of string to float\n",
      "    Word tokens with associated frequency.\n",
      "\n",
      "    .. versionchanged: 2.0\n",
      "        ``words_`` is now a dictionary\n",
      "\n",
      "``layout_`` : list of tuples ((string, float), int, (int, int), int, color))\n",
      "    Encodes the fitted word cloud. For each word, it encodes the string,\n",
      "    normalized frequency, font size, position, orientation, and color.\n",
      "    The frequencies are normalized by the most commonly occurring word.\n",
      "    The color is in the format of 'rgb(R, G, B).'\n",
      "\n",
      "Notes\n",
      "-----\n",
      "Larger canvases make the code significantly slower. If you need a\n",
      "large word cloud, try a lower canvas size, and set the scale parameter.\n",
      "\n",
      "The algorithm might give more weight to the ranking of the words\n",
      "than their actual frequencies, depending on the ``max_font_size`` and the\n",
      "scaling heuristic.\n",
      "\u001b[1;31mFile:\u001b[0m           c:\\users\\juggl\\anaconda3\\envs\\dev39\\lib\\site-packages\\wordcloud\\wordcloud.py\n",
      "\u001b[1;31mType:\u001b[0m           type\n",
      "\u001b[1;31mSubclasses:\u001b[0m     "
     ]
    }
   ],
   "source": [
    "?WordCloud"
   ]
  },
  {
   "cell_type": "code",
   "execution_count": 82,
   "metadata": {},
   "outputs": [
    {
     "data": {
      "image/png": "[encoded data removed]",
      "text/plain": [
       "<Figure size 640x480 with 1 Axes>"
      ]
     },
     "metadata": {},
     "output_type": "display_data"
    }
   ],
   "source": [
    "# Generate a word cloud image\n",
    "wordcloud = WordCloud(stopwords=stopwords, \n",
    "                      background_color=\"white\",\n",
    "                      width = 800,\n",
    "                      height = 400,\n",
    "                      max_words = 100, \n",
    "                      colormap= 'twilight_shifted').generate(all_words)\n",
    "\n",
    "\n",
    "# Display the generated image:\n",
    "# the matplotlib way:\n",
    "plt.imshow(wordcloud, interpolation='bilinear')\n",
    "plt.axis(\"off\")\n",
    "plt.show()"
   ]
  },
  {
   "cell_type": "markdown",
   "metadata": {},
   "source": [
    "## Visualizations"
   ]
  },
  {
   "cell_type": "code",
   "execution_count": 83,
   "metadata": {},
   "outputs": [],
   "source": [
    "import plotly.express as px"
   ]
  },
  {
   "cell_type": "code",
   "execution_count": 85,
   "metadata": {},
   "outputs": [
    {
     "data": {
      "text/plain": [
       "country\n",
       "US           46716\n",
       "France       12879\n",
       "Italy        9261 \n",
       "Spain        3374 \n",
       "Argentina    3080 \n",
       "Australia    1227 \n",
       "Canada       199  \n",
       "Name: count, dtype: int64"
      ]
     },
     "execution_count": 85,
     "metadata": {},
     "output_type": "execute_result"
    }
   ],
   "source": [
    "wine_df['country'].value_counts()"
   ]
  },
  {
   "cell_type": "code",
   "execution_count": 90,
   "metadata": {},
   "outputs": [
    {
     "data": {
      "application/vnd.plotly.v1+json": {
       "config": {
        "plotlyServerURL": "https://plot.ly"
       },
       "data": [
        {
         "hovertemplate": "<b>%{hovertext}</b><br><br>type=Red<br>price=%{marker.size}<br>points=%{y}<extra></extra>",
         "hovertext": [
          "Burrowing Owl 2014 Pinot Noir (Okanagan Valley)",
          "Burrowing Owl 2013 Cabernet Franc (Okanagan Valley)",
          "Cave Spring 2014 Cabernet Franc (Niagara Escarpment)",
          "Quails' Gate 2009 Pinot Noir (Okanagan Valley)",
          "Township 7 2014 Rock Pocket Vineyard Cabernet Franc (Okanagan Valley)",
          "Painted Rock 2010 Estate Grown Syrah (Okanagan Valley)",
          "Church & State 2010 Coyote Bowl Series Cabernet Franc (Okanagan Valley)",
          "Pillitteri 2010 Icewine Cabernet Sauvignon (Niagara-On-The-Lake)",
          "Pillitteri 2011 Icewine Cabernet Franc (Niagara-On-The-Lake)",
          "Tinhorn Creek 2012 Cabernet Franc (Okanagan Valley)",
          "Bachelder 2014 Lowrey Vineyard Old Vines Pinot Noir (St. David's Bench)",
          "Tinhorn Creek 2013 Oldfield Series Cabernet Franc (Okanagan Valley)",
          "Tinhorn Creek 2011 Pinot Noir (Okanagan Valley)",
          "Nk'Mip Cellars 2009 Qwam Qwmt Syrah (Okanagan Valley)",
          "Nk'Mip Cellars 2009 Qwam Qwmt Syrah (Okanagan Valley)",
          "Pillitteri 2012 Exclamation Reserve Cabernet Franc (Niagara-On-The-Lake)",
          "Fairview Cellars 2005 Cabernet Franc (Okanagan Valley)",
          "Burrowing Owl 2012 Merlot (Okanagan Valley)",
          "CedarCreek 2012 Block 2 Platinum Pinot Noir (Okanagan Valley)",
          "Burrowing Owl 2013 Syrah (Okanagan Valley)",
          "Painted Rock 2010 Estate Grown Syrah (Okanagan Valley)",
          "Le Vieux Pin 2011 Équinoxe Syrah (Okanagan Valley)",
          "Le Vieux Pin 2012 Cuvée Classique Syrah (Okanagan Valley)",
          "Burrowing Owl 2011 Merlot (Okanagan Valley)",
          "Township 7 2014 Rock Pocket Vineyard Cabernet Franc (Okanagan Valley)",
          "Tinhorn Creek 2012 Oldfield Series Pinot Noir (Okanagan Valley)",
          "Meyer Family Vineyards 2012 McLean Creek Road Vineyard Pinot Noir (Okanagan Valley)",
          "Burrowing Owl 2013 Merlot (Okanagan Valley)",
          "Meyer Family Vineyards 2013 McLean Creek Road Vineyard Pinot Noir (Okanagan Valley)",
          "Tinhorn Creek 2013 Oldfield Series 2Bench Cabernet Franc (Okanagan Valley)",
          "Burrowing Owl 2014 Malbec (Okanagan Valley)",
          "Tinhorn Creek 2013 Oldfield Series Syrah (Okanagan Valley)",
          "Cave Spring 2014 Cabernet Franc (Niagara Escarpment)",
          "Burrowing Owl 2011 Cabernet Franc (Okanagan Valley)",
          "Pillitteri 2002 Family Reserve Cabernet Sauvignon (Niagara Peninsula)",
          "Burrowing Owl 2014 Cabernet Franc (Okanagan Valley)",
          "Burrowing Owl 2013 Cabernet Sauvignon (Okanagan Valley)",
          "Nk'Mip Cellars 2011 Merlot (Okanagan Valley)",
          "Burrowing Owl 2013 Merlot (Okanagan Valley)",
          "Cave Spring 2014 Pinot Noir (Niagara Escarpment)",
          "Burrowing Owl 2012 Cabernet Sauvignon (Okanagan Valley)",
          "Tinhorn Creek 2014 Cabernet Franc (Okanagan Valley)",
          "Tinhorn Creek 2014 Merlot (Okanagan Valley)",
          "Vanessa 2012 Syrah (Similkameen Valley)",
          "Tinhorn Creek 2013 Cabernet Franc (Okanagan Valley)",
          "Township 7 2012 Rock Pocket Vineyard Cabernet Franc (Okanagan Valley)",
          "Burrowing Owl 2011 Cabernet Sauvignon (Okanagan Valley)",
          "Mission Hill 2014 Reserve Pinot Noir (Okanagan Valley)",
          "Tinhorn Creek 2013 Oldfield Series 2Bench Cabernet Franc (Okanagan Valley)",
          "Foxtrot 2013 Foxtrot Vineyard Pinot Noir (Okanagan Valley)",
          "Inniskillin 2008 Icewine Cabernet Franc (Niagara Peninsula)",
          "Peller 2011 Icewine Cabernet Franc (Niagara Peninsula)",
          "Meyer Family Vineyards 2012 Pinot Noir (Okanagan Valley)",
          "Meyer Family Vineyards 2013 Pinot Noir (Okanagan Valley)",
          "Wayne Gretzky Estates 2012 No. 99 Icewine Cabernet Franc (Niagara Peninsula)",
          "Tinhorn Creek 2012 Oldfield Series Merlot (Okanagan Valley)",
          "Tinhorn Creek 2013 Pinot Noir (Okanagan Valley)",
          "Black Hills 2012 Syrah (Okanagan Valley)",
          "Cave Spring 2015 Pinot Noir (Niagara Escarpment)",
          "Foxtrot 2012 Henricsson Vineyard Pinot Noir (Okanagan Valley)",
          "Meyer Family Vineyards 2012 Reimer Vineyard Pinot Noir (Okanagan Valley)",
          "Burrowing Owl 2012 Cabernet Sauvignon (Okanagan Valley)",
          "Tinhorn Creek 2013 Oldfield Series Merlot (Okanagan Valley)",
          "Tinhorn Creek 2010 Oldfield Series Pinot Noir (Okanagan Valley)",
          "Reif Estate 2002 First Growth Merlot (Niagara Peninsula)",
          "Church & State 2010 Coyote Bowl Series Cabernet Franc (Okanagan Valley)",
          "Kettle Valley 2005 Pinot Noir (Okanagan Valley)",
          "Meyer Family Vineyards 2013 McLean Creek Road Vineyard Pinot Noir (Okanagan Valley)",
          "Konzelmann 2007 Icewine Cabernet Sauvignon (Niagara Peninsula)",
          "CedarCreek 2012 Block 4 Platinum Pinot Noir (Okanagan Valley)",
          "Tinhorn Creek 2011 Oldfield Series Merlot (Okanagan Valley)",
          "Church & State 2011 Coyote Bowl Series Syrah (Okanagan Valley)",
          "Township 7 2013 Rock Pocket Vineyard Cabernet Franc (Okanagan Valley)",
          "Inniskillin 2008 Icewine Cabernet Franc (Niagara Peninsula)",
          "Vanessa 2012 Syrah (Similkameen Valley)",
          "Mission Hill 2014 Reserve Pinot Noir (Okanagan Valley)",
          "Meyer Family Vineyards 2013 Reimer Family Vineyards Pinot Noir (Okanagan Valley)",
          "Le Vieux Pin 2012 Equinoxe Syrah (Okanagan Valley)",
          "Tinhorn Creek 2012 Merlot (Okanagan Valley)",
          "Burrowing Owl 2013 Syrah (Okanagan Valley)"
         ],
         "legendgroup": "Red",
         "marker": {
          "color": "#636efa",
          "size": [
           32,
           38,
           20,
           20,
           28,
           65,
           35,
           70,
           70,
           25,
           34,
           32,
           22,
           35,
           35,
           45,
           33,
           35,
           45,
           38,
           65,
           85,
           45,
           35,
           28,
           33,
           40,
           32,
           40,
           23,
           32,
           32,
           20,
           40,
           50,
           34,
           36,
           20,
           32,
           20,
           39,
           22,
           21,
           34,
           23,
           31,
           40,
           32,
           23,
           50,
           95,
           95,
           25,
           25,
           95,
           28,
           22,
           37,
           20,
           44,
           40,
           39,
           27,
           30,
           50,
           35,
           30,
           40,
           58,
           45,
           30,
           35,
           31,
           95,
           34,
           32,
           40,
           85,
           20,
           38
          ],
          "sizemode": "area",
          "sizeref": 0.3,
          "symbol": "circle"
         },
         "mode": "markers",
         "name": "Red",
         "orientation": "v",
         "showlegend": true,
         "type": "scatter",
         "x": [
          32,
          38,
          20,
          20,
          28,
          65,
          35,
          70,
          70,
          25,
          34,
          32,
          22,
          35,
          35,
          45,
          33,
          35,
          45,
          38,
          65,
          85,
          45,
          35,
          28,
          33,
          40,
          32,
          40,
          23,
          32,
          32,
          20,
          40,
          50,
          34,
          36,
          20,
          32,
          20,
          39,
          22,
          21,
          34,
          23,
          31,
          40,
          32,
          23,
          50,
          95,
          95,
          25,
          25,
          95,
          28,
          22,
          37,
          20,
          44,
          40,
          39,
          27,
          30,
          50,
          35,
          30,
          40,
          58,
          45,
          30,
          35,
          31,
          95,
          34,
          32,
          40,
          85,
          20,
          38
         ],
         "xaxis": "x",
         "y": [
          92,
          91,
          89,
          88,
          87,
          92,
          91,
          90,
          90,
          88,
          90,
          91,
          82,
          89,
          89,
          86,
          91,
          91,
          93,
          90,
          92,
          92,
          94,
          89,
          87,
          87,
          87,
          91,
          89,
          86,
          92,
          88,
          89,
          89,
          85,
          91,
          91,
          86,
          91,
          88,
          92,
          90,
          92,
          93,
          87,
          89,
          91,
          88,
          86,
          90,
          89,
          91,
          88,
          87,
          92,
          85,
          85,
          91,
          87,
          91,
          89,
          92,
          93,
          86,
          84,
          91,
          92,
          89,
          89,
          91,
          90,
          90,
          88,
          89,
          93,
          88,
          89,
          93,
          87,
          90
         ],
         "yaxis": "y"
        },
        {
         "hovertemplate": "<b>%{hovertext}</b><br><br>type=White<br>price=%{marker.size}<br>points=%{y}<extra></extra>",
         "hovertext": [
          "Pillitteri 2004 Select Late Harvest Riesling (Niagara Peninsula)",
          "Township 7 2015 Blue Terrace Vineyard Reserve Sauvignon Blanc (Okanagan Valley)",
          "Inniskillin 2008 Ice Wine Riesling (Niagara Peninsula)",
          "Cave Spring 2012 CSV Estate Bottled Riesling (Beamsville Bench)",
          "North 42 Degrees 2016 Sweet Riesling (Lake Erie North Shore)",
          "Cave Spring 2013 Riesling Icewine Riesling (Niagara Peninsula)",
          "Stratus 2008 Icewine Riesling (Niagara Peninsula)",
          "North 42 Degrees 2016 Reserve Riesling (Lake Erie North Shore)",
          "Black Hills 2013 Chardonnay (Okanagan Valley)",
          "Henry of Pelham 1999 Icewine Riesling (Niagara Peninsula)",
          "Quails' Gate 2009 Chardonnay (Okanagan Valley)",
          "Township 7 2015 Blue Terrace Vineyard Reserve Sauvignon Blanc (Okanagan Valley)",
          "Cave Spring 2012 CSV Estate Bottled Riesling (Beamsville Bench)",
          "Colio 1998 Select Late Harvest Riesling (Lake Erie North Shore)",
          "Quails' Gate 2012 Chardonnay (Okanagan Valley)",
          "Cave Spring 2009 Indian Summer Riesling (Niagara Peninsula)",
          "Meyer Family Vineyards 2012 Meyer Chardonnay (Okanagan Valley)",
          "Cave Spring 1999 Ice Wine Riesling (Niagara Peninsula)",
          "Rosehall Run 2008 Rosehall Vineyard Chardonnay (Prince Edward County)",
          "Cave Spring 2013 CSV Estate Bottled Riesling (Beamsville Bench)",
          "Inniskillin 2012 Icewine Niagara Estate Riesling (Niagara Peninsula)",
          "Township 7 2015 Sundial Vineyard Reserve Chardonnay (Okanagan Valley)",
          "North 42 Degrees 2016 Sauvignon Blanc (Lake Erie North Shore)",
          "Township 7 2014 Sauvignon Blanc (Okanagan Valley)",
          "Cave Spring 2008 Riesling (Niagara Peninsula)",
          "Cave Spring 2014 Estate Bottled Riesling (Beamsville Bench)",
          "Cave Spring 2014 Indian Summer Riesling (Niagara Peninsula)",
          "Mission Hill 2013 Reserve Chardonnay (Okanagan Valley)",
          "Cave Spring 2015 Estate Riesling (Beamsville Bench)",
          "Cave Spring 2011 Estate Bottled Cave Spring Vineyard Riesling (Beamsville Bench)",
          "Burrowing Owl 2012 Chardonnay (Okanagan Valley)",
          "Cave Spring 2014 CSV Estate Bottled Riesling (Beamsville Bench)",
          "North 42 Degrees 2016 Sparkling Sauvignon Blanc (Lake Erie North Shore)",
          "Equifera 2009 Icewine Riesling (Niagara Peninsula)",
          "Burrowing Owl 2015 Chardonnay (Okanagan Valley)",
          "Church & State 2012 Coyote Bowl Series Chardonnay (Okanagan Valley)",
          "Tantalus Vineyards 2012 Riesling (Okanagan Valley)",
          "Meyer Family Vineyards 2012 McLean Creek Vineyard Chardonnay (Okanagan Valley)",
          "North 42 Degrees 2016 Riesling (Lake Erie North Shore)",
          "Tinhorn Creek 2013 Pinot Gris (Okanagan Valley)",
          "Cave Spring 2014 Icewine Riesling (Niagara Peninsula)",
          "Pillitteri 2011 Icewine Riesling (Niagara-On-The-Lake)",
          "Cave Spring 2015 CSV Estate Bottled Riesling (Beamsville Bench)",
          "Cave Spring 2015 Riesling (Niagara Peninsula)",
          "Quails' Gate 2009 Stewart Family Reserve Chardonnay (Okanagan Valley)",
          "Cave Spring 2014 Riesling (Niagara Peninsula)",
          "Mission Hill 2014 Reserve Riesling (Okanagan Valley)",
          "Burrowing Owl 2013 Sauvignon Blanc (Okanagan Valley)",
          "Cave Spring 2014 CSV Estate Bottled Riesling (Beamsville Bench)",
          "Quails' Gate 2012 Chardonnay (Okanagan Valley)",
          "Cave Spring 2008 Icewine Sweet Wine Riesling (Niagara Peninsula)",
          "Peller 2008 Icewine Riesling (Niagara Peninsula)",
          "Cave Spring 2009 Indian Summer Riesling (Niagara Peninsula)",
          "Township 7 2015 Naramata Estate Vineyard Reserve Pinot Gris (Okanagan Valley)",
          "Quails' Gate 2009 Chardonnay (Okanagan Valley)",
          "Mission Hill 2011 Icewine Riesling (Okanagan Valley)",
          "Meyer Family Vineyards 2013 McLean Creek Road Vineyard Chardonnay (Okanagan Valley)",
          "Tinhorn Creek 2014 Chardonnay (Okanagan Valley)",
          "CedarCreek 2012 Block 5 Platinum Chardonnay (Okanagan Valley)",
          "Mission Hill 2011 Icewine Riesling (Okanagan Valley)",
          "Meyer Family Vineyards 2012 Meyer Chardonnay (Okanagan Valley)",
          "Henry of Pelham 1998 Botrytis Affected Riesling (Niagara Peninsula)",
          "Mission Hill 2012 Southern Cross Sauvignon Blanc (Okanagan Valley)",
          "Cave Spring 2012 Select Late Harvest Indian Summer Riesling (Niagara Peninsula)",
          "Henry of Pelham 2007 Reserve Off-Dry Riesling (Short Hills Bench)",
          "Laughing Stock 2015 Pinot Gris (Okanagan Valley)",
          "North 42 Degrees 2016 Sweet Riesling (Lake Erie North Shore)",
          "Château des Charmes 2009 St. David's Bench Vineyard Chardonnay (St. David's Bench)",
          "Cave Spring 2013 Riesling (Niagara Peninsula)",
          "Township 7 2015 Sauvignon Blanc (Okanagan Valley)",
          "Burrowing Owl 2014 Chardonnay (Okanagan Valley)",
          "Henry of Pelham 1998 Select Late Harvest Riesling (Niagara Peninsula)",
          "Township 7 2013 Sauvignon Blanc (Okanagan Valley)",
          "Cave Spring 2008 Beamsville Bench Riesling (Niagara Peninsula)",
          "Château des Charmes 2008 Riesling (Niagara-On-The-Lake)",
          "Cave Spring 2011 Cave Spring Vineyard Estate Bottled VQA Riesling (Beamsville Bench)",
          "St. Hubertus 2012 Dry Riesling (Okanagan Valley)",
          "Inniskillin 2005 Icewine Riesling (Niagara Peninsula)",
          "Foxtrot 2014 Four Shadows Chardonnay (Okanagan Valley)",
          "Henry of Pelham 2004 Icewine Riesling (Niagara Peninsula)",
          "Calliope 2013 Sauvignon Blanc (British Columbia)",
          "Tantalus 2006 Old Vine Riesling (Okanagan Valley)",
          "Cave Spring 2011 Indian Summer Select Late Harvest VQA Riesling (Niagara Peninsula)",
          "Nk'Mip Cellars 2012 Chardonnay (Okanagan Valley)",
          "Tinhorn Creek 2013 Pinot Gris (Okanagan Valley)",
          "Black Hills 2013 Chardonnay (Okanagan Valley)",
          "Mission Hill 2013 Perpetua Chardonnay (Okanagan Valley)",
          "Township 7 2014 Reserve Chardonnay (Okanagan Valley)",
          "Tinhorn Creek 2013 Chardonnay (Okanagan Valley)",
          "Cave Spring 2011 Riesling (Niagara Peninsula)",
          "Henry of Pelham 2012 Icewine Riesling (Short Hills Bench)"
         ],
         "legendgroup": "White",
         "marker": {
          "color": "#EF553B",
          "size": [
           24,
           23,
           80,
           25,
           16,
           60,
           70,
           28,
           30,
           50,
           15,
           23,
           25,
           18,
           20,
           30,
           20,
           50,
           30,
           25,
           80,
           25,
           18,
           18,
           12,
           17,
           30,
           24,
           18,
           16,
           30,
           26,
           20,
           70,
           30,
           27,
           25,
           30,
           16,
           19,
           60,
           40,
           28,
           16,
           24,
           15,
           24,
           27,
           26,
           20,
           50,
           90,
           30,
           23,
           15,
           65,
           30,
           21,
           30,
           65,
           20,
           30,
           30,
           30,
           16,
           15,
           16,
           20,
           15,
           18,
           30,
           23,
           20,
           15,
           13,
           25,
           20,
           80,
           41,
           50,
           20,
           27,
           30,
           17,
           19,
           30,
           50,
           18,
           19,
           13,
           50
          ],
          "sizemode": "area",
          "sizeref": 0.3,
          "symbol": "circle"
         },
         "mode": "markers",
         "name": "White",
         "orientation": "v",
         "showlegend": true,
         "type": "scatter",
         "x": [
          24,
          23,
          80,
          25,
          16,
          60,
          70,
          28,
          30,
          50,
          15,
          23,
          25,
          18,
          20,
          30,
          20,
          50,
          30,
          25,
          80,
          25,
          18,
          18,
          12,
          17,
          30,
          24,
          18,
          16,
          30,
          26,
          20,
          70,
          30,
          27,
          25,
          30,
          16,
          19,
          60,
          40,
          28,
          16,
          24,
          15,
          24,
          27,
          26,
          20,
          50,
          90,
          30,
          23,
          15,
          65,
          30,
          21,
          30,
          65,
          20,
          30,
          30,
          30,
          16,
          15,
          16,
          20,
          15,
          18,
          30,
          23,
          20,
          15,
          13,
          25,
          20,
          80,
          41,
          50,
          20,
          27,
          30,
          17,
          19,
          30,
          50,
          18,
          19,
          13,
          50
         ],
         "xaxis": "x",
         "y": [
          87,
          90,
          91,
          92,
          87,
          94,
          92,
          84,
          90,
          91,
          88,
          90,
          92,
          86,
          89,
          90,
          88,
          88,
          86,
          93,
          93,
          90,
          85,
          87,
          88,
          87,
          87,
          88,
          93,
          89,
          87,
          90,
          85,
          91,
          89,
          88,
          91,
          90,
          87,
          90,
          91,
          91,
          92,
          92,
          91,
          88,
          90,
          90,
          90,
          89,
          93,
          93,
          90,
          91,
          88,
          91,
          87,
          87,
          93,
          91,
          88,
          88,
          90,
          89,
          82,
          90,
          87,
          86,
          90,
          91,
          93,
          87,
          88,
          87,
          87,
          90,
          87,
          90,
          89,
          85,
          88,
          92,
          91,
          90,
          90,
          90,
          91,
          89,
          87,
          88,
          88
         ],
         "yaxis": "y"
        },
        {
         "hovertemplate": "<b>%{hovertext}</b><br><br>type=Red Blend<br>price=%{marker.size}<br>points=%{y}<extra></extra>",
         "hovertext": [
          "Laughing Stock 2011 LFNG Blind Trust Red (Okanagan Valley)",
          "Vista d'Oro 2007 D'Oro Red (Okanagan Valley)",
          "Black Hills 2012 Nota Bene Red (Okanagan Valley)",
          "Mission Hill 2011 Oculus Red (Okanagan Valley)",
          "Township 7 2012 Reserve 7 Red (Okanagan Valley)",
          "Calliope 2013 Figure 8 Red (British Columbia)",
          "Laughing Stock 2014 Portfolio Red (Okanagan Valley)",
          "Black Hills 2012 Nota Bene Red (Okanagan Valley)",
          "Tinhorn Creek 2013 Oldfield Series 2Bench Red Red (Okanagan Valley)",
          "Laughing Stock 2014 Blind Trust Red (Okanagan Valley)",
          "Painted Rock 2010 Estate Grown Red Icon Red (Okanagan Valley)",
          "Township 7 2014 Reserve 7 Red (Okanagan Valley)",
          "Tinhorn Creek 2012 Oldfield Series 2Bench Red (Okanagan Valley)",
          "Mission Hill 2011 Compendium Red (Okanagan Valley)",
          "Township 7 2013 Reserve 7 Red (Okanagan Valley)",
          "Tinhorn Creek 2012 Oldfield Series 2Bench Red (Okanagan Valley)",
          "Cellar Hand 2012 Punch Down Red (Okanagan Valley)",
          "Culmina 2013 Thesis Red (Okanagan Valley)",
          "Van Westen 2003 Voluptuous Red Red (Okanagan Valley)",
          "LaStella 2011 Fortissimo Red (Okanagan Valley)"
         ],
         "legendgroup": "Red Blend",
         "marker": {
          "color": "#00cc96",
          "size": [
           30,
           35,
           60,
           120,
           36,
           25,
           40,
           60,
           30,
           25,
           65,
           33,
           32,
           70,
           33,
           32,
           20,
           60,
           31,
           35
          ],
          "sizemode": "area",
          "sizeref": 0.3,
          "symbol": "circle"
         },
         "mode": "markers",
         "name": "Red Blend",
         "orientation": "v",
         "showlegend": true,
         "type": "scatter",
         "x": [
          30,
          35,
          60,
          120,
          36,
          25,
          40,
          60,
          30,
          25,
          65,
          33,
          32,
          70,
          33,
          32,
          20,
          60,
          31,
          35
         ],
         "xaxis": "x",
         "y": [
          92,
          92,
          92,
          91,
          91,
          88,
          94,
          92,
          90,
          92,
          91,
          87,
          87,
          90,
          90,
          87,
          91,
          91,
          90,
          92
         ],
         "yaxis": "y"
        },
        {
         "hovertemplate": "<b>%{hovertext}</b><br><br>type=White Blend<br>price=%{marker.size}<br>points=%{y}<extra></extra>",
         "hovertext": [
          "Tinhorn Creek 2015 Oldfield Series 2Bench White (Okanagan Valley)",
          "Cellar Hand 2013 Free Run White (Okanagan Valley)",
          "Tinhorn Creek 2013 Oldfield Series 2Bench White (Okanagan Valley)",
          "Joie 2006 A Noble Blend White White (Okanagan Valley)",
          "Tinhorn Creek 2014 Oldfield Series 2Bench White (Okanagan Valley)"
         ],
         "legendgroup": "White Blend",
         "marker": {
          "color": "#ab63fa",
          "size": [
           20,
           16,
           23,
           22,
           21
          ],
          "sizemode": "area",
          "sizeref": 0.3,
          "symbol": "circle"
         },
         "mode": "markers",
         "name": "White Blend",
         "orientation": "v",
         "showlegend": true,
         "type": "scatter",
         "x": [
          20,
          16,
          23,
          22,
          21
         ],
         "xaxis": "x",
         "y": [
          87,
          88,
          88,
          89,
          87
         ],
         "yaxis": "y"
        },
        {
         "hovertemplate": "<b>%{hovertext}</b><br><br>type=Rosé<br>price=%{marker.size}<br>points=%{y}<extra></extra>",
         "hovertext": [
          "North 42 Degrees 2016 Cabernet Sauvignon Rosé (Lake Erie North Shore)",
          "Township 7 2014 Rosé (Okanagan Valley)",
          "Le Vieux Pin 2006 Vaïla Pinot Noir Rosé (Okanagan Valley)"
         ],
         "legendgroup": "Rosé",
         "marker": {
          "color": "#FFA15A",
          "size": [
           18,
           18,
           24
          ],
          "sizemode": "area",
          "sizeref": 0.3,
          "symbol": "circle"
         },
         "mode": "markers",
         "name": "Rosé",
         "orientation": "v",
         "showlegend": true,
         "type": "scatter",
         "x": [
          18,
          18,
          24
         ],
         "xaxis": "x",
         "y": [
          83,
          88,
          90
         ],
         "yaxis": "y"
        }
       ],
       "layout": {
        "legend": {
         "itemsizing": "constant",
         "title": {
          "text": "type"
         },
         "tracegroupgap": 0
        },
        "margin": {
         "t": 60
        },
        "template": {
         "data": {
          "bar": [
           {
            "error_x": {
             "color": "#2a3f5f"
            },
            "error_y": {
             "color": "#2a3f5f"
            },
            "marker": {
             "line": {
              "color": "#E5ECF6",
              "width": 0.5
             },
             "pattern": {
              "fillmode": "overlay",
              "size": 10,
              "solidity": 0.2
             }
            },
            "type": "bar"
           }
          ],
          "barpolar": [
           {
            "marker": {
             "line": {
              "color": "#E5ECF6",
              "width": 0.5
             },
             "pattern": {
              "fillmode": "overlay",
              "size": 10,
              "solidity": 0.2
             }
            },
            "type": "barpolar"
           }
          ],
          "carpet": [
           {
            "aaxis": {
             "endlinecolor": "#2a3f5f",
             "gridcolor": "white",
             "linecolor": "white",
             "minorgridcolor": "white",
             "startlinecolor": "#2a3f5f"
            },
            "baxis": {
             "endlinecolor": "#2a3f5f",
             "gridcolor": "white",
             "linecolor": "white",
             "minorgridcolor": "white",
             "startlinecolor": "#2a3f5f"
            },
            "type": "carpet"
           }
          ],
          "choropleth": [
           {
            "colorbar": {
             "outlinewidth": 0,
             "ticks": ""
            },
            "type": "choropleth"
           }
          ],
          "contour": [
           {
            "colorbar": {
             "outlinewidth": 0,
             "ticks": ""
            },
            "colorscale": [
             [
              0,
              "#0d0887"
             ],
             [
              0.1111111111111111,
              "#46039f"
             ],
             [
              0.2222222222222222,
              "#7201a8"
             ],
             [
              0.3333333333333333,
              "#9c179e"
             ],
             [
              0.4444444444444444,
              "#bd3786"
             ],
             [
              0.5555555555555556,
              "#d8576b"
             ],
             [
              0.6666666666666666,
              "#ed7953"
             ],
             [
              0.7777777777777778,
              "#fb9f3a"
             ],
             [
              0.8888888888888888,
              "#fdca26"
             ],
             [
              1,
              "#f0f921"
             ]
            ],
            "type": "contour"
           }
          ],
          "contourcarpet": [
           {
            "colorbar": {
             "outlinewidth": 0,
             "ticks": ""
            },
            "type": "contourcarpet"
           }
          ],
          "heatmap": [
           {
            "colorbar": {
             "outlinewidth": 0,
             "ticks": ""
            },
            "colorscale": [
             [
              0,
              "#0d0887"
             ],
             [
              0.1111111111111111,
              "#46039f"
             ],
             [
              0.2222222222222222,
              "#7201a8"
             ],
             [
              0.3333333333333333,
              "#9c179e"
             ],
             [
              0.4444444444444444,
              "#bd3786"
             ],
             [
              0.5555555555555556,
              "#d8576b"
             ],
             [
              0.6666666666666666,
              "#ed7953"
             ],
             [
              0.7777777777777778,
              "#fb9f3a"
             ],
             [
              0.8888888888888888,
              "#fdca26"
             ],
             [
              1,
              "#f0f921"
             ]
            ],
            "type": "heatmap"
           }
          ],
          "heatmapgl": [
           {
            "colorbar": {
             "outlinewidth": 0,
             "ticks": ""
            },
            "colorscale": [
             [
              0,
              "#0d0887"
             ],
             [
              0.1111111111111111,
              "#46039f"
             ],
             [
              0.2222222222222222,
              "#7201a8"
             ],
             [
              0.3333333333333333,
              "#9c179e"
             ],
             [
              0.4444444444444444,
              "#bd3786"
             ],
             [
              0.5555555555555556,
              "#d8576b"
             ],
             [
              0.6666666666666666,
              "#ed7953"
             ],
             [
              0.7777777777777778,
              "#fb9f3a"
             ],
             [
              0.8888888888888888,
              "#fdca26"
             ],
             [
              1,
              "#f0f921"
             ]
            ],
            "type": "heatmapgl"
           }
          ],
          "histogram": [
           {
            "marker": {
             "pattern": {
              "fillmode": "overlay",
              "size": 10,
              "solidity": 0.2
             }
            },
            "type": "histogram"
           }
          ],
          "histogram2d": [
           {
            "colorbar": {
             "outlinewidth": 0,
             "ticks": ""
            },
            "colorscale": [
             [
              0,
              "#0d0887"
             ],
             [
              0.1111111111111111,
              "#46039f"
             ],
             [
              0.2222222222222222,
              "#7201a8"
             ],
             [
              0.3333333333333333,
              "#9c179e"
             ],
             [
              0.4444444444444444,
              "#bd3786"
             ],
             [
              0.5555555555555556,
              "#d8576b"
             ],
             [
              0.6666666666666666,
              "#ed7953"
             ],
             [
              0.7777777777777778,
              "#fb9f3a"
             ],
             [
              0.8888888888888888,
              "#fdca26"
             ],
             [
              1,
              "#f0f921"
             ]
            ],
            "type": "histogram2d"
           }
          ],
          "histogram2dcontour": [
           {
            "colorbar": {
             "outlinewidth": 0,
             "ticks": ""
            },
            "colorscale": [
             [
              0,
              "#0d0887"
             ],
             [
              0.1111111111111111,
              "#46039f"
             ],
             [
              0.2222222222222222,
              "#7201a8"
             ],
             [
              0.3333333333333333,
              "#9c179e"
             ],
             [
              0.4444444444444444,
              "#bd3786"
             ],
             [
              0.5555555555555556,
              "#d8576b"
             ],
             [
              0.6666666666666666,
              "#ed7953"
             ],
             [
              0.7777777777777778,
              "#fb9f3a"
             ],
             [
              0.8888888888888888,
              "#fdca26"
             ],
             [
              1,
              "#f0f921"
             ]
            ],
            "type": "histogram2dcontour"
           }
          ],
          "mesh3d": [
           {
            "colorbar": {
             "outlinewidth": 0,
             "ticks": ""
            },
            "type": "mesh3d"
           }
          ],
          "parcoords": [
           {
            "line": {
             "colorbar": {
              "outlinewidth": 0,
              "ticks": ""
             }
            },
            "type": "parcoords"
           }
          ],
          "pie": [
           {
            "automargin": true,
            "type": "pie"
           }
          ],
          "scatter": [
           {
            "fillpattern": {
             "fillmode": "overlay",
             "size": 10,
             "solidity": 0.2
            },
            "type": "scatter"
           }
          ],
          "scatter3d": [
           {
            "line": {
             "colorbar": {
              "outlinewidth": 0,
              "ticks": ""
             }
            },
            "marker": {
             "colorbar": {
              "outlinewidth": 0,
              "ticks": ""
             }
            },
            "type": "scatter3d"
           }
          ],
          "scattercarpet": [
           {
            "marker": {
             "colorbar": {
              "outlinewidth": 0,
              "ticks": ""
             }
            },
            "type": "scattercarpet"
           }
          ],
          "scattergeo": [
           {
            "marker": {
             "colorbar": {
              "outlinewidth": 0,
              "ticks": ""
             }
            },
            "type": "scattergeo"
           }
          ],
          "scattergl": [
           {
            "marker": {
             "colorbar": {
              "outlinewidth": 0,
              "ticks": ""
             }
            },
            "type": "scattergl"
           }
          ],
          "scattermapbox": [
           {
            "marker": {
             "colorbar": {
              "outlinewidth": 0,
              "ticks": ""
             }
            },
            "type": "scattermapbox"
           }
          ],
          "scatterpolar": [
           {
            "marker": {
             "colorbar": {
              "outlinewidth": 0,
              "ticks": ""
             }
            },
            "type": "scatterpolar"
           }
          ],
          "scatterpolargl": [
           {
            "marker": {
             "colorbar": {
              "outlinewidth": 0,
              "ticks": ""
             }
            },
            "type": "scatterpolargl"
           }
          ],
          "scatterternary": [
           {
            "marker": {
             "colorbar": {
              "outlinewidth": 0,
              "ticks": ""
             }
            },
            "type": "scatterternary"
           }
          ],
          "surface": [
           {
            "colorbar": {
             "outlinewidth": 0,
             "ticks": ""
            },
            "colorscale": [
             [
              0,
              "#0d0887"
             ],
             [
              0.1111111111111111,
              "#46039f"
             ],
             [
              0.2222222222222222,
              "#7201a8"
             ],
             [
              0.3333333333333333,
              "#9c179e"
             ],
             [
              0.4444444444444444,
              "#bd3786"
             ],
             [
              0.5555555555555556,
              "#d8576b"
             ],
             [
              0.6666666666666666,
              "#ed7953"
             ],
             [
              0.7777777777777778,
              "#fb9f3a"
             ],
             [
              0.8888888888888888,
              "#fdca26"
             ],
             [
              1,
              "#f0f921"
             ]
            ],
            "type": "surface"
           }
          ],
          "table": [
           {
            "cells": {
             "fill": {
              "color": "#EBF0F8"
             },
             "line": {
              "color": "white"
             }
            },
            "header": {
             "fill": {
              "color": "#C8D4E3"
             },
             "line": {
              "color": "white"
             }
            },
            "type": "table"
           }
          ]
         },
         "layout": {
          "annotationdefaults": {
           "arrowcolor": "#2a3f5f",
           "arrowhead": 0,
           "arrowwidth": 1
          },
          "autotypenumbers": "strict",
          "coloraxis": {
           "colorbar": {
            "outlinewidth": 0,
            "ticks": ""
           }
          },
          "colorscale": {
           "diverging": [
            [
             0,
             "#8e0152"
            ],
            [
             0.1,
             "#c51b7d"
            ],
            [
             0.2,
             "#de77ae"
            ],
            [
             0.3,
             "#f1b6da"
            ],
            [
             0.4,
             "#fde0ef"
            ],
            [
             0.5,
             "#f7f7f7"
            ],
            [
             0.6,
             "#e6f5d0"
            ],
            [
             0.7,
             "#b8e186"
            ],
            [
             0.8,
             "#7fbc41"
            ],
            [
             0.9,
             "#4d9221"
            ],
            [
             1,
             "#276419"
            ]
           ],
           "sequential": [
            [
             0,
             "#0d0887"
            ],
            [
             0.1111111111111111,
             "#46039f"
            ],
            [
             0.2222222222222222,
             "#7201a8"
            ],
            [
             0.3333333333333333,
             "#9c179e"
            ],
            [
             0.4444444444444444,
             "#bd3786"
            ],
            [
             0.5555555555555556,
             "#d8576b"
            ],
            [
             0.6666666666666666,
             "#ed7953"
            ],
            [
             0.7777777777777778,
             "#fb9f3a"
            ],
            [
             0.8888888888888888,
             "#fdca26"
            ],
            [
             1,
             "#f0f921"
            ]
           ],
           "sequentialminus": [
            [
             0,
             "#0d0887"
            ],
            [
             0.1111111111111111,
             "#46039f"
            ],
            [
             0.2222222222222222,
             "#7201a8"
            ],
            [
             0.3333333333333333,
             "#9c179e"
            ],
            [
             0.4444444444444444,
             "#bd3786"
            ],
            [
             0.5555555555555556,
             "#d8576b"
            ],
            [
             0.6666666666666666,
             "#ed7953"
            ],
            [
             0.7777777777777778,
             "#fb9f3a"
            ],
            [
             0.8888888888888888,
             "#fdca26"
            ],
            [
             1,
             "#f0f921"
            ]
           ]
          },
          "colorway": [
           "#636efa",
           "#EF553B",
           "#00cc96",
           "#ab63fa",
           "#FFA15A",
           "#19d3f3",
           "#FF6692",
           "#B6E880",
           "#FF97FF",
           "#FECB52"
          ],
          "font": {
           "color": "#2a3f5f"
          },
          "geo": {
           "bgcolor": "white",
           "lakecolor": "white",
           "landcolor": "#E5ECF6",
           "showlakes": true,
           "showland": true,
           "subunitcolor": "white"
          },
          "hoverlabel": {
           "align": "left"
          },
          "hovermode": "closest",
          "mapbox": {
           "style": "light"
          },
          "paper_bgcolor": "white",
          "plot_bgcolor": "#E5ECF6",
          "polar": {
           "angularaxis": {
            "gridcolor": "white",
            "linecolor": "white",
            "ticks": ""
           },
           "bgcolor": "#E5ECF6",
           "radialaxis": {
            "gridcolor": "white",
            "linecolor": "white",
            "ticks": ""
           }
          },
          "scene": {
           "xaxis": {
            "backgroundcolor": "#E5ECF6",
            "gridcolor": "white",
            "gridwidth": 2,
            "linecolor": "white",
            "showbackground": true,
            "ticks": "",
            "zerolinecolor": "white"
           },
           "yaxis": {
            "backgroundcolor": "#E5ECF6",
            "gridcolor": "white",
            "gridwidth": 2,
            "linecolor": "white",
            "showbackground": true,
            "ticks": "",
            "zerolinecolor": "white"
           },
           "zaxis": {
            "backgroundcolor": "#E5ECF6",
            "gridcolor": "white",
            "gridwidth": 2,
            "linecolor": "white",
            "showbackground": true,
            "ticks": "",
            "zerolinecolor": "white"
           }
          },
          "shapedefaults": {
           "line": {
            "color": "#2a3f5f"
           }
          },
          "ternary": {
           "aaxis": {
            "gridcolor": "white",
            "linecolor": "white",
            "ticks": ""
           },
           "baxis": {
            "gridcolor": "white",
            "linecolor": "white",
            "ticks": ""
           },
           "bgcolor": "#E5ECF6",
           "caxis": {
            "gridcolor": "white",
            "linecolor": "white",
            "ticks": ""
           }
          },
          "title": {
           "x": 0.05
          },
          "xaxis": {
           "automargin": true,
           "gridcolor": "white",
           "linecolor": "white",
           "ticks": "",
           "title": {
            "standoff": 15
           },
           "zerolinecolor": "white",
           "zerolinewidth": 2
          },
          "yaxis": {
           "automargin": true,
           "gridcolor": "white",
           "linecolor": "white",
           "ticks": "",
           "title": {
            "standoff": 15
           },
           "zerolinecolor": "white",
           "zerolinewidth": 2
          }
         }
        },
        "xaxis": {
         "anchor": "y",
         "domain": [
          0,
          1
         ],
         "title": {
          "text": "price"
         }
        },
        "yaxis": {
         "anchor": "x",
         "domain": [
          0,
          1
         ],
         "title": {
          "text": "points"
         }
        }
       }
      }
     },
     "metadata": {},
     "output_type": "display_data"
    }
   ],
   "source": [
    "# Scatter of Canadian Wine by price and points \n",
    "fig = px.scatter(wine_df.query(\"country=='Canada'\"), x=\"price\", y=\"points\",\n",
    "\t         size=\"price\", color=\"type\",\n",
    "                 hover_name=\"title\")\n",
    "fig.show()"
   ]
  },
  {
   "cell_type": "code",
   "execution_count": 120,
   "metadata": {},
   "outputs": [
    {
     "data": {
      "text/html": [
       "<div>\n",
       "<style scoped>\n",
       "    .dataframe tbody tr th:only-of-type {\n",
       "        vertical-align: middle;\n",
       "    }\n",
       "\n",
       "    .dataframe tbody tr th {\n",
       "        vertical-align: top;\n",
       "    }\n",
       "\n",
       "    .dataframe thead th {\n",
       "        text-align: right;\n",
       "    }\n",
       "</style>\n",
       "<table border=\"1\" class=\"dataframe\">\n",
       "  <thead>\n",
       "    <tr style=\"text-align: right;\">\n",
       "      <th></th>\n",
       "      <th>country</th>\n",
       "      <th>price</th>\n",
       "      <th>points</th>\n",
       "    </tr>\n",
       "  </thead>\n",
       "  <tbody>\n",
       "    <tr>\n",
       "      <th>0</th>\n",
       "      <td>Argentina</td>\n",
       "      <td>25.48</td>\n",
       "      <td>86.85</td>\n",
       "    </tr>\n",
       "    <tr>\n",
       "      <th>1</th>\n",
       "      <td>Australia</td>\n",
       "      <td>29.44</td>\n",
       "      <td>88.04</td>\n",
       "    </tr>\n",
       "    <tr>\n",
       "      <th>2</th>\n",
       "      <td>Canada</td>\n",
       "      <td>34.67</td>\n",
       "      <td>89.35</td>\n",
       "    </tr>\n",
       "    <tr>\n",
       "      <th>3</th>\n",
       "      <td>France</td>\n",
       "      <td>42.33</td>\n",
       "      <td>88.70</td>\n",
       "    </tr>\n",
       "    <tr>\n",
       "      <th>4</th>\n",
       "      <td>Italy</td>\n",
       "      <td>48.03</td>\n",
       "      <td>89.15</td>\n",
       "    </tr>\n",
       "    <tr>\n",
       "      <th>5</th>\n",
       "      <td>Spain</td>\n",
       "      <td>28.24</td>\n",
       "      <td>87.24</td>\n",
       "    </tr>\n",
       "    <tr>\n",
       "      <th>6</th>\n",
       "      <td>US</td>\n",
       "      <td>37.94</td>\n",
       "      <td>88.66</td>\n",
       "    </tr>\n",
       "  </tbody>\n",
       "</table>\n",
       "</div>"
      ],
      "text/plain": [
       "     country  price  points\n",
       "0  Argentina  25.48  86.85 \n",
       "1  Australia  29.44  88.04 \n",
       "2  Canada     34.67  89.35 \n",
       "3  France     42.33  88.70 \n",
       "4  Italy      48.03  89.15 \n",
       "5  Spain      28.24  87.24 \n",
       "6  US         37.94  88.66 "
      ]
     },
     "execution_count": 120,
     "metadata": {},
     "output_type": "execute_result"
    }
   ],
   "source": [
    "by_country = wine_df.groupby('country')[['price','points']].agg('mean').round(2)\n",
    "by_country = by_country.reset_index()\n",
    "by_country"
   ]
  },
  {
   "cell_type": "code",
   "execution_count": 105,
   "metadata": {},
   "outputs": [
    {
     "data": {
      "application/vnd.plotly.v1+json": {
       "config": {
        "plotlyServerURL": "https://plot.ly"
       },
       "data": [
        {
         "hovertemplate": "<b>%{hovertext}</b><br><br>country=Argentina<br>price=%{marker.size}<br>points=%{y}<extra></extra>",
         "hovertext": [
          "Argentina"
         ],
         "legendgroup": "Argentina",
         "marker": {
          "color": "#636efa",
          "size": [
           25.48
          ],
          "sizemode": "area",
          "sizeref": 0.120075,
          "symbol": "circle"
         },
         "mode": "markers",
         "name": "Argentina",
         "orientation": "v",
         "showlegend": true,
         "type": "scatter",
         "x": [
          25.48
         ],
         "xaxis": "x",
         "y": [
          86.85
         ],
         "yaxis": "y"
        },
        {
         "hovertemplate": "<b>%{hovertext}</b><br><br>country=Australia<br>price=%{marker.size}<br>points=%{y}<extra></extra>",
         "hovertext": [
          "Australia"
         ],
         "legendgroup": "Australia",
         "marker": {
          "color": "#EF553B",
          "size": [
           29.44
          ],
          "sizemode": "area",
          "sizeref": 0.120075,
          "symbol": "circle"
         },
         "mode": "markers",
         "name": "Australia",
         "orientation": "v",
         "showlegend": true,
         "type": "scatter",
         "x": [
          29.44
         ],
         "xaxis": "x",
         "y": [
          88.04
         ],
         "yaxis": "y"
        },
        {
         "hovertemplate": "<b>%{hovertext}</b><br><br>country=Canada<br>price=%{marker.size}<br>points=%{y}<extra></extra>",
         "hovertext": [
          "Canada"
         ],
         "legendgroup": "Canada",
         "marker": {
          "color": "#00cc96",
          "size": [
           34.67
          ],
          "sizemode": "area",
          "sizeref": 0.120075,
          "symbol": "circle"
         },
         "mode": "markers",
         "name": "Canada",
         "orientation": "v",
         "showlegend": true,
         "type": "scatter",
         "x": [
          34.67
         ],
         "xaxis": "x",
         "y": [
          89.35
         ],
         "yaxis": "y"
        },
        {
         "hovertemplate": "<b>%{hovertext}</b><br><br>country=France<br>price=%{marker.size}<br>points=%{y}<extra></extra>",
         "hovertext": [
          "France"
         ],
         "legendgroup": "France",
         "marker": {
          "color": "#ab63fa",
          "size": [
           42.33
          ],
          "sizemode": "area",
          "sizeref": 0.120075,
          "symbol": "circle"
         },
         "mode": "markers",
         "name": "France",
         "orientation": "v",
         "showlegend": true,
         "type": "scatter",
         "x": [
          42.33
         ],
         "xaxis": "x",
         "y": [
          88.7
         ],
         "yaxis": "y"
        },
        {
         "hovertemplate": "<b>%{hovertext}</b><br><br>country=Italy<br>price=%{marker.size}<br>points=%{y}<extra></extra>",
         "hovertext": [
          "Italy"
         ],
         "legendgroup": "Italy",
         "marker": {
          "color": "#FFA15A",
          "size": [
           48.03
          ],
          "sizemode": "area",
          "sizeref": 0.120075,
          "symbol": "circle"
         },
         "mode": "markers",
         "name": "Italy",
         "orientation": "v",
         "showlegend": true,
         "type": "scatter",
         "x": [
          48.03
         ],
         "xaxis": "x",
         "y": [
          89.15
         ],
         "yaxis": "y"
        },
        {
         "hovertemplate": "<b>%{hovertext}</b><br><br>country=Spain<br>price=%{marker.size}<br>points=%{y}<extra></extra>",
         "hovertext": [
          "Spain"
         ],
         "legendgroup": "Spain",
         "marker": {
          "color": "#19d3f3",
          "size": [
           28.24
          ],
          "sizemode": "area",
          "sizeref": 0.120075,
          "symbol": "circle"
         },
         "mode": "markers",
         "name": "Spain",
         "orientation": "v",
         "showlegend": true,
         "type": "scatter",
         "x": [
          28.24
         ],
         "xaxis": "x",
         "y": [
          87.24
         ],
         "yaxis": "y"
        },
        {
         "hovertemplate": "<b>%{hovertext}</b><br><br>country=US<br>price=%{marker.size}<br>points=%{y}<extra></extra>",
         "hovertext": [
          "US"
         ],
         "legendgroup": "US",
         "marker": {
          "color": "#FF6692",
          "size": [
           37.94
          ],
          "sizemode": "area",
          "sizeref": 0.120075,
          "symbol": "circle"
         },
         "mode": "markers",
         "name": "US",
         "orientation": "v",
         "showlegend": true,
         "type": "scatter",
         "x": [
          37.94
         ],
         "xaxis": "x",
         "y": [
          88.66
         ],
         "yaxis": "y"
        }
       ],
       "layout": {
        "legend": {
         "itemsizing": "constant",
         "title": {
          "text": "country"
         },
         "tracegroupgap": 0
        },
        "margin": {
         "t": 60
        },
        "template": {
         "data": {
          "bar": [
           {
            "error_x": {
             "color": "#2a3f5f"
            },
            "error_y": {
             "color": "#2a3f5f"
            },
            "marker": {
             "line": {
              "color": "#E5ECF6",
              "width": 0.5
             },
             "pattern": {
              "fillmode": "overlay",
              "size": 10,
              "solidity": 0.2
             }
            },
            "type": "bar"
           }
          ],
          "barpolar": [
           {
            "marker": {
             "line": {
              "color": "#E5ECF6",
              "width": 0.5
             },
             "pattern": {
              "fillmode": "overlay",
              "size": 10,
              "solidity": 0.2
             }
            },
            "type": "barpolar"
           }
          ],
          "carpet": [
           {
            "aaxis": {
             "endlinecolor": "#2a3f5f",
             "gridcolor": "white",
             "linecolor": "white",
             "minorgridcolor": "white",
             "startlinecolor": "#2a3f5f"
            },
            "baxis": {
             "endlinecolor": "#2a3f5f",
             "gridcolor": "white",
             "linecolor": "white",
             "minorgridcolor": "white",
             "startlinecolor": "#2a3f5f"
            },
            "type": "carpet"
           }
          ],
          "choropleth": [
           {
            "colorbar": {
             "outlinewidth": 0,
             "ticks": ""
            },
            "type": "choropleth"
           }
          ],
          "contour": [
           {
            "colorbar": {
             "outlinewidth": 0,
             "ticks": ""
            },
            "colorscale": [
             [
              0,
              "#0d0887"
             ],
             [
              0.1111111111111111,
              "#46039f"
             ],
             [
              0.2222222222222222,
              "#7201a8"
             ],
             [
              0.3333333333333333,
              "#9c179e"
             ],
             [
              0.4444444444444444,
              "#bd3786"
             ],
             [
              0.5555555555555556,
              "#d8576b"
             ],
             [
              0.6666666666666666,
              "#ed7953"
             ],
             [
              0.7777777777777778,
              "#fb9f3a"
             ],
             [
              0.8888888888888888,
              "#fdca26"
             ],
             [
              1,
              "#f0f921"
             ]
            ],
            "type": "contour"
           }
          ],
          "contourcarpet": [
           {
            "colorbar": {
             "outlinewidth": 0,
             "ticks": ""
            },
            "type": "contourcarpet"
           }
          ],
          "heatmap": [
           {
            "colorbar": {
             "outlinewidth": 0,
             "ticks": ""
            },
            "colorscale": [
             [
              0,
              "#0d0887"
             ],
             [
              0.1111111111111111,
              "#46039f"
             ],
             [
              0.2222222222222222,
              "#7201a8"
             ],
             [
              0.3333333333333333,
              "#9c179e"
             ],
             [
              0.4444444444444444,
              "#bd3786"
             ],
             [
              0.5555555555555556,
              "#d8576b"
             ],
             [
              0.6666666666666666,
              "#ed7953"
             ],
             [
              0.7777777777777778,
              "#fb9f3a"
             ],
             [
              0.8888888888888888,
              "#fdca26"
             ],
             [
              1,
              "#f0f921"
             ]
            ],
            "type": "heatmap"
           }
          ],
          "heatmapgl": [
           {
            "colorbar": {
             "outlinewidth": 0,
             "ticks": ""
            },
            "colorscale": [
             [
              0,
              "#0d0887"
             ],
             [
              0.1111111111111111,
              "#46039f"
             ],
             [
              0.2222222222222222,
              "#7201a8"
             ],
             [
              0.3333333333333333,
              "#9c179e"
             ],
             [
              0.4444444444444444,
              "#bd3786"
             ],
             [
              0.5555555555555556,
              "#d8576b"
             ],
             [
              0.6666666666666666,
              "#ed7953"
             ],
             [
              0.7777777777777778,
              "#fb9f3a"
             ],
             [
              0.8888888888888888,
              "#fdca26"
             ],
             [
              1,
              "#f0f921"
             ]
            ],
            "type": "heatmapgl"
           }
          ],
          "histogram": [
           {
            "marker": {
             "pattern": {
              "fillmode": "overlay",
              "size": 10,
              "solidity": 0.2
             }
            },
            "type": "histogram"
           }
          ],
          "histogram2d": [
           {
            "colorbar": {
             "outlinewidth": 0,
             "ticks": ""
            },
            "colorscale": [
             [
              0,
              "#0d0887"
             ],
             [
              0.1111111111111111,
              "#46039f"
             ],
             [
              0.2222222222222222,
              "#7201a8"
             ],
             [
              0.3333333333333333,
              "#9c179e"
             ],
             [
              0.4444444444444444,
              "#bd3786"
             ],
             [
              0.5555555555555556,
              "#d8576b"
             ],
             [
              0.6666666666666666,
              "#ed7953"
             ],
             [
              0.7777777777777778,
              "#fb9f3a"
             ],
             [
              0.8888888888888888,
              "#fdca26"
             ],
             [
              1,
              "#f0f921"
             ]
            ],
            "type": "histogram2d"
           }
          ],
          "histogram2dcontour": [
           {
            "colorbar": {
             "outlinewidth": 0,
             "ticks": ""
            },
            "colorscale": [
             [
              0,
              "#0d0887"
             ],
             [
              0.1111111111111111,
              "#46039f"
             ],
             [
              0.2222222222222222,
              "#7201a8"
             ],
             [
              0.3333333333333333,
              "#9c179e"
             ],
             [
              0.4444444444444444,
              "#bd3786"
             ],
             [
              0.5555555555555556,
              "#d8576b"
             ],
             [
              0.6666666666666666,
              "#ed7953"
             ],
             [
              0.7777777777777778,
              "#fb9f3a"
             ],
             [
              0.8888888888888888,
              "#fdca26"
             ],
             [
              1,
              "#f0f921"
             ]
            ],
            "type": "histogram2dcontour"
           }
          ],
          "mesh3d": [
           {
            "colorbar": {
             "outlinewidth": 0,
             "ticks": ""
            },
            "type": "mesh3d"
           }
          ],
          "parcoords": [
           {
            "line": {
             "colorbar": {
              "outlinewidth": 0,
              "ticks": ""
             }
            },
            "type": "parcoords"
           }
          ],
          "pie": [
           {
            "automargin": true,
            "type": "pie"
           }
          ],
          "scatter": [
           {
            "fillpattern": {
             "fillmode": "overlay",
             "size": 10,
             "solidity": 0.2
            },
            "type": "scatter"
           }
          ],
          "scatter3d": [
           {
            "line": {
             "colorbar": {
              "outlinewidth": 0,
              "ticks": ""
             }
            },
            "marker": {
             "colorbar": {
              "outlinewidth": 0,
              "ticks": ""
             }
            },
            "type": "scatter3d"
           }
          ],
          "scattercarpet": [
           {
            "marker": {
             "colorbar": {
              "outlinewidth": 0,
              "ticks": ""
             }
            },
            "type": "scattercarpet"
           }
          ],
          "scattergeo": [
           {
            "marker": {
             "colorbar": {
              "outlinewidth": 0,
              "ticks": ""
             }
            },
            "type": "scattergeo"
           }
          ],
          "scattergl": [
           {
            "marker": {
             "colorbar": {
              "outlinewidth": 0,
              "ticks": ""
             }
            },
            "type": "scattergl"
           }
          ],
          "scattermapbox": [
           {
            "marker": {
             "colorbar": {
              "outlinewidth": 0,
              "ticks": ""
             }
            },
            "type": "scattermapbox"
           }
          ],
          "scatterpolar": [
           {
            "marker": {
             "colorbar": {
              "outlinewidth": 0,
              "ticks": ""
             }
            },
            "type": "scatterpolar"
           }
          ],
          "scatterpolargl": [
           {
            "marker": {
             "colorbar": {
              "outlinewidth": 0,
              "ticks": ""
             }
            },
            "type": "scatterpolargl"
           }
          ],
          "scatterternary": [
           {
            "marker": {
             "colorbar": {
              "outlinewidth": 0,
              "ticks": ""
             }
            },
            "type": "scatterternary"
           }
          ],
          "surface": [
           {
            "colorbar": {
             "outlinewidth": 0,
             "ticks": ""
            },
            "colorscale": [
             [
              0,
              "#0d0887"
             ],
             [
              0.1111111111111111,
              "#46039f"
             ],
             [
              0.2222222222222222,
              "#7201a8"
             ],
             [
              0.3333333333333333,
              "#9c179e"
             ],
             [
              0.4444444444444444,
              "#bd3786"
             ],
             [
              0.5555555555555556,
              "#d8576b"
             ],
             [
              0.6666666666666666,
              "#ed7953"
             ],
             [
              0.7777777777777778,
              "#fb9f3a"
             ],
             [
              0.8888888888888888,
              "#fdca26"
             ],
             [
              1,
              "#f0f921"
             ]
            ],
            "type": "surface"
           }
          ],
          "table": [
           {
            "cells": {
             "fill": {
              "color": "#EBF0F8"
             },
             "line": {
              "color": "white"
             }
            },
            "header": {
             "fill": {
              "color": "#C8D4E3"
             },
             "line": {
              "color": "white"
             }
            },
            "type": "table"
           }
          ]
         },
         "layout": {
          "annotationdefaults": {
           "arrowcolor": "#2a3f5f",
           "arrowhead": 0,
           "arrowwidth": 1
          },
          "autotypenumbers": "strict",
          "coloraxis": {
           "colorbar": {
            "outlinewidth": 0,
            "ticks": ""
           }
          },
          "colorscale": {
           "diverging": [
            [
             0,
             "#8e0152"
            ],
            [
             0.1,
             "#c51b7d"
            ],
            [
             0.2,
             "#de77ae"
            ],
            [
             0.3,
             "#f1b6da"
            ],
            [
             0.4,
             "#fde0ef"
            ],
            [
             0.5,
             "#f7f7f7"
            ],
            [
             0.6,
             "#e6f5d0"
            ],
            [
             0.7,
             "#b8e186"
            ],
            [
             0.8,
             "#7fbc41"
            ],
            [
             0.9,
             "#4d9221"
            ],
            [
             1,
             "#276419"
            ]
           ],
           "sequential": [
            [
             0,
             "#0d0887"
            ],
            [
             0.1111111111111111,
             "#46039f"
            ],
            [
             0.2222222222222222,
             "#7201a8"
            ],
            [
             0.3333333333333333,
             "#9c179e"
            ],
            [
             0.4444444444444444,
             "#bd3786"
            ],
            [
             0.5555555555555556,
             "#d8576b"
            ],
            [
             0.6666666666666666,
             "#ed7953"
            ],
            [
             0.7777777777777778,
             "#fb9f3a"
            ],
            [
             0.8888888888888888,
             "#fdca26"
            ],
            [
             1,
             "#f0f921"
            ]
           ],
           "sequentialminus": [
            [
             0,
             "#0d0887"
            ],
            [
             0.1111111111111111,
             "#46039f"
            ],
            [
             0.2222222222222222,
             "#7201a8"
            ],
            [
             0.3333333333333333,
             "#9c179e"
            ],
            [
             0.4444444444444444,
             "#bd3786"
            ],
            [
             0.5555555555555556,
             "#d8576b"
            ],
            [
             0.6666666666666666,
             "#ed7953"
            ],
            [
             0.7777777777777778,
             "#fb9f3a"
            ],
            [
             0.8888888888888888,
             "#fdca26"
            ],
            [
             1,
             "#f0f921"
            ]
           ]
          },
          "colorway": [
           "#636efa",
           "#EF553B",
           "#00cc96",
           "#ab63fa",
           "#FFA15A",
           "#19d3f3",
           "#FF6692",
           "#B6E880",
           "#FF97FF",
           "#FECB52"
          ],
          "font": {
           "color": "#2a3f5f"
          },
          "geo": {
           "bgcolor": "white",
           "lakecolor": "white",
           "landcolor": "#E5ECF6",
           "showlakes": true,
           "showland": true,
           "subunitcolor": "white"
          },
          "hoverlabel": {
           "align": "left"
          },
          "hovermode": "closest",
          "mapbox": {
           "style": "light"
          },
          "paper_bgcolor": "white",
          "plot_bgcolor": "#E5ECF6",
          "polar": {
           "angularaxis": {
            "gridcolor": "white",
            "linecolor": "white",
            "ticks": ""
           },
           "bgcolor": "#E5ECF6",
           "radialaxis": {
            "gridcolor": "white",
            "linecolor": "white",
            "ticks": ""
           }
          },
          "scene": {
           "xaxis": {
            "backgroundcolor": "#E5ECF6",
            "gridcolor": "white",
            "gridwidth": 2,
            "linecolor": "white",
            "showbackground": true,
            "ticks": "",
            "zerolinecolor": "white"
           },
           "yaxis": {
            "backgroundcolor": "#E5ECF6",
            "gridcolor": "white",
            "gridwidth": 2,
            "linecolor": "white",
            "showbackground": true,
            "ticks": "",
            "zerolinecolor": "white"
           },
           "zaxis": {
            "backgroundcolor": "#E5ECF6",
            "gridcolor": "white",
            "gridwidth": 2,
            "linecolor": "white",
            "showbackground": true,
            "ticks": "",
            "zerolinecolor": "white"
           }
          },
          "shapedefaults": {
           "line": {
            "color": "#2a3f5f"
           }
          },
          "ternary": {
           "aaxis": {
            "gridcolor": "white",
            "linecolor": "white",
            "ticks": ""
           },
           "baxis": {
            "gridcolor": "white",
            "linecolor": "white",
            "ticks": ""
           },
           "bgcolor": "#E5ECF6",
           "caxis": {
            "gridcolor": "white",
            "linecolor": "white",
            "ticks": ""
           }
          },
          "title": {
           "x": 0.05
          },
          "xaxis": {
           "automargin": true,
           "gridcolor": "white",
           "linecolor": "white",
           "ticks": "",
           "title": {
            "standoff": 15
           },
           "zerolinecolor": "white",
           "zerolinewidth": 2
          },
          "yaxis": {
           "automargin": true,
           "gridcolor": "white",
           "linecolor": "white",
           "ticks": "",
           "title": {
            "standoff": 15
           },
           "zerolinecolor": "white",
           "zerolinewidth": 2
          }
         }
        },
        "xaxis": {
         "anchor": "y",
         "domain": [
          0,
          1
         ],
         "title": {
          "text": "price"
         }
        },
        "yaxis": {
         "anchor": "x",
         "domain": [
          0,
          1
         ],
         "title": {
          "text": "points"
         }
        }
       }
      }
     },
     "metadata": {},
     "output_type": "display_data"
    }
   ],
   "source": [
    "fig2 = px.scatter(by_country, x=\"price\", y=\"points\",\n",
    "\t         size=\"price\", hover_name = 'country', color = 'country')\n",
    "\n",
    "fig2.show()"
   ]
  },
  {
   "cell_type": "code",
   "execution_count": 124,
   "metadata": {},
   "outputs": [
    {
     "data": {
      "text/html": [
       "<div>\n",
       "<style scoped>\n",
       "    .dataframe tbody tr th:only-of-type {\n",
       "        vertical-align: middle;\n",
       "    }\n",
       "\n",
       "    .dataframe tbody tr th {\n",
       "        vertical-align: top;\n",
       "    }\n",
       "\n",
       "    .dataframe thead th {\n",
       "        text-align: right;\n",
       "    }\n",
       "</style>\n",
       "<table border=\"1\" class=\"dataframe\">\n",
       "  <thead>\n",
       "    <tr style=\"text-align: right;\">\n",
       "      <th></th>\n",
       "      <th>Country</th>\n",
       "      <th>Count</th>\n",
       "    </tr>\n",
       "  </thead>\n",
       "  <tbody>\n",
       "    <tr>\n",
       "      <th>0</th>\n",
       "      <td>Argentina</td>\n",
       "      <td>3080</td>\n",
       "    </tr>\n",
       "    <tr>\n",
       "      <th>1</th>\n",
       "      <td>Australia</td>\n",
       "      <td>1227</td>\n",
       "    </tr>\n",
       "    <tr>\n",
       "      <th>2</th>\n",
       "      <td>Canada</td>\n",
       "      <td>199</td>\n",
       "    </tr>\n",
       "    <tr>\n",
       "      <th>3</th>\n",
       "      <td>France</td>\n",
       "      <td>12879</td>\n",
       "    </tr>\n",
       "    <tr>\n",
       "      <th>4</th>\n",
       "      <td>Italy</td>\n",
       "      <td>9261</td>\n",
       "    </tr>\n",
       "    <tr>\n",
       "      <th>5</th>\n",
       "      <td>Spain</td>\n",
       "      <td>3374</td>\n",
       "    </tr>\n",
       "    <tr>\n",
       "      <th>6</th>\n",
       "      <td>US</td>\n",
       "      <td>46716</td>\n",
       "    </tr>\n",
       "  </tbody>\n",
       "</table>\n",
       "</div>"
      ],
      "text/plain": [
       "     Country  Count\n",
       "0  Argentina  3080 \n",
       "1  Australia  1227 \n",
       "2  Canada     199  \n",
       "3  France     12879\n",
       "4  Italy      9261 \n",
       "5  Spain      3374 \n",
       "6  US         46716"
      ]
     },
     "execution_count": 124,
     "metadata": {},
     "output_type": "execute_result"
    }
   ],
   "source": [
    "#wine_count_country = wine_df.groupby('country')[['price']].count()\n",
    "wine_count_country = wine_df.groupby('country').agg(Count = ('country', 'count'))\n",
    "wine_count_country = wine_count_country.reset_index().rename(columns = {'country':'Country'})\n",
    "wine_count_country"
   ]
  },
  {
   "cell_type": "code",
   "execution_count": 149,
   "metadata": {},
   "outputs": [
    {
     "data": {
      "application/vnd.plotly.v1+json": {
       "config": {
        "plotlyServerURL": "https://plot.ly"
       },
       "data": [
        {
         "domain": {
          "x": [
           0,
           1
          ],
          "y": [
           0,
           1
          ]
         },
         "hole": 0.45,
         "hovertemplate": "Country=%{label}<br>Count=%{value}<extra></extra>",
         "labels": [
          "Argentina",
          "Australia",
          "Canada",
          "France",
          "Italy",
          "Spain",
          "US"
         ],
         "legendgroup": "",
         "name": "",
         "showlegend": true,
         "type": "pie",
         "values": [
          3080,
          1227,
          199,
          12879,
          9261,
          3374,
          46716
         ]
        }
       ],
       "layout": {
        "height": 500,
        "legend": {
         "tracegroupgap": 0
        },
        "piecolorway": [
         "#7A2987",
         "#B9357D",
         "#E0457B",
         "#F77882",
         "#FAA094",
         "#FCC5B8",
         "#FEE5D9"
        ],
        "template": {
         "data": {
          "bar": [
           {
            "error_x": {
             "color": "#2a3f5f"
            },
            "error_y": {
             "color": "#2a3f5f"
            },
            "marker": {
             "line": {
              "color": "#E5ECF6",
              "width": 0.5
             },
             "pattern": {
              "fillmode": "overlay",
              "size": 10,
              "solidity": 0.2
             }
            },
            "type": "bar"
           }
          ],
          "barpolar": [
           {
            "marker": {
             "line": {
              "color": "#E5ECF6",
              "width": 0.5
             },
             "pattern": {
              "fillmode": "overlay",
              "size": 10,
              "solidity": 0.2
             }
            },
            "type": "barpolar"
           }
          ],
          "carpet": [
           {
            "aaxis": {
             "endlinecolor": "#2a3f5f",
             "gridcolor": "white",
             "linecolor": "white",
             "minorgridcolor": "white",
             "startlinecolor": "#2a3f5f"
            },
            "baxis": {
             "endlinecolor": "#2a3f5f",
             "gridcolor": "white",
             "linecolor": "white",
             "minorgridcolor": "white",
             "startlinecolor": "#2a3f5f"
            },
            "type": "carpet"
           }
          ],
          "choropleth": [
           {
            "colorbar": {
             "outlinewidth": 0,
             "ticks": ""
            },
            "type": "choropleth"
           }
          ],
          "contour": [
           {
            "colorbar": {
             "outlinewidth": 0,
             "ticks": ""
            },
            "colorscale": [
             [
              0,
              "#0d0887"
             ],
             [
              0.1111111111111111,
              "#46039f"
             ],
             [
              0.2222222222222222,
              "#7201a8"
             ],
             [
              0.3333333333333333,
              "#9c179e"
             ],
             [
              0.4444444444444444,
              "#bd3786"
             ],
             [
              0.5555555555555556,
              "#d8576b"
             ],
             [
              0.6666666666666666,
              "#ed7953"
             ],
             [
              0.7777777777777778,
              "#fb9f3a"
             ],
             [
              0.8888888888888888,
              "#fdca26"
             ],
             [
              1,
              "#f0f921"
             ]
            ],
            "type": "contour"
           }
          ],
          "contourcarpet": [
           {
            "colorbar": {
             "outlinewidth": 0,
             "ticks": ""
            },
            "type": "contourcarpet"
           }
          ],
          "heatmap": [
           {
            "colorbar": {
             "outlinewidth": 0,
             "ticks": ""
            },
            "colorscale": [
             [
              0,
              "#0d0887"
             ],
             [
              0.1111111111111111,
              "#46039f"
             ],
             [
              0.2222222222222222,
              "#7201a8"
             ],
             [
              0.3333333333333333,
              "#9c179e"
             ],
             [
              0.4444444444444444,
              "#bd3786"
             ],
             [
              0.5555555555555556,
              "#d8576b"
             ],
             [
              0.6666666666666666,
              "#ed7953"
             ],
             [
              0.7777777777777778,
              "#fb9f3a"
             ],
             [
              0.8888888888888888,
              "#fdca26"
             ],
             [
              1,
              "#f0f921"
             ]
            ],
            "type": "heatmap"
           }
          ],
          "heatmapgl": [
           {
            "colorbar": {
             "outlinewidth": 0,
             "ticks": ""
            },
            "colorscale": [
             [
              0,
              "#0d0887"
             ],
             [
              0.1111111111111111,
              "#46039f"
             ],
             [
              0.2222222222222222,
              "#7201a8"
             ],
             [
              0.3333333333333333,
              "#9c179e"
             ],
             [
              0.4444444444444444,
              "#bd3786"
             ],
             [
              0.5555555555555556,
              "#d8576b"
             ],
             [
              0.6666666666666666,
              "#ed7953"
             ],
             [
              0.7777777777777778,
              "#fb9f3a"
             ],
             [
              0.8888888888888888,
              "#fdca26"
             ],
             [
              1,
              "#f0f921"
             ]
            ],
            "type": "heatmapgl"
           }
          ],
          "histogram": [
           {
            "marker": {
             "pattern": {
              "fillmode": "overlay",
              "size": 10,
              "solidity": 0.2
             }
            },
            "type": "histogram"
           }
          ],
          "histogram2d": [
           {
            "colorbar": {
             "outlinewidth": 0,
             "ticks": ""
            },
            "colorscale": [
             [
              0,
              "#0d0887"
             ],
             [
              0.1111111111111111,
              "#46039f"
             ],
             [
              0.2222222222222222,
              "#7201a8"
             ],
             [
              0.3333333333333333,
              "#9c179e"
             ],
             [
              0.4444444444444444,
              "#bd3786"
             ],
             [
              0.5555555555555556,
              "#d8576b"
             ],
             [
              0.6666666666666666,
              "#ed7953"
             ],
             [
              0.7777777777777778,
              "#fb9f3a"
             ],
             [
              0.8888888888888888,
              "#fdca26"
             ],
             [
              1,
              "#f0f921"
             ]
            ],
            "type": "histogram2d"
           }
          ],
          "histogram2dcontour": [
           {
            "colorbar": {
             "outlinewidth": 0,
             "ticks": ""
            },
            "colorscale": [
             [
              0,
              "#0d0887"
             ],
             [
              0.1111111111111111,
              "#46039f"
             ],
             [
              0.2222222222222222,
              "#7201a8"
             ],
             [
              0.3333333333333333,
              "#9c179e"
             ],
             [
              0.4444444444444444,
              "#bd3786"
             ],
             [
              0.5555555555555556,
              "#d8576b"
             ],
             [
              0.6666666666666666,
              "#ed7953"
             ],
             [
              0.7777777777777778,
              "#fb9f3a"
             ],
             [
              0.8888888888888888,
              "#fdca26"
             ],
             [
              1,
              "#f0f921"
             ]
            ],
            "type": "histogram2dcontour"
           }
          ],
          "mesh3d": [
           {
            "colorbar": {
             "outlinewidth": 0,
             "ticks": ""
            },
            "type": "mesh3d"
           }
          ],
          "parcoords": [
           {
            "line": {
             "colorbar": {
              "outlinewidth": 0,
              "ticks": ""
             }
            },
            "type": "parcoords"
           }
          ],
          "pie": [
           {
            "automargin": true,
            "type": "pie"
           }
          ],
          "scatter": [
           {
            "fillpattern": {
             "fillmode": "overlay",
             "size": 10,
             "solidity": 0.2
            },
            "type": "scatter"
           }
          ],
          "scatter3d": [
           {
            "line": {
             "colorbar": {
              "outlinewidth": 0,
              "ticks": ""
             }
            },
            "marker": {
             "colorbar": {
              "outlinewidth": 0,
              "ticks": ""
             }
            },
            "type": "scatter3d"
           }
          ],
          "scattercarpet": [
           {
            "marker": {
             "colorbar": {
              "outlinewidth": 0,
              "ticks": ""
             }
            },
            "type": "scattercarpet"
           }
          ],
          "scattergeo": [
           {
            "marker": {
             "colorbar": {
              "outlinewidth": 0,
              "ticks": ""
             }
            },
            "type": "scattergeo"
           }
          ],
          "scattergl": [
           {
            "marker": {
             "colorbar": {
              "outlinewidth": 0,
              "ticks": ""
             }
            },
            "type": "scattergl"
           }
          ],
          "scattermapbox": [
           {
            "marker": {
             "colorbar": {
              "outlinewidth": 0,
              "ticks": ""
             }
            },
            "type": "scattermapbox"
           }
          ],
          "scatterpolar": [
           {
            "marker": {
             "colorbar": {
              "outlinewidth": 0,
              "ticks": ""
             }
            },
            "type": "scatterpolar"
           }
          ],
          "scatterpolargl": [
           {
            "marker": {
             "colorbar": {
              "outlinewidth": 0,
              "ticks": ""
             }
            },
            "type": "scatterpolargl"
           }
          ],
          "scatterternary": [
           {
            "marker": {
             "colorbar": {
              "outlinewidth": 0,
              "ticks": ""
             }
            },
            "type": "scatterternary"
           }
          ],
          "surface": [
           {
            "colorbar": {
             "outlinewidth": 0,
             "ticks": ""
            },
            "colorscale": [
             [
              0,
              "#0d0887"
             ],
             [
              0.1111111111111111,
              "#46039f"
             ],
             [
              0.2222222222222222,
              "#7201a8"
             ],
             [
              0.3333333333333333,
              "#9c179e"
             ],
             [
              0.4444444444444444,
              "#bd3786"
             ],
             [
              0.5555555555555556,
              "#d8576b"
             ],
             [
              0.6666666666666666,
              "#ed7953"
             ],
             [
              0.7777777777777778,
              "#fb9f3a"
             ],
             [
              0.8888888888888888,
              "#fdca26"
             ],
             [
              1,
              "#f0f921"
             ]
            ],
            "type": "surface"
           }
          ],
          "table": [
           {
            "cells": {
             "fill": {
              "color": "#EBF0F8"
             },
             "line": {
              "color": "white"
             }
            },
            "header": {
             "fill": {
              "color": "#C8D4E3"
             },
             "line": {
              "color": "white"
             }
            },
            "type": "table"
           }
          ]
         },
         "layout": {
          "annotationdefaults": {
           "arrowcolor": "#2a3f5f",
           "arrowhead": 0,
           "arrowwidth": 1
          },
          "autotypenumbers": "strict",
          "coloraxis": {
           "colorbar": {
            "outlinewidth": 0,
            "ticks": ""
           }
          },
          "colorscale": {
           "diverging": [
            [
             0,
             "#8e0152"
            ],
            [
             0.1,
             "#c51b7d"
            ],
            [
             0.2,
             "#de77ae"
            ],
            [
             0.3,
             "#f1b6da"
            ],
            [
             0.4,
             "#fde0ef"
            ],
            [
             0.5,
             "#f7f7f7"
            ],
            [
             0.6,
             "#e6f5d0"
            ],
            [
             0.7,
             "#b8e186"
            ],
            [
             0.8,
             "#7fbc41"
            ],
            [
             0.9,
             "#4d9221"
            ],
            [
             1,
             "#276419"
            ]
           ],
           "sequential": [
            [
             0,
             "#0d0887"
            ],
            [
             0.1111111111111111,
             "#46039f"
            ],
            [
             0.2222222222222222,
             "#7201a8"
            ],
            [
             0.3333333333333333,
             "#9c179e"
            ],
            [
             0.4444444444444444,
             "#bd3786"
            ],
            [
             0.5555555555555556,
             "#d8576b"
            ],
            [
             0.6666666666666666,
             "#ed7953"
            ],
            [
             0.7777777777777778,
             "#fb9f3a"
            ],
            [
             0.8888888888888888,
             "#fdca26"
            ],
            [
             1,
             "#f0f921"
            ]
           ],
           "sequentialminus": [
            [
             0,
             "#0d0887"
            ],
            [
             0.1111111111111111,
             "#46039f"
            ],
            [
             0.2222222222222222,
             "#7201a8"
            ],
            [
             0.3333333333333333,
             "#9c179e"
            ],
            [
             0.4444444444444444,
             "#bd3786"
            ],
            [
             0.5555555555555556,
             "#d8576b"
            ],
            [
             0.6666666666666666,
             "#ed7953"
            ],
            [
             0.7777777777777778,
             "#fb9f3a"
            ],
            [
             0.8888888888888888,
             "#fdca26"
            ],
            [
             1,
             "#f0f921"
            ]
           ]
          },
          "colorway": [
           "#636efa",
           "#EF553B",
           "#00cc96",
           "#ab63fa",
           "#FFA15A",
           "#19d3f3",
           "#FF6692",
           "#B6E880",
           "#FF97FF",
           "#FECB52"
          ],
          "font": {
           "color": "#2a3f5f"
          },
          "geo": {
           "bgcolor": "white",
           "lakecolor": "white",
           "landcolor": "#E5ECF6",
           "showlakes": true,
           "showland": true,
           "subunitcolor": "white"
          },
          "hoverlabel": {
           "align": "left"
          },
          "hovermode": "closest",
          "mapbox": {
           "style": "light"
          },
          "paper_bgcolor": "white",
          "plot_bgcolor": "#E5ECF6",
          "polar": {
           "angularaxis": {
            "gridcolor": "white",
            "linecolor": "white",
            "ticks": ""
           },
           "bgcolor": "#E5ECF6",
           "radialaxis": {
            "gridcolor": "white",
            "linecolor": "white",
            "ticks": ""
           }
          },
          "scene": {
           "xaxis": {
            "backgroundcolor": "#E5ECF6",
            "gridcolor": "white",
            "gridwidth": 2,
            "linecolor": "white",
            "showbackground": true,
            "ticks": "",
            "zerolinecolor": "white"
           },
           "yaxis": {
            "backgroundcolor": "#E5ECF6",
            "gridcolor": "white",
            "gridwidth": 2,
            "linecolor": "white",
            "showbackground": true,
            "ticks": "",
            "zerolinecolor": "white"
           },
           "zaxis": {
            "backgroundcolor": "#E5ECF6",
            "gridcolor": "white",
            "gridwidth": 2,
            "linecolor": "white",
            "showbackground": true,
            "ticks": "",
            "zerolinecolor": "white"
           }
          },
          "shapedefaults": {
           "line": {
            "color": "#2a3f5f"
           }
          },
          "ternary": {
           "aaxis": {
            "gridcolor": "white",
            "linecolor": "white",
            "ticks": ""
           },
           "baxis": {
            "gridcolor": "white",
            "linecolor": "white",
            "ticks": ""
           },
           "bgcolor": "#E5ECF6",
           "caxis": {
            "gridcolor": "white",
            "linecolor": "white",
            "ticks": ""
           }
          },
          "title": {
           "x": 0.05
          },
          "xaxis": {
           "automargin": true,
           "gridcolor": "white",
           "linecolor": "white",
           "ticks": "",
           "title": {
            "standoff": 15
           },
           "zerolinecolor": "white",
           "zerolinewidth": 2
          },
          "yaxis": {
           "automargin": true,
           "gridcolor": "white",
           "linecolor": "white",
           "ticks": "",
           "title": {
            "standoff": 15
           },
           "zerolinecolor": "white",
           "zerolinewidth": 2
          }
         }
        },
        "title": {
         "text": "Number of Wines By Country"
        },
        "width": 500
       }
      }
     },
     "metadata": {},
     "output_type": "display_data"
    }
   ],
   "source": [
    "colors = ['#7A2987', '#B9357D', '#E0457B', '#F77882', '#FAA094', '#FCC5B8', '#FEE5D9']\n",
    "\n",
    "\n",
    "fig = px.pie(wine_count_country, values='Count', names='Country', title='Number of Wines By Country', hole = .45,\n",
    "             width = 500, height = 500, color_discrete_sequence = colors)\n",
    "fig.show()"
   ]
  },
  {
   "cell_type": "code",
   "execution_count": 154,
   "metadata": {},
   "outputs": [
    {
     "data": {
      "text/html": [
       "<div>\n",
       "<style scoped>\n",
       "    .dataframe tbody tr th:only-of-type {\n",
       "        vertical-align: middle;\n",
       "    }\n",
       "\n",
       "    .dataframe tbody tr th {\n",
       "        vertical-align: top;\n",
       "    }\n",
       "\n",
       "    .dataframe thead th {\n",
       "        text-align: right;\n",
       "    }\n",
       "</style>\n",
       "<table border=\"1\" class=\"dataframe\">\n",
       "  <thead>\n",
       "    <tr style=\"text-align: right;\">\n",
       "      <th></th>\n",
       "      <th>country</th>\n",
       "      <th>type</th>\n",
       "      <th>price</th>\n",
       "      <th>points</th>\n",
       "    </tr>\n",
       "  </thead>\n",
       "  <tbody>\n",
       "    <tr>\n",
       "      <th>0</th>\n",
       "      <td>Argentina</td>\n",
       "      <td>Red</td>\n",
       "      <td>25.77</td>\n",
       "      <td>87.01</td>\n",
       "    </tr>\n",
       "    <tr>\n",
       "      <th>1</th>\n",
       "      <td>Argentina</td>\n",
       "      <td>Red Blend</td>\n",
       "      <td>36.01</td>\n",
       "      <td>88.79</td>\n",
       "    </tr>\n",
       "    <tr>\n",
       "      <th>2</th>\n",
       "      <td>Argentina</td>\n",
       "      <td>Rosé</td>\n",
       "      <td>13.43</td>\n",
       "      <td>84.08</td>\n",
       "    </tr>\n",
       "    <tr>\n",
       "      <th>3</th>\n",
       "      <td>Argentina</td>\n",
       "      <td>Sparkling</td>\n",
       "      <td>17.81</td>\n",
       "      <td>84.69</td>\n",
       "    </tr>\n",
       "    <tr>\n",
       "      <th>4</th>\n",
       "      <td>Argentina</td>\n",
       "      <td>White</td>\n",
       "      <td>16.88</td>\n",
       "      <td>84.85</td>\n",
       "    </tr>\n",
       "    <tr>\n",
       "      <th>5</th>\n",
       "      <td>Argentina</td>\n",
       "      <td>White Blend</td>\n",
       "      <td>20.74</td>\n",
       "      <td>84.74</td>\n",
       "    </tr>\n",
       "    <tr>\n",
       "      <th>6</th>\n",
       "      <td>Australia</td>\n",
       "      <td>Red</td>\n",
       "      <td>36.42</td>\n",
       "      <td>88.58</td>\n",
       "    </tr>\n",
       "    <tr>\n",
       "      <th>7</th>\n",
       "      <td>Australia</td>\n",
       "      <td>Red Blend</td>\n",
       "      <td>39.15</td>\n",
       "      <td>88.22</td>\n",
       "    </tr>\n",
       "    <tr>\n",
       "      <th>8</th>\n",
       "      <td>Australia</td>\n",
       "      <td>Rosé</td>\n",
       "      <td>18.54</td>\n",
       "      <td>87.35</td>\n",
       "    </tr>\n",
       "    <tr>\n",
       "      <th>9</th>\n",
       "      <td>Australia</td>\n",
       "      <td>Sparkling</td>\n",
       "      <td>20.88</td>\n",
       "      <td>87.06</td>\n",
       "    </tr>\n",
       "    <tr>\n",
       "      <th>10</th>\n",
       "      <td>Australia</td>\n",
       "      <td>White</td>\n",
       "      <td>23.85</td>\n",
       "      <td>87.72</td>\n",
       "    </tr>\n",
       "    <tr>\n",
       "      <th>11</th>\n",
       "      <td>Australia</td>\n",
       "      <td>White Blend</td>\n",
       "      <td>18.56</td>\n",
       "      <td>86.94</td>\n",
       "    </tr>\n",
       "    <tr>\n",
       "      <th>12</th>\n",
       "      <td>Canada</td>\n",
       "      <td>Red</td>\n",
       "      <td>39.17</td>\n",
       "      <td>89.39</td>\n",
       "    </tr>\n",
       "    <tr>\n",
       "      <th>13</th>\n",
       "      <td>Canada</td>\n",
       "      <td>Red Blend</td>\n",
       "      <td>43.60</td>\n",
       "      <td>90.50</td>\n",
       "    </tr>\n",
       "    <tr>\n",
       "      <th>14</th>\n",
       "      <td>Canada</td>\n",
       "      <td>Rosé</td>\n",
       "      <td>20.00</td>\n",
       "      <td>87.00</td>\n",
       "    </tr>\n",
       "    <tr>\n",
       "      <th>15</th>\n",
       "      <td>Canada</td>\n",
       "      <td>White</td>\n",
       "      <td>30.02</td>\n",
       "      <td>89.22</td>\n",
       "    </tr>\n",
       "    <tr>\n",
       "      <th>16</th>\n",
       "      <td>Canada</td>\n",
       "      <td>White Blend</td>\n",
       "      <td>20.40</td>\n",
       "      <td>87.80</td>\n",
       "    </tr>\n",
       "    <tr>\n",
       "      <th>17</th>\n",
       "      <td>France</td>\n",
       "      <td>Red</td>\n",
       "      <td>65.32</td>\n",
       "      <td>89.47</td>\n",
       "    </tr>\n",
       "    <tr>\n",
       "      <th>18</th>\n",
       "      <td>France</td>\n",
       "      <td>Red Blend</td>\n",
       "      <td>38.41</td>\n",
       "      <td>88.27</td>\n",
       "    </tr>\n",
       "    <tr>\n",
       "      <th>19</th>\n",
       "      <td>France</td>\n",
       "      <td>Rosé</td>\n",
       "      <td>19.52</td>\n",
       "      <td>87.30</td>\n",
       "    </tr>\n",
       "    <tr>\n",
       "      <th>20</th>\n",
       "      <td>France</td>\n",
       "      <td>Sparkling</td>\n",
       "      <td>22.50</td>\n",
       "      <td>87.89</td>\n",
       "    </tr>\n",
       "    <tr>\n",
       "      <th>21</th>\n",
       "      <td>France</td>\n",
       "      <td>White</td>\n",
       "      <td>44.87</td>\n",
       "      <td>89.39</td>\n",
       "    </tr>\n",
       "    <tr>\n",
       "      <th>22</th>\n",
       "      <td>France</td>\n",
       "      <td>White Blend</td>\n",
       "      <td>18.86</td>\n",
       "      <td>87.27</td>\n",
       "    </tr>\n",
       "    <tr>\n",
       "      <th>23</th>\n",
       "      <td>Italy</td>\n",
       "      <td>Red</td>\n",
       "      <td>59.02</td>\n",
       "      <td>89.68</td>\n",
       "    </tr>\n",
       "    <tr>\n",
       "      <th>24</th>\n",
       "      <td>Italy</td>\n",
       "      <td>Red Blend</td>\n",
       "      <td>39.71</td>\n",
       "      <td>88.85</td>\n",
       "    </tr>\n",
       "    <tr>\n",
       "      <th>25</th>\n",
       "      <td>Italy</td>\n",
       "      <td>Rosé</td>\n",
       "      <td>15.67</td>\n",
       "      <td>86.02</td>\n",
       "    </tr>\n",
       "    <tr>\n",
       "      <th>26</th>\n",
       "      <td>Italy</td>\n",
       "      <td>Sparkling</td>\n",
       "      <td>40.57</td>\n",
       "      <td>88.71</td>\n",
       "    </tr>\n",
       "    <tr>\n",
       "      <th>27</th>\n",
       "      <td>Italy</td>\n",
       "      <td>White</td>\n",
       "      <td>30.15</td>\n",
       "      <td>88.05</td>\n",
       "    </tr>\n",
       "    <tr>\n",
       "      <th>28</th>\n",
       "      <td>Italy</td>\n",
       "      <td>White Blend</td>\n",
       "      <td>28.10</td>\n",
       "      <td>87.93</td>\n",
       "    </tr>\n",
       "    <tr>\n",
       "      <th>29</th>\n",
       "      <td>Spain</td>\n",
       "      <td>Red</td>\n",
       "      <td>30.83</td>\n",
       "      <td>87.53</td>\n",
       "    </tr>\n",
       "    <tr>\n",
       "      <th>30</th>\n",
       "      <td>Spain</td>\n",
       "      <td>Red Blend</td>\n",
       "      <td>35.38</td>\n",
       "      <td>88.12</td>\n",
       "    </tr>\n",
       "    <tr>\n",
       "      <th>31</th>\n",
       "      <td>Spain</td>\n",
       "      <td>Rosé</td>\n",
       "      <td>12.52</td>\n",
       "      <td>84.86</td>\n",
       "    </tr>\n",
       "    <tr>\n",
       "      <th>32</th>\n",
       "      <td>Spain</td>\n",
       "      <td>Sparkling</td>\n",
       "      <td>19.97</td>\n",
       "      <td>86.83</td>\n",
       "    </tr>\n",
       "    <tr>\n",
       "      <th>33</th>\n",
       "      <td>Spain</td>\n",
       "      <td>White</td>\n",
       "      <td>17.90</td>\n",
       "      <td>84.65</td>\n",
       "    </tr>\n",
       "    <tr>\n",
       "      <th>34</th>\n",
       "      <td>Spain</td>\n",
       "      <td>White Blend</td>\n",
       "      <td>20.24</td>\n",
       "      <td>86.14</td>\n",
       "    </tr>\n",
       "    <tr>\n",
       "      <th>35</th>\n",
       "      <td>US</td>\n",
       "      <td>Red</td>\n",
       "      <td>42.92</td>\n",
       "      <td>88.94</td>\n",
       "    </tr>\n",
       "    <tr>\n",
       "      <th>36</th>\n",
       "      <td>US</td>\n",
       "      <td>Red Blend</td>\n",
       "      <td>42.33</td>\n",
       "      <td>88.67</td>\n",
       "    </tr>\n",
       "    <tr>\n",
       "      <th>37</th>\n",
       "      <td>US</td>\n",
       "      <td>Rosé</td>\n",
       "      <td>20.23</td>\n",
       "      <td>87.25</td>\n",
       "    </tr>\n",
       "    <tr>\n",
       "      <th>38</th>\n",
       "      <td>US</td>\n",
       "      <td>Sparkling</td>\n",
       "      <td>36.22</td>\n",
       "      <td>89.00</td>\n",
       "    </tr>\n",
       "    <tr>\n",
       "      <th>39</th>\n",
       "      <td>US</td>\n",
       "      <td>White</td>\n",
       "      <td>26.22</td>\n",
       "      <td>88.17</td>\n",
       "    </tr>\n",
       "    <tr>\n",
       "      <th>40</th>\n",
       "      <td>US</td>\n",
       "      <td>White Blend</td>\n",
       "      <td>21.76</td>\n",
       "      <td>87.17</td>\n",
       "    </tr>\n",
       "  </tbody>\n",
       "</table>\n",
       "</div>"
      ],
      "text/plain": [
       "      country         type  price  points\n",
       "0   Argentina  Red          25.77  87.01 \n",
       "1   Argentina  Red Blend    36.01  88.79 \n",
       "2   Argentina  Rosé         13.43  84.08 \n",
       "3   Argentina  Sparkling    17.81  84.69 \n",
       "4   Argentina  White        16.88  84.85 \n",
       "5   Argentina  White Blend  20.74  84.74 \n",
       "6   Australia  Red          36.42  88.58 \n",
       "7   Australia  Red Blend    39.15  88.22 \n",
       "8   Australia  Rosé         18.54  87.35 \n",
       "9   Australia  Sparkling    20.88  87.06 \n",
       "10  Australia  White        23.85  87.72 \n",
       "11  Australia  White Blend  18.56  86.94 \n",
       "12  Canada     Red          39.17  89.39 \n",
       "13  Canada     Red Blend    43.60  90.50 \n",
       "14  Canada     Rosé         20.00  87.00 \n",
       "15  Canada     White        30.02  89.22 \n",
       "16  Canada     White Blend  20.40  87.80 \n",
       "17  France     Red          65.32  89.47 \n",
       "18  France     Red Blend    38.41  88.27 \n",
       "19  France     Rosé         19.52  87.30 \n",
       "20  France     Sparkling    22.50  87.89 \n",
       "21  France     White        44.87  89.39 \n",
       "22  France     White Blend  18.86  87.27 \n",
       "23  Italy      Red          59.02  89.68 \n",
       "24  Italy      Red Blend    39.71  88.85 \n",
       "25  Italy      Rosé         15.67  86.02 \n",
       "26  Italy      Sparkling    40.57  88.71 \n",
       "27  Italy      White        30.15  88.05 \n",
       "28  Italy      White Blend  28.10  87.93 \n",
       "29  Spain      Red          30.83  87.53 \n",
       "30  Spain      Red Blend    35.38  88.12 \n",
       "31  Spain      Rosé         12.52  84.86 \n",
       "32  Spain      Sparkling    19.97  86.83 \n",
       "33  Spain      White        17.90  84.65 \n",
       "34  Spain      White Blend  20.24  86.14 \n",
       "35  US         Red          42.92  88.94 \n",
       "36  US         Red Blend    42.33  88.67 \n",
       "37  US         Rosé         20.23  87.25 \n",
       "38  US         Sparkling    36.22  89.00 \n",
       "39  US         White        26.22  88.17 \n",
       "40  US         White Blend  21.76  87.17 "
      ]
     },
     "execution_count": 154,
     "metadata": {},
     "output_type": "execute_result"
    }
   ],
   "source": [
    "by_country_type = wine_df.groupby(['country','type'])[['price','points']].agg('mean').round(2).reset_index()\n",
    "by_country_type\n"
   ]
  },
  {
   "cell_type": "code",
   "execution_count": null,
   "metadata": {},
   "outputs": [],
   "source": []
  }
 ],
 "metadata": {
  "kernelspec": {
   "display_name": "dev39",
   "language": "python",
   "name": "python3"
  },
  "language_info": {
   "codemirror_mode": {
    "name": "ipython",
    "version": 3
   },
   "file_extension": ".py",
   "mimetype": "text/x-python",
   "name": "python",
   "nbconvert_exporter": "python",
   "pygments_lexer": "ipython3",
   "version": "3.9.18"
  }
 },
 "nbformat": 4,
 "nbformat_minor": 2
}
