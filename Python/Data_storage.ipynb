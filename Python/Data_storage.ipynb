{
 "cells": [
  {
   "cell_type": "code",
   "execution_count": null,
   "id": "8b557f70-ed26-4e0a-b6b8-1043550faa51",
   "metadata": {},
   "outputs": [],
   "source": [
    "# import via notebook\n",
    "#!mongoimport --type json -d wine -c ratings --drop --jsonArray clean_wine_data_final.json"
   ]
  },
  {
   "cell_type": "code",
   "execution_count": 91,
   "id": "c22af3ca-9438-4eb1-9b38-09f973fe8cbf",
   "metadata": {},
   "outputs": [],
   "source": [
    "# Importing Necessary Libraries\n",
    "from pymongo import MongoClient\n",
    "from pprint import pprint"
   ]
  },
  {
   "cell_type": "code",
   "execution_count": 92,
   "id": "1cab394d-a25d-47f5-9969-4b20d6e1de1f",
   "metadata": {},
   "outputs": [],
   "source": [
    "# Create an instance of MongoClient\n",
    "mongo = MongoClient(port=27017)"
   ]
  },
  {
   "cell_type": "code",
   "execution_count": 93,
   "id": "b3b3582d-5de4-445f-9160-fcce57d4ceaa",
   "metadata": {},
   "outputs": [
    {
     "data": {
      "text/plain": [
       "['admin',\n",
       " 'air_b_and_b',\n",
       " 'classDB',\n",
       " 'config',\n",
       " 'epa',\n",
       " 'gardenDB',\n",
       " 'local',\n",
       " 'met',\n",
       " 'petsitly_marketing',\n",
       " 'sfairbnb',\n",
       " 'uk_food',\n",
       " 'wine']"
      ]
     },
     "execution_count": 93,
     "metadata": {},
     "output_type": "execute_result"
    }
   ],
   "source": [
    "# confirm that our new database was created\n",
    "mongo.list_database_names()"
   ]
  },
  {
   "cell_type": "code",
   "execution_count": 95,
   "id": "bd6743f3-8547-4b22-8d86-6eff9b93d9e6",
   "metadata": {},
   "outputs": [
    {
     "data": {
      "text/plain": [
       "['ratings']"
      ]
     },
     "execution_count": 95,
     "metadata": {},
     "output_type": "execute_result"
    }
   ],
   "source": [
    "db = mongo['wine']\n",
    "db.list_collection_names()"
   ]
  },
  {
   "cell_type": "code",
   "execution_count": 101,
   "id": "d1dfd720-c5c6-4a81-ad6e-3276f52f66e4",
   "metadata": {},
   "outputs": [],
   "source": [
    "#assign the collection to a variable\n",
    "wine_df = db['ratings']"
   ]
  },
  {
   "cell_type": "code",
   "execution_count": 102,
   "id": "d3c244f8-e368-41cd-904f-c8ff44e7b37e",
   "metadata": {},
   "outputs": [],
   "source": [
    "cursor = db[\"ratings\"].find({})\n",
    "json_data = list(cursor)"
   ]
  },
  {
   "cell_type": "code",
   "execution_count": 105,
   "id": "3ab4d82c-0942-41a4-911a-d5dae7d1d0d6",
   "metadata": {},
   "outputs": [
    {
     "name": "stdout",
     "output_type": "stream",
     "text": [
      "<class 'pandas.core.frame.DataFrame'>\n",
      "RangeIndex: 76736 entries, 0 to 76735\n",
      "Data columns (total 12 columns):\n",
      " #   Column           Non-Null Count  Dtype \n",
      "---  ------           --------------  ----- \n",
      " 0   _id              76736 non-null  object\n",
      " 1   country          76736 non-null  object\n",
      " 2   description      76736 non-null  object\n",
      " 3   points           76736 non-null  int64 \n",
      " 4   price            76736 non-null  int64 \n",
      " 5   province         76736 non-null  object\n",
      " 6   region           76736 non-null  object\n",
      " 7   title            76736 non-null  object\n",
      " 8   variety          76736 non-null  object\n",
      " 9   winery           76736 non-null  object\n",
      " 10  rating_category  76736 non-null  object\n",
      " 11  type             73897 non-null  object\n",
      "dtypes: int64(2), object(10)\n",
      "memory usage: 7.0+ MB\n"
     ]
    }
   ],
   "source": [
    "wine_df = pd.DataFrame(json_data)\n",
    "wine_df.info()"
   ]
  },
  {
   "cell_type": "code",
   "execution_count": null,
   "id": "40e60269-589f-4dd5-aed5-1e3441b2e558",
   "metadata": {},
   "outputs": [],
   "source": []
  }
 ],
 "metadata": {
  "kernelspec": {
   "display_name": "Python 3 (ipykernel)",
   "language": "python",
   "name": "python3"
  },
  "language_info": {
   "codemirror_mode": {
    "name": "ipython",
    "version": 3
   },
   "file_extension": ".py",
   "mimetype": "text/x-python",
   "name": "python",
   "nbconvert_exporter": "python",
   "pygments_lexer": "ipython3",
   "version": "3.9.18"
  }
 },
 "nbformat": 4,
 "nbformat_minor": 5
}
