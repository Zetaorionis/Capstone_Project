{
 "cells": [
  {
   "cell_type": "code",
   "execution_count": 60,
   "id": "3892e3c4-0310-4c0e-a744-f592f93859d8",
   "metadata": {},
   "outputs": [],
   "source": [
    "# Importing Necessary Libraries\n",
    "from pymongo import MongoClient\n",
    "import pandas as pd\n",
    "import tensorflow as tf\n",
    "from sklearn.preprocessing import StandardScaler\n",
    "from sklearn.model_selection import train_test_split\n",
    "import seaborn as sns\n",
    "import matplotlib.pyplot as plt"
   ]
  },
  {
   "cell_type": "code",
   "execution_count": 2,
   "id": "92a44f61-a58b-4824-896b-bc79d5885b5c",
   "metadata": {},
   "outputs": [],
   "source": [
    "# Create an instance of MongoClient\n",
    "mongo = MongoClient(port=27017)"
   ]
  },
  {
   "cell_type": "code",
   "execution_count": 3,
   "id": "f5c6f525-02a2-4510-86f1-950afcf5a53c",
   "metadata": {},
   "outputs": [
    {
     "data": {
      "text/plain": [
       "['admin',\n",
       " 'autosaurus',\n",
       " 'classDB',\n",
       " 'config',\n",
       " 'epa',\n",
       " 'fruits_db',\n",
       " 'garden_db',\n",
       " 'local',\n",
       " 'met',\n",
       " 'petsitly_marketing',\n",
       " 'team_1_db',\n",
       " 'travel_db',\n",
       " 'uk_food',\n",
       " 'wine']"
      ]
     },
     "execution_count": 3,
     "metadata": {},
     "output_type": "execute_result"
    }
   ],
   "source": [
    "# confirm that our new database was created\n",
    "mongo.list_database_names()"
   ]
  },
  {
   "cell_type": "code",
   "execution_count": 4,
   "id": "6dd3b7ac-3996-4372-a8e2-75684c0763a7",
   "metadata": {},
   "outputs": [
    {
     "data": {
      "text/plain": [
       "['ratings']"
      ]
     },
     "execution_count": 4,
     "metadata": {},
     "output_type": "execute_result"
    }
   ],
   "source": [
    "db = mongo['wine']\n",
    "db.list_collection_names()"
   ]
  },
  {
   "cell_type": "code",
   "execution_count": 5,
   "id": "d06e9990-a077-4641-b497-ae35f7867e27",
   "metadata": {},
   "outputs": [],
   "source": [
    "#assign the collection to a variable\n",
    "wine_df = db['ratings']"
   ]
  },
  {
   "cell_type": "code",
   "execution_count": 6,
   "id": "5c127501-93c7-4201-aabd-99925cd680a3",
   "metadata": {},
   "outputs": [],
   "source": [
    "cursor = db[\"ratings\"].find({})\n",
    "json_data = list(cursor)"
   ]
  },
  {
   "cell_type": "code",
   "execution_count": 7,
   "id": "3a0b4d3b-94b9-4a22-92c0-51e290d07c0e",
   "metadata": {},
   "outputs": [
    {
     "data": {
      "text/html": [
       "<div>\n",
       "<style scoped>\n",
       "    .dataframe tbody tr th:only-of-type {\n",
       "        vertical-align: middle;\n",
       "    }\n",
       "\n",
       "    .dataframe tbody tr th {\n",
       "        vertical-align: top;\n",
       "    }\n",
       "\n",
       "    .dataframe thead th {\n",
       "        text-align: right;\n",
       "    }\n",
       "</style>\n",
       "<table border=\"1\" class=\"dataframe\">\n",
       "  <thead>\n",
       "    <tr style=\"text-align: right;\">\n",
       "      <th></th>\n",
       "      <th>_id</th>\n",
       "      <th>country</th>\n",
       "      <th>description</th>\n",
       "      <th>points</th>\n",
       "      <th>price</th>\n",
       "      <th>province</th>\n",
       "      <th>region</th>\n",
       "      <th>title</th>\n",
       "      <th>variety</th>\n",
       "      <th>winery</th>\n",
       "      <th>rating_category</th>\n",
       "      <th>type</th>\n",
       "      <th>vintage</th>\n",
       "    </tr>\n",
       "  </thead>\n",
       "  <tbody>\n",
       "    <tr>\n",
       "      <th>0</th>\n",
       "      <td>663af692e8d6239274b71533</td>\n",
       "      <td>France</td>\n",
       "      <td>This has great depth of flavor with its fresh ...</td>\n",
       "      <td>87</td>\n",
       "      <td>27</td>\n",
       "      <td>Alsace</td>\n",
       "      <td>Alsace</td>\n",
       "      <td>Jean-Baptiste Adam 2012 Les Natures Pinot Gris...</td>\n",
       "      <td>Pinot Gris</td>\n",
       "      <td>Jean-Baptiste Adam</td>\n",
       "      <td>Good</td>\n",
       "      <td>White</td>\n",
       "      <td>2012</td>\n",
       "    </tr>\n",
       "    <tr>\n",
       "      <th>1</th>\n",
       "      <td>663af692e8d6239274b71534</td>\n",
       "      <td>US</td>\n",
       "      <td>Rustic and dry, this has flavors of berries, c...</td>\n",
       "      <td>86</td>\n",
       "      <td>50</td>\n",
       "      <td>California</td>\n",
       "      <td>Dry Creek Valley</td>\n",
       "      <td>Envolve 2010 Puma Springs Vineyard Red (Dry Cr...</td>\n",
       "      <td>Red Blend</td>\n",
       "      <td>Envolve</td>\n",
       "      <td>Good</td>\n",
       "      <td>Red</td>\n",
       "      <td>2010</td>\n",
       "    </tr>\n",
       "    <tr>\n",
       "      <th>2</th>\n",
       "      <td>663af692e8d6239274b71535</td>\n",
       "      <td>US</td>\n",
       "      <td>Soft, supple plum envelopes an oaky structure ...</td>\n",
       "      <td>87</td>\n",
       "      <td>19</td>\n",
       "      <td>California</td>\n",
       "      <td>Napa Valley</td>\n",
       "      <td>Kirkland Signature 2011 Mountain Cuvée Caberne...</td>\n",
       "      <td>Cabernet Sauvignon</td>\n",
       "      <td>Kirkland Signature</td>\n",
       "      <td>Good</td>\n",
       "      <td>Red</td>\n",
       "      <td>2011</td>\n",
       "    </tr>\n",
       "    <tr>\n",
       "      <th>3</th>\n",
       "      <td>663af692e8d6239274b71536</td>\n",
       "      <td>US</td>\n",
       "      <td>This shows a tart, green gooseberry flavor tha...</td>\n",
       "      <td>86</td>\n",
       "      <td>20</td>\n",
       "      <td>California</td>\n",
       "      <td>Sonoma Valley</td>\n",
       "      <td>Envolve 2011 Sauvignon Blanc (Sonoma Valley)</td>\n",
       "      <td>Sauvignon Blanc</td>\n",
       "      <td>Envolve</td>\n",
       "      <td>Good</td>\n",
       "      <td>White</td>\n",
       "      <td>2011</td>\n",
       "    </tr>\n",
       "    <tr>\n",
       "      <th>4</th>\n",
       "      <td>663af692e8d6239274b71537</td>\n",
       "      <td>Italy</td>\n",
       "      <td>This concentrated Cabernet offers aromas of cu...</td>\n",
       "      <td>86</td>\n",
       "      <td>21</td>\n",
       "      <td>Sicily &amp; Sardinia</td>\n",
       "      <td>Sicilia</td>\n",
       "      <td>Feudi del Pisciotto 2010 Missoni Cabernet Sauv...</td>\n",
       "      <td>Cabernet Sauvignon</td>\n",
       "      <td>Feudi del Pisciotto</td>\n",
       "      <td>Good</td>\n",
       "      <td>Red</td>\n",
       "      <td>2010</td>\n",
       "    </tr>\n",
       "  </tbody>\n",
       "</table>\n",
       "</div>"
      ],
      "text/plain": [
       "                        _id country  \\\n",
       "0  663af692e8d6239274b71533  France   \n",
       "1  663af692e8d6239274b71534      US   \n",
       "2  663af692e8d6239274b71535      US   \n",
       "3  663af692e8d6239274b71536      US   \n",
       "4  663af692e8d6239274b71537   Italy   \n",
       "\n",
       "                                         description  points  price  \\\n",
       "0  This has great depth of flavor with its fresh ...      87     27   \n",
       "1  Rustic and dry, this has flavors of berries, c...      86     50   \n",
       "2  Soft, supple plum envelopes an oaky structure ...      87     19   \n",
       "3  This shows a tart, green gooseberry flavor tha...      86     20   \n",
       "4  This concentrated Cabernet offers aromas of cu...      86     21   \n",
       "\n",
       "            province            region  \\\n",
       "0             Alsace            Alsace   \n",
       "1         California  Dry Creek Valley   \n",
       "2         California       Napa Valley   \n",
       "3         California     Sonoma Valley   \n",
       "4  Sicily & Sardinia           Sicilia   \n",
       "\n",
       "                                               title             variety  \\\n",
       "0  Jean-Baptiste Adam 2012 Les Natures Pinot Gris...          Pinot Gris   \n",
       "1  Envolve 2010 Puma Springs Vineyard Red (Dry Cr...           Red Blend   \n",
       "2  Kirkland Signature 2011 Mountain Cuvée Caberne...  Cabernet Sauvignon   \n",
       "3       Envolve 2011 Sauvignon Blanc (Sonoma Valley)     Sauvignon Blanc   \n",
       "4  Feudi del Pisciotto 2010 Missoni Cabernet Sauv...  Cabernet Sauvignon   \n",
       "\n",
       "                winery rating_category   type vintage  \n",
       "0   Jean-Baptiste Adam            Good  White    2012  \n",
       "1              Envolve            Good    Red    2010  \n",
       "2   Kirkland Signature            Good    Red    2011  \n",
       "3              Envolve            Good  White    2011  \n",
       "4  Feudi del Pisciotto            Good    Red    2010  "
      ]
     },
     "execution_count": 7,
     "metadata": {},
     "output_type": "execute_result"
    }
   ],
   "source": [
    "wine_df = pd.DataFrame(json_data)\n",
    "wine_df.head()"
   ]
  },
  {
   "cell_type": "code",
   "execution_count": 8,
   "id": "de744cee-f77c-4bd3-a7e8-1dab5de3138d",
   "metadata": {},
   "outputs": [
    {
     "data": {
      "text/html": [
       "<div>\n",
       "<style scoped>\n",
       "    .dataframe tbody tr th:only-of-type {\n",
       "        vertical-align: middle;\n",
       "    }\n",
       "\n",
       "    .dataframe tbody tr th {\n",
       "        vertical-align: top;\n",
       "    }\n",
       "\n",
       "    .dataframe thead th {\n",
       "        text-align: right;\n",
       "    }\n",
       "</style>\n",
       "<table border=\"1\" class=\"dataframe\">\n",
       "  <thead>\n",
       "    <tr style=\"text-align: right;\">\n",
       "      <th></th>\n",
       "      <th>country</th>\n",
       "      <th>points</th>\n",
       "      <th>price</th>\n",
       "      <th>province</th>\n",
       "      <th>variety</th>\n",
       "      <th>rating_category</th>\n",
       "      <th>type</th>\n",
       "      <th>vintage</th>\n",
       "    </tr>\n",
       "  </thead>\n",
       "  <tbody>\n",
       "    <tr>\n",
       "      <th>0</th>\n",
       "      <td>France</td>\n",
       "      <td>87</td>\n",
       "      <td>27</td>\n",
       "      <td>Alsace</td>\n",
       "      <td>Pinot Gris</td>\n",
       "      <td>Good</td>\n",
       "      <td>White</td>\n",
       "      <td>2012</td>\n",
       "    </tr>\n",
       "    <tr>\n",
       "      <th>1</th>\n",
       "      <td>US</td>\n",
       "      <td>86</td>\n",
       "      <td>50</td>\n",
       "      <td>California</td>\n",
       "      <td>Red Blend</td>\n",
       "      <td>Good</td>\n",
       "      <td>Red</td>\n",
       "      <td>2010</td>\n",
       "    </tr>\n",
       "    <tr>\n",
       "      <th>2</th>\n",
       "      <td>US</td>\n",
       "      <td>87</td>\n",
       "      <td>19</td>\n",
       "      <td>California</td>\n",
       "      <td>Cabernet Sauvignon</td>\n",
       "      <td>Good</td>\n",
       "      <td>Red</td>\n",
       "      <td>2011</td>\n",
       "    </tr>\n",
       "    <tr>\n",
       "      <th>3</th>\n",
       "      <td>US</td>\n",
       "      <td>86</td>\n",
       "      <td>20</td>\n",
       "      <td>California</td>\n",
       "      <td>Sauvignon Blanc</td>\n",
       "      <td>Good</td>\n",
       "      <td>White</td>\n",
       "      <td>2011</td>\n",
       "    </tr>\n",
       "    <tr>\n",
       "      <th>4</th>\n",
       "      <td>Italy</td>\n",
       "      <td>86</td>\n",
       "      <td>21</td>\n",
       "      <td>Sicily &amp; Sardinia</td>\n",
       "      <td>Cabernet Sauvignon</td>\n",
       "      <td>Good</td>\n",
       "      <td>Red</td>\n",
       "      <td>2010</td>\n",
       "    </tr>\n",
       "  </tbody>\n",
       "</table>\n",
       "</div>"
      ],
      "text/plain": [
       "  country  points  price           province             variety  \\\n",
       "0  France      87     27             Alsace          Pinot Gris   \n",
       "1      US      86     50         California           Red Blend   \n",
       "2      US      87     19         California  Cabernet Sauvignon   \n",
       "3      US      86     20         California     Sauvignon Blanc   \n",
       "4   Italy      86     21  Sicily & Sardinia  Cabernet Sauvignon   \n",
       "\n",
       "  rating_category   type vintage  \n",
       "0            Good  White    2012  \n",
       "1            Good    Red    2010  \n",
       "2            Good    Red    2011  \n",
       "3            Good  White    2011  \n",
       "4            Good    Red    2010  "
      ]
     },
     "execution_count": 8,
     "metadata": {},
     "output_type": "execute_result"
    }
   ],
   "source": [
    "# Drop the non-beneficial ID columns\n",
    "wine_df = wine_df.drop(columns = ['_id','description','title', 'winery', 'region'])\n",
    "wine_df.head()"
   ]
  },
  {
   "cell_type": "code",
   "execution_count": 9,
   "id": "699b16fa-c5b6-47e9-bcff-f64362cb5652",
   "metadata": {},
   "outputs": [
    {
     "data": {
      "text/html": [
       "<div>\n",
       "<style scoped>\n",
       "    .dataframe tbody tr th:only-of-type {\n",
       "        vertical-align: middle;\n",
       "    }\n",
       "\n",
       "    .dataframe tbody tr th {\n",
       "        vertical-align: top;\n",
       "    }\n",
       "\n",
       "    .dataframe thead th {\n",
       "        text-align: right;\n",
       "    }\n",
       "</style>\n",
       "<table border=\"1\" class=\"dataframe\">\n",
       "  <thead>\n",
       "    <tr style=\"text-align: right;\">\n",
       "      <th></th>\n",
       "      <th>country</th>\n",
       "      <th>points</th>\n",
       "      <th>price</th>\n",
       "      <th>province</th>\n",
       "      <th>variety</th>\n",
       "      <th>rating_category</th>\n",
       "      <th>type</th>\n",
       "      <th>vintage</th>\n",
       "      <th>target</th>\n",
       "    </tr>\n",
       "  </thead>\n",
       "  <tbody>\n",
       "    <tr>\n",
       "      <th>77926</th>\n",
       "      <td>US</td>\n",
       "      <td>90</td>\n",
       "      <td>20</td>\n",
       "      <td>California</td>\n",
       "      <td>Chardonnay</td>\n",
       "      <td>Very Good</td>\n",
       "      <td>White</td>\n",
       "      <td>2013</td>\n",
       "      <td>True</td>\n",
       "    </tr>\n",
       "    <tr>\n",
       "      <th>77927</th>\n",
       "      <td>France</td>\n",
       "      <td>90</td>\n",
       "      <td>28</td>\n",
       "      <td>Alsace</td>\n",
       "      <td>Pinot Gris</td>\n",
       "      <td>Very Good</td>\n",
       "      <td>White</td>\n",
       "      <td>2013</td>\n",
       "      <td>True</td>\n",
       "    </tr>\n",
       "    <tr>\n",
       "      <th>77928</th>\n",
       "      <td>France</td>\n",
       "      <td>90</td>\n",
       "      <td>57</td>\n",
       "      <td>Alsace</td>\n",
       "      <td>Pinot Gris</td>\n",
       "      <td>Very Good</td>\n",
       "      <td>White</td>\n",
       "      <td>2010</td>\n",
       "      <td>True</td>\n",
       "    </tr>\n",
       "    <tr>\n",
       "      <th>77929</th>\n",
       "      <td>US</td>\n",
       "      <td>90</td>\n",
       "      <td>35</td>\n",
       "      <td>California</td>\n",
       "      <td>Chardonnay</td>\n",
       "      <td>Very Good</td>\n",
       "      <td>White</td>\n",
       "      <td>2013</td>\n",
       "      <td>True</td>\n",
       "    </tr>\n",
       "    <tr>\n",
       "      <th>77930</th>\n",
       "      <td>US</td>\n",
       "      <td>90</td>\n",
       "      <td>75</td>\n",
       "      <td>Oregon</td>\n",
       "      <td>Pinot Noir</td>\n",
       "      <td>Very Good</td>\n",
       "      <td>Red</td>\n",
       "      <td>2004</td>\n",
       "      <td>True</td>\n",
       "    </tr>\n",
       "  </tbody>\n",
       "</table>\n",
       "</div>"
      ],
      "text/plain": [
       "      country  points  price    province     variety rating_category   type  \\\n",
       "77926      US      90     20  California  Chardonnay       Very Good  White   \n",
       "77927  France      90     28      Alsace  Pinot Gris       Very Good  White   \n",
       "77928  France      90     57      Alsace  Pinot Gris       Very Good  White   \n",
       "77929      US      90     35  California  Chardonnay       Very Good  White   \n",
       "77930      US      90     75      Oregon  Pinot Noir       Very Good    Red   \n",
       "\n",
       "      vintage  target  \n",
       "77926    2013    True  \n",
       "77927    2013    True  \n",
       "77928    2010    True  \n",
       "77929    2013    True  \n",
       "77930    2004    True  "
      ]
     },
     "execution_count": 9,
     "metadata": {},
     "output_type": "execute_result"
    }
   ],
   "source": [
    "wine_df['target'] =wine_df['points']>=90\n",
    "wine_df.tail()"
   ]
  },
  {
   "cell_type": "code",
   "execution_count": 10,
   "id": "4e5cac2b-3f8d-4059-8d92-4e39684480a4",
   "metadata": {},
   "outputs": [],
   "source": [
    "wine_df = wine_df.drop(columns = ['points','rating_category', 'province', 'type'])"
   ]
  },
  {
   "cell_type": "code",
   "execution_count": 11,
   "id": "b5d8a17f-84ee-4910-a6a8-4291738d3ecf",
   "metadata": {},
   "outputs": [
    {
     "data": {
      "text/html": [
       "<div>\n",
       "<style scoped>\n",
       "    .dataframe tbody tr th:only-of-type {\n",
       "        vertical-align: middle;\n",
       "    }\n",
       "\n",
       "    .dataframe tbody tr th {\n",
       "        vertical-align: top;\n",
       "    }\n",
       "\n",
       "    .dataframe thead th {\n",
       "        text-align: right;\n",
       "    }\n",
       "</style>\n",
       "<table border=\"1\" class=\"dataframe\">\n",
       "  <thead>\n",
       "    <tr style=\"text-align: right;\">\n",
       "      <th></th>\n",
       "      <th>country</th>\n",
       "      <th>price</th>\n",
       "      <th>variety</th>\n",
       "      <th>vintage</th>\n",
       "      <th>target</th>\n",
       "    </tr>\n",
       "  </thead>\n",
       "  <tbody>\n",
       "    <tr>\n",
       "      <th>0</th>\n",
       "      <td>France</td>\n",
       "      <td>27</td>\n",
       "      <td>Pinot Gris</td>\n",
       "      <td>2012</td>\n",
       "      <td>False</td>\n",
       "    </tr>\n",
       "    <tr>\n",
       "      <th>1</th>\n",
       "      <td>US</td>\n",
       "      <td>50</td>\n",
       "      <td>Red Blend</td>\n",
       "      <td>2010</td>\n",
       "      <td>False</td>\n",
       "    </tr>\n",
       "    <tr>\n",
       "      <th>2</th>\n",
       "      <td>US</td>\n",
       "      <td>19</td>\n",
       "      <td>Cabernet Sauvignon</td>\n",
       "      <td>2011</td>\n",
       "      <td>False</td>\n",
       "    </tr>\n",
       "    <tr>\n",
       "      <th>3</th>\n",
       "      <td>US</td>\n",
       "      <td>20</td>\n",
       "      <td>Sauvignon Blanc</td>\n",
       "      <td>2011</td>\n",
       "      <td>False</td>\n",
       "    </tr>\n",
       "    <tr>\n",
       "      <th>4</th>\n",
       "      <td>Italy</td>\n",
       "      <td>21</td>\n",
       "      <td>Cabernet Sauvignon</td>\n",
       "      <td>2010</td>\n",
       "      <td>False</td>\n",
       "    </tr>\n",
       "  </tbody>\n",
       "</table>\n",
       "</div>"
      ],
      "text/plain": [
       "  country  price             variety vintage  target\n",
       "0  France     27          Pinot Gris    2012   False\n",
       "1      US     50           Red Blend    2010   False\n",
       "2      US     19  Cabernet Sauvignon    2011   False\n",
       "3      US     20     Sauvignon Blanc    2011   False\n",
       "4   Italy     21  Cabernet Sauvignon    2010   False"
      ]
     },
     "execution_count": 11,
     "metadata": {},
     "output_type": "execute_result"
    }
   ],
   "source": [
    "wine_df.head()"
   ]
  },
  {
   "cell_type": "code",
   "execution_count": 12,
   "id": "a16adb0a-ea35-45b5-8bb2-b07b29c651c7",
   "metadata": {},
   "outputs": [
    {
     "name": "stdout",
     "output_type": "stream",
     "text": [
      "<class 'pandas.core.frame.DataFrame'>\n",
      "RangeIndex: 77931 entries, 0 to 77930\n",
      "Data columns (total 5 columns):\n",
      " #   Column   Non-Null Count  Dtype \n",
      "---  ------   --------------  ----- \n",
      " 0   country  77931 non-null  object\n",
      " 1   price    77931 non-null  int64 \n",
      " 2   variety  77931 non-null  object\n",
      " 3   vintage  77931 non-null  object\n",
      " 4   target   77931 non-null  bool  \n",
      "dtypes: bool(1), int64(1), object(3)\n",
      "memory usage: 2.5+ MB\n"
     ]
    }
   ],
   "source": [
    "wine_df.info()"
   ]
  },
  {
   "cell_type": "code",
   "execution_count": 13,
   "id": "16cbeb32-c83f-4add-923e-2b4393196fac",
   "metadata": {},
   "outputs": [
    {
     "data": {
      "text/plain": [
       "array(['2012', '2010', '2011', '2009', '2013', '2015', '2014', 'No Year',\n",
       "       '2007', '2016', '2008', '2003', '2001', '2004', '2006', '2005',\n",
       "       '2002', '1887', '1999', '1991', '1997', '2000', '2017', '1996',\n",
       "       '1998', '1995', '1994', '1992', '1990', '1988', '1872', '1989',\n",
       "       '1993', '1882', '1985', '1904', '1986', '1987', '1919', '1945'],\n",
       "      dtype=object)"
      ]
     },
     "execution_count": 13,
     "metadata": {},
     "output_type": "execute_result"
    }
   ],
   "source": [
    "wine_df['vintage'].unique()"
   ]
  },
  {
   "cell_type": "code",
   "execution_count": 14,
   "id": "96b6e5ff-d12f-46a3-b460-426b81920dab",
   "metadata": {},
   "outputs": [
    {
     "data": {
      "text/html": [
       "<div>\n",
       "<style scoped>\n",
       "    .dataframe tbody tr th:only-of-type {\n",
       "        vertical-align: middle;\n",
       "    }\n",
       "\n",
       "    .dataframe tbody tr th {\n",
       "        vertical-align: top;\n",
       "    }\n",
       "\n",
       "    .dataframe thead th {\n",
       "        text-align: right;\n",
       "    }\n",
       "</style>\n",
       "<table border=\"1\" class=\"dataframe\">\n",
       "  <thead>\n",
       "    <tr style=\"text-align: right;\">\n",
       "      <th></th>\n",
       "      <th>country</th>\n",
       "      <th>price</th>\n",
       "      <th>variety</th>\n",
       "      <th>vintage</th>\n",
       "      <th>target</th>\n",
       "    </tr>\n",
       "  </thead>\n",
       "  <tbody>\n",
       "    <tr>\n",
       "      <th>0</th>\n",
       "      <td>France</td>\n",
       "      <td>27</td>\n",
       "      <td>Pinot Gris</td>\n",
       "      <td>2012</td>\n",
       "      <td>False</td>\n",
       "    </tr>\n",
       "    <tr>\n",
       "      <th>1</th>\n",
       "      <td>US</td>\n",
       "      <td>50</td>\n",
       "      <td>Red Blend</td>\n",
       "      <td>2010</td>\n",
       "      <td>False</td>\n",
       "    </tr>\n",
       "    <tr>\n",
       "      <th>2</th>\n",
       "      <td>US</td>\n",
       "      <td>19</td>\n",
       "      <td>Cabernet Sauvignon</td>\n",
       "      <td>2011</td>\n",
       "      <td>False</td>\n",
       "    </tr>\n",
       "    <tr>\n",
       "      <th>3</th>\n",
       "      <td>US</td>\n",
       "      <td>20</td>\n",
       "      <td>Sauvignon Blanc</td>\n",
       "      <td>2011</td>\n",
       "      <td>False</td>\n",
       "    </tr>\n",
       "    <tr>\n",
       "      <th>4</th>\n",
       "      <td>Italy</td>\n",
       "      <td>21</td>\n",
       "      <td>Cabernet Sauvignon</td>\n",
       "      <td>2010</td>\n",
       "      <td>False</td>\n",
       "    </tr>\n",
       "  </tbody>\n",
       "</table>\n",
       "</div>"
      ],
      "text/plain": [
       "  country  price             variety vintage  target\n",
       "0  France     27          Pinot Gris    2012   False\n",
       "1      US     50           Red Blend    2010   False\n",
       "2      US     19  Cabernet Sauvignon    2011   False\n",
       "3      US     20     Sauvignon Blanc    2011   False\n",
       "4   Italy     21  Cabernet Sauvignon    2010   False"
      ]
     },
     "execution_count": 14,
     "metadata": {},
     "output_type": "execute_result"
    }
   ],
   "source": [
    "wine_df['vintage'] = wine_df['vintage'].replace('No Year', pd.NA)\n",
    "wine_df.head()"
   ]
  },
  {
   "cell_type": "code",
   "execution_count": 15,
   "id": "1140292b-841a-4caa-a06d-fedd9b884f48",
   "metadata": {},
   "outputs": [
    {
     "data": {
      "text/plain": [
       "array(['2012', '2010', '2011', '2009', '2013', '2015', '2014', <NA>,\n",
       "       '2007', '2016', '2008', '2003', '2001', '2004', '2006', '2005',\n",
       "       '2002', '1887', '1999', '1991', '1997', '2000', '2017', '1996',\n",
       "       '1998', '1995', '1994', '1992', '1990', '1988', '1872', '1989',\n",
       "       '1993', '1882', '1985', '1904', '1986', '1987', '1919', '1945'],\n",
       "      dtype=object)"
      ]
     },
     "execution_count": 15,
     "metadata": {},
     "output_type": "execute_result"
    }
   ],
   "source": [
    "wine_df['vintage'].unique()"
   ]
  },
  {
   "cell_type": "code",
   "execution_count": 16,
   "id": "6abe9afc-fb2d-4ee1-826d-c7e2b1bb1c12",
   "metadata": {},
   "outputs": [
    {
     "name": "stdout",
     "output_type": "stream",
     "text": [
      "<class 'pandas.core.frame.DataFrame'>\n",
      "RangeIndex: 77931 entries, 0 to 77930\n",
      "Data columns (total 5 columns):\n",
      " #   Column   Non-Null Count  Dtype \n",
      "---  ------   --------------  ----- \n",
      " 0   country  77931 non-null  object\n",
      " 1   price    77931 non-null  int64 \n",
      " 2   variety  77931 non-null  object\n",
      " 3   vintage  75256 non-null  object\n",
      " 4   target   77931 non-null  bool  \n",
      "dtypes: bool(1), int64(1), object(3)\n",
      "memory usage: 2.5+ MB\n"
     ]
    }
   ],
   "source": [
    "wine_df.info()"
   ]
  },
  {
   "cell_type": "code",
   "execution_count": 18,
   "id": "2734342b-e4d6-445c-bd07-7ead843ad4fa",
   "metadata": {},
   "outputs": [
    {
     "data": {
      "text/html": [
       "<div>\n",
       "<style scoped>\n",
       "    .dataframe tbody tr th:only-of-type {\n",
       "        vertical-align: middle;\n",
       "    }\n",
       "\n",
       "    .dataframe tbody tr th {\n",
       "        vertical-align: top;\n",
       "    }\n",
       "\n",
       "    .dataframe thead th {\n",
       "        text-align: right;\n",
       "    }\n",
       "</style>\n",
       "<table border=\"1\" class=\"dataframe\">\n",
       "  <thead>\n",
       "    <tr style=\"text-align: right;\">\n",
       "      <th></th>\n",
       "      <th>price</th>\n",
       "      <th>target</th>\n",
       "      <th>country_Argentina</th>\n",
       "      <th>country_Australia</th>\n",
       "      <th>country_Canada</th>\n",
       "      <th>country_France</th>\n",
       "      <th>country_Italy</th>\n",
       "      <th>country_Spain</th>\n",
       "      <th>country_US</th>\n",
       "      <th>variety_Bordeaux-style Red Blend</th>\n",
       "      <th>...</th>\n",
       "      <th>vintage_2008</th>\n",
       "      <th>vintage_2009</th>\n",
       "      <th>vintage_2010</th>\n",
       "      <th>vintage_2011</th>\n",
       "      <th>vintage_2012</th>\n",
       "      <th>vintage_2013</th>\n",
       "      <th>vintage_2014</th>\n",
       "      <th>vintage_2015</th>\n",
       "      <th>vintage_2016</th>\n",
       "      <th>vintage_2017</th>\n",
       "    </tr>\n",
       "  </thead>\n",
       "  <tbody>\n",
       "    <tr>\n",
       "      <th>0</th>\n",
       "      <td>27</td>\n",
       "      <td>False</td>\n",
       "      <td>0</td>\n",
       "      <td>0</td>\n",
       "      <td>0</td>\n",
       "      <td>1</td>\n",
       "      <td>0</td>\n",
       "      <td>0</td>\n",
       "      <td>0</td>\n",
       "      <td>0</td>\n",
       "      <td>...</td>\n",
       "      <td>0</td>\n",
       "      <td>0</td>\n",
       "      <td>0</td>\n",
       "      <td>0</td>\n",
       "      <td>1</td>\n",
       "      <td>0</td>\n",
       "      <td>0</td>\n",
       "      <td>0</td>\n",
       "      <td>0</td>\n",
       "      <td>0</td>\n",
       "    </tr>\n",
       "    <tr>\n",
       "      <th>1</th>\n",
       "      <td>50</td>\n",
       "      <td>False</td>\n",
       "      <td>0</td>\n",
       "      <td>0</td>\n",
       "      <td>0</td>\n",
       "      <td>0</td>\n",
       "      <td>0</td>\n",
       "      <td>0</td>\n",
       "      <td>1</td>\n",
       "      <td>0</td>\n",
       "      <td>...</td>\n",
       "      <td>0</td>\n",
       "      <td>0</td>\n",
       "      <td>1</td>\n",
       "      <td>0</td>\n",
       "      <td>0</td>\n",
       "      <td>0</td>\n",
       "      <td>0</td>\n",
       "      <td>0</td>\n",
       "      <td>0</td>\n",
       "      <td>0</td>\n",
       "    </tr>\n",
       "    <tr>\n",
       "      <th>2</th>\n",
       "      <td>19</td>\n",
       "      <td>False</td>\n",
       "      <td>0</td>\n",
       "      <td>0</td>\n",
       "      <td>0</td>\n",
       "      <td>0</td>\n",
       "      <td>0</td>\n",
       "      <td>0</td>\n",
       "      <td>1</td>\n",
       "      <td>0</td>\n",
       "      <td>...</td>\n",
       "      <td>0</td>\n",
       "      <td>0</td>\n",
       "      <td>0</td>\n",
       "      <td>1</td>\n",
       "      <td>0</td>\n",
       "      <td>0</td>\n",
       "      <td>0</td>\n",
       "      <td>0</td>\n",
       "      <td>0</td>\n",
       "      <td>0</td>\n",
       "    </tr>\n",
       "    <tr>\n",
       "      <th>3</th>\n",
       "      <td>20</td>\n",
       "      <td>False</td>\n",
       "      <td>0</td>\n",
       "      <td>0</td>\n",
       "      <td>0</td>\n",
       "      <td>0</td>\n",
       "      <td>0</td>\n",
       "      <td>0</td>\n",
       "      <td>1</td>\n",
       "      <td>0</td>\n",
       "      <td>...</td>\n",
       "      <td>0</td>\n",
       "      <td>0</td>\n",
       "      <td>0</td>\n",
       "      <td>1</td>\n",
       "      <td>0</td>\n",
       "      <td>0</td>\n",
       "      <td>0</td>\n",
       "      <td>0</td>\n",
       "      <td>0</td>\n",
       "      <td>0</td>\n",
       "    </tr>\n",
       "    <tr>\n",
       "      <th>4</th>\n",
       "      <td>21</td>\n",
       "      <td>False</td>\n",
       "      <td>0</td>\n",
       "      <td>0</td>\n",
       "      <td>0</td>\n",
       "      <td>0</td>\n",
       "      <td>1</td>\n",
       "      <td>0</td>\n",
       "      <td>0</td>\n",
       "      <td>0</td>\n",
       "      <td>...</td>\n",
       "      <td>0</td>\n",
       "      <td>0</td>\n",
       "      <td>1</td>\n",
       "      <td>0</td>\n",
       "      <td>0</td>\n",
       "      <td>0</td>\n",
       "      <td>0</td>\n",
       "      <td>0</td>\n",
       "      <td>0</td>\n",
       "      <td>0</td>\n",
       "    </tr>\n",
       "  </tbody>\n",
       "</table>\n",
       "<p>5 rows × 69 columns</p>\n",
       "</div>"
      ],
      "text/plain": [
       "   price  target  country_Argentina  country_Australia  country_Canada  \\\n",
       "0     27   False                  0                  0               0   \n",
       "1     50   False                  0                  0               0   \n",
       "2     19   False                  0                  0               0   \n",
       "3     20   False                  0                  0               0   \n",
       "4     21   False                  0                  0               0   \n",
       "\n",
       "   country_France  country_Italy  country_Spain  country_US  \\\n",
       "0               1              0              0           0   \n",
       "1               0              0              0           1   \n",
       "2               0              0              0           1   \n",
       "3               0              0              0           1   \n",
       "4               0              1              0           0   \n",
       "\n",
       "   variety_Bordeaux-style Red Blend  ...  vintage_2008  vintage_2009  \\\n",
       "0                                 0  ...             0             0   \n",
       "1                                 0  ...             0             0   \n",
       "2                                 0  ...             0             0   \n",
       "3                                 0  ...             0             0   \n",
       "4                                 0  ...             0             0   \n",
       "\n",
       "   vintage_2010  vintage_2011  vintage_2012  vintage_2013  vintage_2014  \\\n",
       "0             0             0             1             0             0   \n",
       "1             1             0             0             0             0   \n",
       "2             0             1             0             0             0   \n",
       "3             0             1             0             0             0   \n",
       "4             1             0             0             0             0   \n",
       "\n",
       "   vintage_2015  vintage_2016  vintage_2017  \n",
       "0             0             0             0  \n",
       "1             0             0             0  \n",
       "2             0             0             0  \n",
       "3             0             0             0  \n",
       "4             0             0             0  \n",
       "\n",
       "[5 rows x 69 columns]"
      ]
     },
     "execution_count": 18,
     "metadata": {},
     "output_type": "execute_result"
    }
   ],
   "source": [
    "# Convert categorical data to numeric with `pd.get_dummies`\n",
    "wine_dummies_df = pd.get_dummies(wine_df, dtype = int)\n",
    "wine_dummies_df.head()"
   ]
  },
  {
   "cell_type": "code",
   "execution_count": 19,
   "id": "abb8ba7a-add6-4d31-b856-05cd6a9e9721",
   "metadata": {
    "scrolled": true
   },
   "outputs": [
    {
     "name": "stdout",
     "output_type": "stream",
     "text": [
      "<class 'pandas.core.frame.DataFrame'>\n",
      "RangeIndex: 77931 entries, 0 to 77930\n",
      "Data columns (total 69 columns):\n",
      " #   Column                            Non-Null Count  Dtype\n",
      "---  ------                            --------------  -----\n",
      " 0   price                             77931 non-null  int64\n",
      " 1   target                            77931 non-null  bool \n",
      " 2   country_Argentina                 77931 non-null  int32\n",
      " 3   country_Australia                 77931 non-null  int32\n",
      " 4   country_Canada                    77931 non-null  int32\n",
      " 5   country_France                    77931 non-null  int32\n",
      " 6   country_Italy                     77931 non-null  int32\n",
      " 7   country_Spain                     77931 non-null  int32\n",
      " 8   country_US                        77931 non-null  int32\n",
      " 9   variety_Bordeaux-style Red Blend  77931 non-null  int32\n",
      " 10  variety_Cabernet Franc            77931 non-null  int32\n",
      " 11  variety_Cabernet Sauvignon        77931 non-null  int32\n",
      " 12  variety_Champagne Blend           77931 non-null  int32\n",
      " 13  variety_Chardonnay                77931 non-null  int32\n",
      " 14  variety_Malbec                    77931 non-null  int32\n",
      " 15  variety_Merlot                    77931 non-null  int32\n",
      " 16  variety_Nebbiolo                  77931 non-null  int32\n",
      " 17  variety_Pinot Gris                77931 non-null  int32\n",
      " 18  variety_Pinot Noir                77931 non-null  int32\n",
      " 19  variety_Red Blend                 77931 non-null  int32\n",
      " 20  variety_Rhône-style Red Blend     77931 non-null  int32\n",
      " 21  variety_Riesling                  77931 non-null  int32\n",
      " 22  variety_Rosé                      77931 non-null  int32\n",
      " 23  variety_Sangiovese                77931 non-null  int32\n",
      " 24  variety_Sauvignon Blanc           77931 non-null  int32\n",
      " 25  variety_Sparkling Blend           77931 non-null  int32\n",
      " 26  variety_Syrah                     77931 non-null  int32\n",
      " 27  variety_Tempranillo               77931 non-null  int32\n",
      " 28  variety_White Blend               77931 non-null  int32\n",
      " 29  variety_Zinfandel                 77931 non-null  int32\n",
      " 30  vintage_1872                      77931 non-null  int32\n",
      " 31  vintage_1882                      77931 non-null  int32\n",
      " 32  vintage_1887                      77931 non-null  int32\n",
      " 33  vintage_1904                      77931 non-null  int32\n",
      " 34  vintage_1919                      77931 non-null  int32\n",
      " 35  vintage_1945                      77931 non-null  int32\n",
      " 36  vintage_1985                      77931 non-null  int32\n",
      " 37  vintage_1986                      77931 non-null  int32\n",
      " 38  vintage_1987                      77931 non-null  int32\n",
      " 39  vintage_1988                      77931 non-null  int32\n",
      " 40  vintage_1989                      77931 non-null  int32\n",
      " 41  vintage_1990                      77931 non-null  int32\n",
      " 42  vintage_1991                      77931 non-null  int32\n",
      " 43  vintage_1992                      77931 non-null  int32\n",
      " 44  vintage_1993                      77931 non-null  int32\n",
      " 45  vintage_1994                      77931 non-null  int32\n",
      " 46  vintage_1995                      77931 non-null  int32\n",
      " 47  vintage_1996                      77931 non-null  int32\n",
      " 48  vintage_1997                      77931 non-null  int32\n",
      " 49  vintage_1998                      77931 non-null  int32\n",
      " 50  vintage_1999                      77931 non-null  int32\n",
      " 51  vintage_2000                      77931 non-null  int32\n",
      " 52  vintage_2001                      77931 non-null  int32\n",
      " 53  vintage_2002                      77931 non-null  int32\n",
      " 54  vintage_2003                      77931 non-null  int32\n",
      " 55  vintage_2004                      77931 non-null  int32\n",
      " 56  vintage_2005                      77931 non-null  int32\n",
      " 57  vintage_2006                      77931 non-null  int32\n",
      " 58  vintage_2007                      77931 non-null  int32\n",
      " 59  vintage_2008                      77931 non-null  int32\n",
      " 60  vintage_2009                      77931 non-null  int32\n",
      " 61  vintage_2010                      77931 non-null  int32\n",
      " 62  vintage_2011                      77931 non-null  int32\n",
      " 63  vintage_2012                      77931 non-null  int32\n",
      " 64  vintage_2013                      77931 non-null  int32\n",
      " 65  vintage_2014                      77931 non-null  int32\n",
      " 66  vintage_2015                      77931 non-null  int32\n",
      " 67  vintage_2016                      77931 non-null  int32\n",
      " 68  vintage_2017                      77931 non-null  int32\n",
      "dtypes: bool(1), int32(67), int64(1)\n",
      "memory usage: 20.6 MB\n"
     ]
    }
   ],
   "source": [
    "wine_dummies_df.info()"
   ]
  },
  {
   "cell_type": "markdown",
   "id": "148586ce-13c1-4c59-a269-edccc3bdcf59",
   "metadata": {},
   "source": [
    "## Deep Learning"
   ]
  },
  {
   "cell_type": "markdown",
   "id": "af4129ce",
   "metadata": {},
   "source": [
    "### Creating same X_train/X_test groups from model traiing and testing"
   ]
  },
  {
   "cell_type": "code",
   "execution_count": 20,
   "id": "cdb4619d-dddb-4e45-8bbb-ce22a0cd09df",
   "metadata": {},
   "outputs": [],
   "source": [
    "# Split our preprocessed data into our features and target arrays\n",
    "y = wine_dummies_df['target']\n",
    "X = wine_dummies_df.drop (columns = 'target')\n",
    "\n",
    "# Split the preprocessed data into a training and testing dataset\n",
    "X_train, X_test, y_train, y_test = train_test_split(X, y, random_state=78)"
   ]
  },
  {
   "cell_type": "code",
   "execution_count": 21,
   "id": "45478992-5c58-405a-93d3-50d17650c8c5",
   "metadata": {},
   "outputs": [],
   "source": [
    "# Create a StandardScaler instances\n",
    "scaler = StandardScaler()\n",
    "\n",
    "# Fit the StandardScaler\n",
    "X_scaler = scaler.fit(X_train)\n",
    "\n",
    "# Scale the data\n",
    "X_train_scaled = X_scaler.transform(X_train)\n",
    "X_test_scaled = X_scaler.transform(X_test)"
   ]
  },
  {
   "cell_type": "code",
   "execution_count": 22,
   "id": "07f8b873",
   "metadata": {},
   "outputs": [
    {
     "name": "stderr",
     "output_type": "stream",
     "text": [
      "WARNING:absl:Compiled the loaded model, but the compiled metrics have yet to be built. `model.compile_metrics` will be empty until you train or evaluate the model.\n"
     ]
    }
   ],
   "source": [
    "#Loading trained model\n",
    "loaded_model = tf.keras.models.load_model('../model.h5')"
   ]
  },
  {
   "cell_type": "code",
   "execution_count": 24,
   "id": "f97c0f60",
   "metadata": {},
   "outputs": [],
   "source": [
    "# Compile the model\n",
    "loaded_model.compile(loss=\"binary_crossentropy\", optimizer=\"adam\", metrics=[\"accuracy\"])"
   ]
  },
  {
   "cell_type": "code",
   "execution_count": 25,
   "id": "2d40ccd8",
   "metadata": {},
   "outputs": [
    {
     "name": "stdout",
     "output_type": "stream",
     "text": [
      "609/609 - 1s - 2ms/step - accuracy: 0.7601 - loss: 0.4843\n",
      "Loss: 0.48433375358581543, Accuracy: 0.7600985765457153\n"
     ]
    }
   ],
   "source": [
    "# Evaluate the model using the test data\n",
    "model_loss, model_accuracy = loaded_model.evaluate(X_test_scaled,y_test,verbose=2)\n",
    "print(f\"Loss: {model_loss}, Accuracy: {model_accuracy}\")"
   ]
  },
  {
   "cell_type": "code",
   "execution_count": 26,
   "id": "78915614",
   "metadata": {},
   "outputs": [
    {
     "name": "stdout",
     "output_type": "stream",
     "text": [
      "\u001b[1m609/609\u001b[0m \u001b[32m━━━━━━━━━━━━━━━━━━━━\u001b[0m\u001b[37m\u001b[0m \u001b[1m1s\u001b[0m 2ms/step\n"
     ]
    },
    {
     "data": {
      "text/plain": [
       "array([[0.87382543],\n",
       "       [0.18974209],\n",
       "       [0.20263824],\n",
       "       ...,\n",
       "       [0.24701363],\n",
       "       [0.4866395 ],\n",
       "       [0.5457623 ]], dtype=float32)"
      ]
     },
     "execution_count": 26,
     "metadata": {},
     "output_type": "execute_result"
    }
   ],
   "source": [
    "predictions = loaded_model.predict(X_test_scaled)\n",
    "predictions"
   ]
  },
  {
   "cell_type": "code",
   "execution_count": 34,
   "id": "fa2fae2f",
   "metadata": {},
   "outputs": [
    {
     "data": {
      "text/html": [
       "<div>\n",
       "<style scoped>\n",
       "    .dataframe tbody tr th:only-of-type {\n",
       "        vertical-align: middle;\n",
       "    }\n",
       "\n",
       "    .dataframe tbody tr th {\n",
       "        vertical-align: top;\n",
       "    }\n",
       "\n",
       "    .dataframe thead th {\n",
       "        text-align: right;\n",
       "    }\n",
       "</style>\n",
       "<table border=\"1\" class=\"dataframe\">\n",
       "  <thead>\n",
       "    <tr style=\"text-align: right;\">\n",
       "      <th></th>\n",
       "      <th>prob</th>\n",
       "    </tr>\n",
       "  </thead>\n",
       "  <tbody>\n",
       "    <tr>\n",
       "      <th>0</th>\n",
       "      <td>0.873825</td>\n",
       "    </tr>\n",
       "    <tr>\n",
       "      <th>1</th>\n",
       "      <td>0.189742</td>\n",
       "    </tr>\n",
       "    <tr>\n",
       "      <th>2</th>\n",
       "      <td>0.202638</td>\n",
       "    </tr>\n",
       "    <tr>\n",
       "      <th>3</th>\n",
       "      <td>0.892877</td>\n",
       "    </tr>\n",
       "    <tr>\n",
       "      <th>4</th>\n",
       "      <td>0.718307</td>\n",
       "    </tr>\n",
       "  </tbody>\n",
       "</table>\n",
       "</div>"
      ],
      "text/plain": [
       "       prob\n",
       "0  0.873825\n",
       "1  0.189742\n",
       "2  0.202638\n",
       "3  0.892877\n",
       "4  0.718307"
      ]
     },
     "execution_count": 34,
     "metadata": {},
     "output_type": "execute_result"
    }
   ],
   "source": [
    "pred_df = pd.DataFrame(predictions, columns = ['prob'])\n",
    "\n",
    "pred_df.head()"
   ]
  },
  {
   "cell_type": "code",
   "execution_count": 28,
   "id": "00a8d2cb",
   "metadata": {},
   "outputs": [],
   "source": [
    "def threshold(prob): \n",
    "    if prob < .5: \n",
    "        return False\n",
    "    else: \n",
    "        return True"
   ]
  },
  {
   "cell_type": "code",
   "execution_count": 38,
   "id": "5c192c18",
   "metadata": {},
   "outputs": [],
   "source": [
    "pred_df['prediction'] = pred_df.apply(lambda x: threshold(x['prob']), axis = 1)"
   ]
  },
  {
   "cell_type": "code",
   "execution_count": 39,
   "id": "d68676ff",
   "metadata": {},
   "outputs": [
    {
     "data": {
      "text/html": [
       "<div>\n",
       "<style scoped>\n",
       "    .dataframe tbody tr th:only-of-type {\n",
       "        vertical-align: middle;\n",
       "    }\n",
       "\n",
       "    .dataframe tbody tr th {\n",
       "        vertical-align: top;\n",
       "    }\n",
       "\n",
       "    .dataframe thead th {\n",
       "        text-align: right;\n",
       "    }\n",
       "</style>\n",
       "<table border=\"1\" class=\"dataframe\">\n",
       "  <thead>\n",
       "    <tr style=\"text-align: right;\">\n",
       "      <th></th>\n",
       "      <th>prob</th>\n",
       "      <th>prediction</th>\n",
       "    </tr>\n",
       "  </thead>\n",
       "  <tbody>\n",
       "    <tr>\n",
       "      <th>0</th>\n",
       "      <td>0.873825</td>\n",
       "      <td>True</td>\n",
       "    </tr>\n",
       "    <tr>\n",
       "      <th>1</th>\n",
       "      <td>0.189742</td>\n",
       "      <td>False</td>\n",
       "    </tr>\n",
       "    <tr>\n",
       "      <th>2</th>\n",
       "      <td>0.202638</td>\n",
       "      <td>False</td>\n",
       "    </tr>\n",
       "    <tr>\n",
       "      <th>3</th>\n",
       "      <td>0.892877</td>\n",
       "      <td>True</td>\n",
       "    </tr>\n",
       "    <tr>\n",
       "      <th>4</th>\n",
       "      <td>0.718307</td>\n",
       "      <td>True</td>\n",
       "    </tr>\n",
       "    <tr>\n",
       "      <th>...</th>\n",
       "      <td>...</td>\n",
       "      <td>...</td>\n",
       "    </tr>\n",
       "    <tr>\n",
       "      <th>19478</th>\n",
       "      <td>0.695797</td>\n",
       "      <td>True</td>\n",
       "    </tr>\n",
       "    <tr>\n",
       "      <th>19479</th>\n",
       "      <td>0.251033</td>\n",
       "      <td>False</td>\n",
       "    </tr>\n",
       "    <tr>\n",
       "      <th>19480</th>\n",
       "      <td>0.247014</td>\n",
       "      <td>False</td>\n",
       "    </tr>\n",
       "    <tr>\n",
       "      <th>19481</th>\n",
       "      <td>0.486639</td>\n",
       "      <td>False</td>\n",
       "    </tr>\n",
       "    <tr>\n",
       "      <th>19482</th>\n",
       "      <td>0.545762</td>\n",
       "      <td>True</td>\n",
       "    </tr>\n",
       "  </tbody>\n",
       "</table>\n",
       "<p>19483 rows × 2 columns</p>\n",
       "</div>"
      ],
      "text/plain": [
       "           prob  prediction\n",
       "0      0.873825        True\n",
       "1      0.189742       False\n",
       "2      0.202638       False\n",
       "3      0.892877        True\n",
       "4      0.718307        True\n",
       "...         ...         ...\n",
       "19478  0.695797        True\n",
       "19479  0.251033       False\n",
       "19480  0.247014       False\n",
       "19481  0.486639       False\n",
       "19482  0.545762        True\n",
       "\n",
       "[19483 rows x 2 columns]"
      ]
     },
     "execution_count": 39,
     "metadata": {},
     "output_type": "execute_result"
    }
   ],
   "source": [
    "pred_df"
   ]
  },
  {
   "cell_type": "code",
   "execution_count": 31,
   "id": "f2be91cb",
   "metadata": {},
   "outputs": [
    {
     "data": {
      "text/plain": [
       "0        False\n",
       "1         True\n",
       "2        False\n",
       "3         True\n",
       "4        False\n",
       "         ...  \n",
       "19478    False\n",
       "19479    False\n",
       "19480    False\n",
       "19481    False\n",
       "19482     True\n",
       "Name: target, Length: 19483, dtype: bool"
      ]
     },
     "execution_count": 31,
     "metadata": {},
     "output_type": "execute_result"
    }
   ],
   "source": [
    "y_test = y_test.reset_index(drop = True)\n",
    "y_test"
   ]
  },
  {
   "cell_type": "code",
   "execution_count": 40,
   "id": "e0eda892",
   "metadata": {},
   "outputs": [
    {
     "data": {
      "text/plain": [
       "<tf.Tensor: shape=(2, 2), dtype=int32, numpy=\n",
       "array([[9739, 1964],\n",
       "       [2710, 5070]])>"
      ]
     },
     "execution_count": 40,
     "metadata": {},
     "output_type": "execute_result"
    }
   ],
   "source": [
    "cf_matrix = tf.math.confusion_matrix(y_test,pred_df['prediction'])\n",
    "cf_matrix"
   ]
  },
  {
   "cell_type": "code",
   "execution_count": 41,
   "id": "64f2dc75",
   "metadata": {},
   "outputs": [],
   "source": [
    "cf_matrix_np = cf_matrix.numpy()"
   ]
  },
  {
   "cell_type": "code",
   "execution_count": 52,
   "id": "bab47254",
   "metadata": {},
   "outputs": [
    {
     "data": {
      "text/plain": [
       "array([[9739, 1964],\n",
       "       [2710, 5070]])"
      ]
     },
     "execution_count": 52,
     "metadata": {},
     "output_type": "execute_result"
    }
   ],
   "source": [
    "cf_matrix_np"
   ]
  },
  {
   "cell_type": "code",
   "execution_count": 51,
   "id": "1f118a2b",
   "metadata": {},
   "outputs": [
    {
     "data": {
      "text/plain": [
       "9739"
      ]
     },
     "execution_count": 51,
     "metadata": {},
     "output_type": "execute_result"
    }
   ],
   "source": [
    "cf_matrix_np[0][0]"
   ]
  },
  {
   "cell_type": "code",
   "execution_count": 103,
   "id": "f9f77572",
   "metadata": {},
   "outputs": [
    {
     "data": {
      "image/png": "[encoded data removed]",
      "text/plain": [
       "<Figure size 800x600 with 1 Axes>"
      ]
     },
     "metadata": {},
     "output_type": "display_data"
    }
   ],
   "source": [
    "plt.figure(figsize=(8, 6))\n",
    "text_size = {'size': 15}\n",
    "fig = sns.heatmap(cf_matrix_np, fmt = '4', cbar = False, linewidth = 3, cmap = 'rocket',\n",
    "    xticklabels = ['< 90', ' > = 90'], yticklabels = ['< 90','>= 90'], vmax = 20000,\n",
    "    annot = [[f\"True Negative\\n{cf_matrix_np[0][0]}\",f\"False Positive\\n{cf_matrix_np[0][1]}\"],\n",
    "            [f\"False Negative\\n{cf_matrix_np[1][0]}\",f\"True Positive\\n{cf_matrix_np[1][1]}\"]],\n",
    "              annot_kws=text_size)\n",
    "plt.xlabel('Prediction', fontsize = 16)\n",
    "plt.ylabel('Target / Actual', fontsize = 16)\n",
    "fig.xaxis.set_ticks_position(\"top\")\n",
    "fig.xaxis.set_label_position('top') \n",
    "plt.yticks(fontsize=14)\n",
    "plt.xticks(fontsize = 14)\n",
    "\n",
    "plt.savefig('../../Flask_app/static/img/confusion_matrix.png', transparent = True)\n",
    "plt.show()"
   ]
  }
 ],
 "metadata": {
  "kernelspec": {
   "display_name": "Python 3 (ipykernel)",
   "language": "python",
   "name": "python3"
  },
  "language_info": {
   "codemirror_mode": {
    "name": "ipython",
    "version": 3
   },
   "file_extension": ".py",
   "mimetype": "text/x-python",
   "name": "python",
   "nbconvert_exporter": "python",
   "pygments_lexer": "ipython3",
   "version": "3.9.18"
  }
 },
 "nbformat": 4,
 "nbformat_minor": 5
}
